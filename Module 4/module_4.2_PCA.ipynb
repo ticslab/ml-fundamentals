{
  "nbformat": 4,
  "nbformat_minor": 0,
  "metadata": {
    "colab": {
      "provenance": [],
      "toc_visible": true
    },
    "kernelspec": {
      "name": "python3",
      "display_name": "Python 3"
    },
    "language_info": {
      "name": "python"
    }
  },
  "cells": [
    {
      "cell_type": "markdown",
      "source": [
        "# PCA. Снижение размерности пространства признаков"
      ],
      "metadata": {
        "id": "pi__PfirA_kz"
      }
    },
    {
      "cell_type": "markdown",
      "source": [
        "## Импорт набора данных и необходимых библиотек\n"
      ],
      "metadata": {
        "id": "wRk6RqmlvYur"
      }
    },
    {
      "cell_type": "code",
      "source": [
        "import pandas as pd\n",
        "import numpy as np\n",
        "import matplotlib.pyplot as plt"
      ],
      "metadata": {
        "id": "ge-s4kg6-Wms"
      },
      "execution_count": null,
      "outputs": []
    },
    {
      "cell_type": "code",
      "execution_count": null,
      "metadata": {
        "id": "PO1rPU9g1x1W"
      },
      "outputs": [],
      "source": [
        "df = pd.read_csv(\"data/bottle.csv\")"
      ]
    },
    {
      "cell_type": "code",
      "source": [
        "df.info()"
      ],
      "metadata": {
        "colab": {
          "base_uri": "https://localhost:8080/"
        },
        "id": "KQLybt4CRCb4",
        "outputId": "24d8431e-153d-49f1-ba29-fc18a3976748"
      },
      "execution_count": null,
      "outputs": [
        {
          "output_type": "stream",
          "name": "stdout",
          "text": [
            "<class 'pandas.core.frame.DataFrame'>\n",
            "RangeIndex: 74156 entries, 0 to 74155\n",
            "Data columns (total 74 columns):\n",
            " #   Column               Non-Null Count  Dtype  \n",
            "---  ------               --------------  -----  \n",
            " 0   Cst_Cnt              74156 non-null  int64  \n",
            " 1   Btl_Cnt              74156 non-null  int64  \n",
            " 2   Sta_ID               74156 non-null  object \n",
            " 3   Depth_ID             74156 non-null  object \n",
            " 4   Depthm               74156 non-null  int64  \n",
            " 5   T_degC               73684 non-null  float64\n",
            " 6   Salnty               66837 non-null  float64\n",
            " 7   O2ml_L               66744 non-null  float64\n",
            " 8   STheta               66515 non-null  float64\n",
            " 9   O2Sat                61058 non-null  float64\n",
            " 10  Oxy_µmol/Kg          61058 non-null  float64\n",
            " 11  BtlNum               0 non-null      float64\n",
            " 12  RecInd               74156 non-null  int64  \n",
            " 13  T_prec               73684 non-null  float64\n",
            " 14  T_qual               653 non-null    float64\n",
            " 15  S_prec               66837 non-null  float64\n",
            " 16  S_qual               7849 non-null   float64\n",
            " 17  P_qual               74156 non-null  int64  \n",
            " 18  O_qual               7830 non-null   float64\n",
            " 19  SThtaq               8320 non-null   float64\n",
            " 20  O2Satq               13959 non-null  float64\n",
            " 21  ChlorA               0 non-null      float64\n",
            " 22  Chlqua               74156 non-null  int64  \n",
            " 23  Phaeop               0 non-null      float64\n",
            " 24  Phaqua               74156 non-null  int64  \n",
            " 25  PO4uM                40389 non-null  float64\n",
            " 26  PO4q                 33767 non-null  float64\n",
            " 27  SiO3uM               0 non-null      float64\n",
            " 28  SiO3qu               74156 non-null  int64  \n",
            " 29  NO2uM                0 non-null      float64\n",
            " 30  NO2q                 74156 non-null  int64  \n",
            " 31  NO3uM                0 non-null      float64\n",
            " 32  NO3q                 74156 non-null  int64  \n",
            " 33  NH3uM                0 non-null      float64\n",
            " 34  NH3q                 74156 non-null  int64  \n",
            " 35  C14As1               0 non-null      float64\n",
            " 36  C14A1p               0 non-null      float64\n",
            " 37  C14A1q               74156 non-null  int64  \n",
            " 38  C14As2               0 non-null      float64\n",
            " 39  C14A2p               0 non-null      float64\n",
            " 40  C14A2q               74156 non-null  int64  \n",
            " 41  DarkAs               0 non-null      float64\n",
            " 42  DarkAp               0 non-null      float64\n",
            " 43  DarkAq               74156 non-null  int64  \n",
            " 44  MeanAs               0 non-null      float64\n",
            " 45  MeanAp               0 non-null      float64\n",
            " 46  MeanAq               74156 non-null  int64  \n",
            " 47  IncTim               0 non-null      float64\n",
            " 48  LightP               0 non-null      float64\n",
            " 49  R_Depth              74156 non-null  float64\n",
            " 50  R_TEMP               73684 non-null  float64\n",
            " 51  R_POTEMP             66429 non-null  float64\n",
            " 52  R_SALINITY           66837 non-null  float64\n",
            " 53  R_SIGMA              65836 non-null  float64\n",
            " 54  R_SVA                65836 non-null  float64\n",
            " 55  R_DYNHT              66763 non-null  float64\n",
            " 56  R_O2                 66744 non-null  float64\n",
            " 57  R_O2Sat              60993 non-null  float64\n",
            " 58  R_SIO3               0 non-null      float64\n",
            " 59  R_PO4                40389 non-null  float64\n",
            " 60  R_NO3                0 non-null      float64\n",
            " 61  R_NO2                0 non-null      float64\n",
            " 62  R_NH4                0 non-null      float64\n",
            " 63  R_CHLA               0 non-null      float64\n",
            " 64  R_PHAEO              0 non-null      float64\n",
            " 65  R_PRES               74155 non-null  float64\n",
            " 66  R_SAMP               0 non-null      float64\n",
            " 67  DIC1                 0 non-null      float64\n",
            " 68  DIC2                 0 non-null      float64\n",
            " 69  TA1                  0 non-null      float64\n",
            " 70  TA2                  0 non-null      float64\n",
            " 71  pH2                  0 non-null      float64\n",
            " 72  pH1                  0 non-null      float64\n",
            " 73  DIC Quality Comment  0 non-null      float64\n",
            "dtypes: float64(57), int64(15), object(2)\n",
            "memory usage: 41.9+ MB\n"
          ]
        }
      ]
    },
    {
      "cell_type": "markdown",
      "source": [
        "## Визуализация некоторых признаков"
      ],
      "metadata": {
        "id": "opEYObLQqJhl"
      }
    },
    {
      "cell_type": "code",
      "source": [
        "df.plot(kind=\"scatter\", x=\"O2ml_L\", y=\"O2Sat\", edgecolors='black')"
      ],
      "metadata": {
        "colab": {
          "base_uri": "https://localhost:8080/",
          "height": 502
        },
        "id": "bbhKPPXCE6nL",
        "outputId": "4b9b1cae-cd64-4c9a-be96-cbf71a51414d"
      },
      "execution_count": null,
      "outputs": [
        {
          "output_type": "stream",
          "name": "stderr",
          "text": [
            "/usr/local/lib/python3.9/dist-packages/pandas/plotting/_matplotlib/core.py:1114: UserWarning: No data for colormapping provided via 'c'. Parameters 'cmap' will be ignored\n",
            "  scatter = ax.scatter(\n"
          ]
        },
        {
          "output_type": "execute_result",
          "data": {
            "text/plain": [
              "<Axes: xlabel='O2ml_L', ylabel='O2Sat'>"
            ]
          },
          "metadata": {},
          "execution_count": 12
        },
        {
          "output_type": "display_data",
          "data": {
            "text/plain": [
              "<Figure size 640x480 with 1 Axes>"
            ],
            "image/png": "[encoded data removed]"
          },
          "metadata": {}
        }
      ]
    },
    {
      "cell_type": "code",
      "source": [
        "df.plot(kind=\"scatter\", x=\"Depthm\", y=\"R_DYNHT\", edgecolors='black')"
      ],
      "metadata": {
        "colab": {
          "base_uri": "https://localhost:8080/",
          "height": 466
        },
        "outputId": "b60a04da-137d-4d70-cd9d-f7cd4cecc7ab",
        "id": "Qpnv5soNGVzN"
      },
      "execution_count": null,
      "outputs": [
        {
          "output_type": "execute_result",
          "data": {
            "text/plain": [
              "<Axes: xlabel='Depthm', ylabel='R_DYNHT'>"
            ]
          },
          "metadata": {},
          "execution_count": 13
        },
        {
          "output_type": "display_data",
          "data": {
            "text/plain": [
              "<Figure size 640x480 with 1 Axes>"
            ],
            "image/png": "[encoded data removed]"
          },
          "metadata": {}
        }
      ]
    },
    {
      "cell_type": "code",
      "source": [
        "df.plot(kind=\"scatter\", x=\"STheta\", y=\"O2Sat\", edgecolors='black')"
      ],
      "metadata": {
        "colab": {
          "base_uri": "https://localhost:8080/",
          "height": 466
        },
        "id": "iYZo926jGpIg",
        "outputId": "f37ce301-6482-4ece-f64d-ff7e65f13af8"
      },
      "execution_count": null,
      "outputs": [
        {
          "output_type": "execute_result",
          "data": {
            "text/plain": [
              "<Axes: xlabel='STheta', ylabel='O2Sat'>"
            ]
          },
          "metadata": {},
          "execution_count": 14
        },
        {
          "output_type": "display_data",
          "data": {
            "text/plain": [
              "<Figure size 640x480 with 1 Axes>"
            ],
            "image/png": "[encoded data removed]"
          },
          "metadata": {}
        }
      ]
    },
    {
      "cell_type": "markdown",
      "source": [
        "## Подготовка данных"
      ],
      "metadata": {
        "id": "V7xGQL4qqdxp"
      }
    },
    {
      "cell_type": "code",
      "source": [
        "df=df.drop([\"Sta_ID\", \"Depth_ID\", \"IncTim\", \"DIC Quality Comment\", \"T_degC\"], axis=1)"
      ],
      "metadata": {
        "id": "8f998b5rB8Ue"
      },
      "execution_count": null,
      "outputs": []
    },
    {
      "cell_type": "code",
      "source": [
        "df=df.dropna(axis=1,how='all')"
      ],
      "metadata": {
        "id": "3EwXhM0BD1Ml"
      },
      "execution_count": null,
      "outputs": []
    },
    {
      "cell_type": "code",
      "source": [
        "df_null_values=df.isnull().sum()"
      ],
      "metadata": {
        "id": "gbE95xapCKgX"
      },
      "execution_count": null,
      "outputs": []
    },
    {
      "cell_type": "code",
      "source": [
        "df_null_values[df_null_values > 0]"
      ],
      "metadata": {
        "colab": {
          "base_uri": "https://localhost:8080/"
        },
        "id": "IgR8x5_QCZLa",
        "outputId": "83107de8-c6d3-4fb1-90ab-7c591f1bea5a"
      },
      "execution_count": null,
      "outputs": [
        {
          "output_type": "execute_result",
          "data": {
            "text/plain": [
              "Salnty          7319\n",
              "O2ml_L          7412\n",
              "STheta          7641\n",
              "O2Sat          13098\n",
              "Oxy_µmol/Kg    13098\n",
              "T_prec           472\n",
              "T_qual         73503\n",
              "S_prec          7319\n",
              "S_qual         66307\n",
              "O_qual         66326\n",
              "SThtaq         65836\n",
              "O2Satq         60197\n",
              "PO4uM          33767\n",
              "PO4q           40389\n",
              "R_TEMP           472\n",
              "R_POTEMP        7727\n",
              "R_SALINITY      7319\n",
              "R_SIGMA         8320\n",
              "R_SVA           8320\n",
              "R_DYNHT         7393\n",
              "R_O2            7412\n",
              "R_O2Sat        13163\n",
              "R_PO4          33767\n",
              "R_PRES             1\n",
              "dtype: int64"
            ]
          },
          "metadata": {},
          "execution_count": 7
        }
      ]
    },
    {
      "cell_type": "code",
      "source": [
        "df = df.fillna(df.mean())"
      ],
      "metadata": {
        "id": "6opHUtAnER0b"
      },
      "execution_count": null,
      "outputs": []
    },
    {
      "cell_type": "code",
      "source": [
        "df.head()"
      ],
      "metadata": {
        "colab": {
          "base_uri": "https://localhost:8080/",
          "height": 236
        },
        "id": "ey0lfmC0y5pH",
        "outputId": "9a567d66-6935-4361-83ab-73026daf9b8b"
      },
      "execution_count": null,
      "outputs": [
        {
          "output_type": "execute_result",
          "data": {
            "text/plain": [
              "   Cst_Cnt  Btl_Cnt  Depthm  Salnty    O2ml_L  STheta     O2Sat  Oxy_µmol/Kg  \\\n",
              "0        1        1       0  33.440  2.820626  25.649  46.44008   123.730076   \n",
              "1        1        2       8  33.440  2.820626  25.656  46.44008   123.730076   \n",
              "2        1        3      10  33.437  2.820626  25.654  46.44008   123.730076   \n",
              "3        1        4      19  33.420  2.820626  25.643  46.44008   123.730076   \n",
              "4        1        5      20  33.421  2.820626  25.643  46.44008   123.730076   \n",
              "\n",
              "   RecInd  T_prec  ...  R_TEMP  R_POTEMP  R_SALINITY  R_SIGMA  R_SVA  R_DYNHT  \\\n",
              "0       3     1.0  ...   10.50     10.50      33.440    25.64  233.0     0.00   \n",
              "1       3     2.0  ...   10.46     10.46      33.440    25.65  232.5     0.01   \n",
              "2       7     2.0  ...   10.46     10.46      33.437    25.65  232.8     0.02   \n",
              "3       3     2.0  ...   10.45     10.45      33.420    25.64  234.1     0.04   \n",
              "4       7     2.0  ...   10.45     10.45      33.421    25.64  234.0     0.04   \n",
              "\n",
              "       R_O2    R_O2Sat     R_PO4  R_PRES  \n",
              "0  2.820626  46.544531  2.016864     0.0  \n",
              "1  2.820626  46.544531  2.016864     8.0  \n",
              "2  2.820626  46.544531  2.016864    10.0  \n",
              "3  2.820626  46.544531  2.016864    19.0  \n",
              "4  2.820626  46.544531  2.016864    20.0  \n",
              "\n",
              "[5 rows x 40 columns]"
            ],
            "text/html": [
              "\n",
              "  <div id=\"df-39917942-de1e-472c-b080-ef53fda07826\">\n",
              "    <div class=\"colab-df-container\">\n",
              "      <div>\n",
              "<style scoped>\n",
              "    .dataframe tbody tr th:only-of-type {\n",
              "        vertical-align: middle;\n",
              "    }\n",
              "\n",
              "    .dataframe tbody tr th {\n",
              "        vertical-align: top;\n",
              "    }\n",
              "\n",
              "    .dataframe thead th {\n",
              "        text-align: right;\n",
              "    }\n",
              "</style>\n",
              "<table border=\"1\" class=\"dataframe\">\n",
              "  <thead>\n",
              "    <tr style=\"text-align: right;\">\n",
              "      <th></th>\n",
              "      <th>Cst_Cnt</th>\n",
              "      <th>Btl_Cnt</th>\n",
              "      <th>Depthm</th>\n",
              "      <th>Salnty</th>\n",
              "      <th>O2ml_L</th>\n",
              "      <th>STheta</th>\n",
              "      <th>O2Sat</th>\n",
              "      <th>Oxy_µmol/Kg</th>\n",
              "      <th>RecInd</th>\n",
              "      <th>T_prec</th>\n",
              "      <th>...</th>\n",
              "      <th>R_TEMP</th>\n",
              "      <th>R_POTEMP</th>\n",
              "      <th>R_SALINITY</th>\n",
              "      <th>R_SIGMA</th>\n",
              "      <th>R_SVA</th>\n",
              "      <th>R_DYNHT</th>\n",
              "      <th>R_O2</th>\n",
              "      <th>R_O2Sat</th>\n",
              "      <th>R_PO4</th>\n",
              "      <th>R_PRES</th>\n",
              "    </tr>\n",
              "  </thead>\n",
              "  <tbody>\n",
              "    <tr>\n",
              "      <th>0</th>\n",
              "      <td>1</td>\n",
              "      <td>1</td>\n",
              "      <td>0</td>\n",
              "      <td>33.440</td>\n",
              "      <td>2.820626</td>\n",
              "      <td>25.649</td>\n",
              "      <td>46.44008</td>\n",
              "      <td>123.730076</td>\n",
              "      <td>3</td>\n",
              "      <td>1.0</td>\n",
              "      <td>...</td>\n",
              "      <td>10.50</td>\n",
              "      <td>10.50</td>\n",
              "      <td>33.440</td>\n",
              "      <td>25.64</td>\n",
              "      <td>233.0</td>\n",
              "      <td>0.00</td>\n",
              "      <td>2.820626</td>\n",
              "      <td>46.544531</td>\n",
              "      <td>2.016864</td>\n",
              "      <td>0.0</td>\n",
              "    </tr>\n",
              "    <tr>\n",
              "      <th>1</th>\n",
              "      <td>1</td>\n",
              "      <td>2</td>\n",
              "      <td>8</td>\n",
              "      <td>33.440</td>\n",
              "      <td>2.820626</td>\n",
              "      <td>25.656</td>\n",
              "      <td>46.44008</td>\n",
              "      <td>123.730076</td>\n",
              "      <td>3</td>\n",
              "      <td>2.0</td>\n",
              "      <td>...</td>\n",
              "      <td>10.46</td>\n",
              "      <td>10.46</td>\n",
              "      <td>33.440</td>\n",
              "      <td>25.65</td>\n",
              "      <td>232.5</td>\n",
              "      <td>0.01</td>\n",
              "      <td>2.820626</td>\n",
              "      <td>46.544531</td>\n",
              "      <td>2.016864</td>\n",
              "      <td>8.0</td>\n",
              "    </tr>\n",
              "    <tr>\n",
              "      <th>2</th>\n",
              "      <td>1</td>\n",
              "      <td>3</td>\n",
              "      <td>10</td>\n",
              "      <td>33.437</td>\n",
              "      <td>2.820626</td>\n",
              "      <td>25.654</td>\n",
              "      <td>46.44008</td>\n",
              "      <td>123.730076</td>\n",
              "      <td>7</td>\n",
              "      <td>2.0</td>\n",
              "      <td>...</td>\n",
              "      <td>10.46</td>\n",
              "      <td>10.46</td>\n",
              "      <td>33.437</td>\n",
              "      <td>25.65</td>\n",
              "      <td>232.8</td>\n",
              "      <td>0.02</td>\n",
              "      <td>2.820626</td>\n",
              "      <td>46.544531</td>\n",
              "      <td>2.016864</td>\n",
              "      <td>10.0</td>\n",
              "    </tr>\n",
              "    <tr>\n",
              "      <th>3</th>\n",
              "      <td>1</td>\n",
              "      <td>4</td>\n",
              "      <td>19</td>\n",
              "      <td>33.420</td>\n",
              "      <td>2.820626</td>\n",
              "      <td>25.643</td>\n",
              "      <td>46.44008</td>\n",
              "      <td>123.730076</td>\n",
              "      <td>3</td>\n",
              "      <td>2.0</td>\n",
              "      <td>...</td>\n",
              "      <td>10.45</td>\n",
              "      <td>10.45</td>\n",
              "      <td>33.420</td>\n",
              "      <td>25.64</td>\n",
              "      <td>234.1</td>\n",
              "      <td>0.04</td>\n",
              "      <td>2.820626</td>\n",
              "      <td>46.544531</td>\n",
              "      <td>2.016864</td>\n",
              "      <td>19.0</td>\n",
              "    </tr>\n",
              "    <tr>\n",
              "      <th>4</th>\n",
              "      <td>1</td>\n",
              "      <td>5</td>\n",
              "      <td>20</td>\n",
              "      <td>33.421</td>\n",
              "      <td>2.820626</td>\n",
              "      <td>25.643</td>\n",
              "      <td>46.44008</td>\n",
              "      <td>123.730076</td>\n",
              "      <td>7</td>\n",
              "      <td>2.0</td>\n",
              "      <td>...</td>\n",
              "      <td>10.45</td>\n",
              "      <td>10.45</td>\n",
              "      <td>33.421</td>\n",
              "      <td>25.64</td>\n",
              "      <td>234.0</td>\n",
              "      <td>0.04</td>\n",
              "      <td>2.820626</td>\n",
              "      <td>46.544531</td>\n",
              "      <td>2.016864</td>\n",
              "      <td>20.0</td>\n",
              "    </tr>\n",
              "  </tbody>\n",
              "</table>\n",
              "<p>5 rows × 40 columns</p>\n",
              "</div>\n",
              "      <button class=\"colab-df-convert\" onclick=\"convertToInteractive('df-39917942-de1e-472c-b080-ef53fda07826')\"\n",
              "              title=\"Convert this dataframe to an interactive table.\"\n",
              "              style=\"display:none;\">\n",
              "        \n",
              "  <svg xmlns=\"http://www.w3.org/2000/svg\" height=\"24px\"viewBox=\"0 0 24 24\"\n",
              "       width=\"24px\">\n",
              "    <path d=\"M0 0h24v24H0V0z\" fill=\"none\"/>\n",
              "    <path d=\"M18.56 5.44l.94 2.06.94-2.06 2.06-.94-2.06-.94-.94-2.06-.94 2.06-2.06.94zm-11 1L8.5 8.5l.94-2.06 2.06-.94-2.06-.94L8.5 2.5l-.94 2.06-2.06.94zm10 10l.94 2.06.94-2.06 2.06-.94-2.06-.94-.94-2.06-.94 2.06-2.06.94z\"/><path d=\"M17.41 7.96l-1.37-1.37c-.4-.4-.92-.59-1.43-.59-.52 0-1.04.2-1.43.59L10.3 9.45l-7.72 7.72c-.78.78-.78 2.05 0 2.83L4 21.41c.39.39.9.59 1.41.59.51 0 1.02-.2 1.41-.59l7.78-7.78 2.81-2.81c.8-.78.8-2.07 0-2.86zM5.41 20L4 18.59l7.72-7.72 1.47 1.35L5.41 20z\"/>\n",
              "  </svg>\n",
              "      </button>\n",
              "      \n",
              "  <style>\n",
              "    .colab-df-container {\n",
              "      display:flex;\n",
              "      flex-wrap:wrap;\n",
              "      gap: 12px;\n",
              "    }\n",
              "\n",
              "    .colab-df-convert {\n",
              "      background-color: #E8F0FE;\n",
              "      border: none;\n",
              "      border-radius: 50%;\n",
              "      cursor: pointer;\n",
              "      display: none;\n",
              "      fill: #1967D2;\n",
              "      height: 32px;\n",
              "      padding: 0 0 0 0;\n",
              "      width: 32px;\n",
              "    }\n",
              "\n",
              "    .colab-df-convert:hover {\n",
              "      background-color: #E2EBFA;\n",
              "      box-shadow: 0px 1px 2px rgba(60, 64, 67, 0.3), 0px 1px 3px 1px rgba(60, 64, 67, 0.15);\n",
              "      fill: #174EA6;\n",
              "    }\n",
              "\n",
              "    [theme=dark] .colab-df-convert {\n",
              "      background-color: #3B4455;\n",
              "      fill: #D2E3FC;\n",
              "    }\n",
              "\n",
              "    [theme=dark] .colab-df-convert:hover {\n",
              "      background-color: #434B5C;\n",
              "      box-shadow: 0px 1px 3px 1px rgba(0, 0, 0, 0.15);\n",
              "      filter: drop-shadow(0px 1px 2px rgba(0, 0, 0, 0.3));\n",
              "      fill: #FFFFFF;\n",
              "    }\n",
              "  </style>\n",
              "\n",
              "      <script>\n",
              "        const buttonEl =\n",
              "          document.querySelector('#df-39917942-de1e-472c-b080-ef53fda07826 button.colab-df-convert');\n",
              "        buttonEl.style.display =\n",
              "          google.colab.kernel.accessAllowed ? 'block' : 'none';\n",
              "\n",
              "        async function convertToInteractive(key) {\n",
              "          const element = document.querySelector('#df-39917942-de1e-472c-b080-ef53fda07826');\n",
              "          const dataTable =\n",
              "            await google.colab.kernel.invokeFunction('convertToInteractive',\n",
              "                                                     [key], {});\n",
              "          if (!dataTable) return;\n",
              "\n",
              "          const docLinkHtml = 'Like what you see? Visit the ' +\n",
              "            '<a target=\"_blank\" href=https://colab.research.google.com/notebooks/data_table.ipynb>data table notebook</a>'\n",
              "            + ' to learn more about interactive tables.';\n",
              "          element.innerHTML = '';\n",
              "          dataTable['output_type'] = 'display_data';\n",
              "          await google.colab.output.renderOutput(dataTable, element);\n",
              "          const docLink = document.createElement('div');\n",
              "          docLink.innerHTML = docLinkHtml;\n",
              "          element.appendChild(docLink);\n",
              "        }\n",
              "      </script>\n",
              "    </div>\n",
              "  </div>\n",
              "  "
            ]
          },
          "metadata": {},
          "execution_count": 9
        }
      ]
    },
    {
      "cell_type": "markdown",
      "source": [
        "### Нормализация данных"
      ],
      "metadata": {
        "id": "ep8AK1ifq9UJ"
      }
    },
    {
      "cell_type": "code",
      "source": [
        "#разделяем датафрейм на признаки и целевую переменную, потому что нормализовать будем только признаки\n",
        "X = df.drop(\"R_TEMP\", axis=1)\n",
        "y = df[\"R_TEMP\"]"
      ],
      "metadata": {
        "id": "BRqfZyKaG_Hg"
      },
      "execution_count": null,
      "outputs": []
    },
    {
      "cell_type": "code",
      "source": [
        "from sklearn.preprocessing import StandardScaler\n",
        "X_std = StandardScaler().fit_transform(X)\n",
        "X_std = pd.DataFrame(X_std, columns=X.columns)"
      ],
      "metadata": {
        "id": "8f_oZ_hFG0PV"
      },
      "execution_count": null,
      "outputs": []
    },
    {
      "cell_type": "code",
      "source": [
        "X_std.head()"
      ],
      "metadata": {
        "colab": {
          "base_uri": "https://localhost:8080/",
          "height": 386
        },
        "id": "UgWtbwfX0Z9w",
        "outputId": "f7b95e57-84f1-4889-f543-7efe717d2951"
      },
      "execution_count": null,
      "outputs": [
        {
          "output_type": "execute_result",
          "data": {
            "text/plain": [
              "    Cst_Cnt   Btl_Cnt    Depthm    Salnty        O2ml_L    STheta  O2Sat  \\\n",
              "0 -1.713165 -1.732027 -0.942308 -0.850947  2.195471e-16 -0.451557    0.0   \n",
              "1 -1.713165 -1.731981 -0.921252 -0.850947  2.195471e-16 -0.444754    0.0   \n",
              "2 -1.713165 -1.731934 -0.915988 -0.856909  2.195471e-16 -0.446698    0.0   \n",
              "3 -1.713165 -1.731887 -0.892299 -0.890696  2.195471e-16 -0.457388    0.0   \n",
              "4 -1.713165 -1.731841 -0.889667 -0.888708  2.195471e-16 -0.457388    0.0   \n",
              "\n",
              "    Oxy_µmol/Kg    RecInd    T_prec  ...   R_Depth  R_POTEMP  R_SALINITY  \\\n",
              "0  1.682717e-16 -1.090077 -8.580441  ... -0.942308  0.325048   -0.850947   \n",
              "1  1.682717e-16 -1.090077  0.014698  ... -0.921252  0.315663   -0.850947   \n",
              "2  1.682717e-16  0.917367  0.014698  ... -0.915988  0.315663   -0.856909   \n",
              "3  1.682717e-16 -1.090077  0.014698  ... -0.892299  0.313317   -0.890696   \n",
              "4  1.682717e-16  0.917367  0.014698  ... -0.889667  0.313317   -0.888708   \n",
              "\n",
              "    R_SIGMA     R_SVA   R_DYNHT          R_O2  R_O2Sat         R_PO4    R_PRES  \n",
              "0 -0.455937  0.415400 -1.342730  2.195471e-16      0.0  5.375806e-16 -0.940495  \n",
              "1 -0.446170  0.410118 -1.320719  2.195471e-16      0.0  5.375806e-16 -0.919637  \n",
              "2 -0.446170  0.413288 -1.298709  2.195471e-16      0.0  5.375806e-16 -0.914423  \n",
              "3 -0.455937  0.427021 -1.254688  2.195471e-16      0.0  5.375806e-16 -0.890957  \n",
              "4 -0.455937  0.425964 -1.254688  2.195471e-16      0.0  5.375806e-16 -0.888350  \n",
              "\n",
              "[5 rows x 39 columns]"
            ],
            "text/html": [
              "\n",
              "  <div id=\"df-3228f5c7-0c4c-41f0-af1e-15b1f1abd02f\">\n",
              "    <div class=\"colab-df-container\">\n",
              "      <div>\n",
              "<style scoped>\n",
              "    .dataframe tbody tr th:only-of-type {\n",
              "        vertical-align: middle;\n",
              "    }\n",
              "\n",
              "    .dataframe tbody tr th {\n",
              "        vertical-align: top;\n",
              "    }\n",
              "\n",
              "    .dataframe thead th {\n",
              "        text-align: right;\n",
              "    }\n",
              "</style>\n",
              "<table border=\"1\" class=\"dataframe\">\n",
              "  <thead>\n",
              "    <tr style=\"text-align: right;\">\n",
              "      <th></th>\n",
              "      <th>Cst_Cnt</th>\n",
              "      <th>Btl_Cnt</th>\n",
              "      <th>Depthm</th>\n",
              "      <th>Salnty</th>\n",
              "      <th>O2ml_L</th>\n",
              "      <th>STheta</th>\n",
              "      <th>O2Sat</th>\n",
              "      <th>Oxy_µmol/Kg</th>\n",
              "      <th>RecInd</th>\n",
              "      <th>T_prec</th>\n",
              "      <th>...</th>\n",
              "      <th>R_Depth</th>\n",
              "      <th>R_POTEMP</th>\n",
              "      <th>R_SALINITY</th>\n",
              "      <th>R_SIGMA</th>\n",
              "      <th>R_SVA</th>\n",
              "      <th>R_DYNHT</th>\n",
              "      <th>R_O2</th>\n",
              "      <th>R_O2Sat</th>\n",
              "      <th>R_PO4</th>\n",
              "      <th>R_PRES</th>\n",
              "    </tr>\n",
              "  </thead>\n",
              "  <tbody>\n",
              "    <tr>\n",
              "      <th>0</th>\n",
              "      <td>-1.713165</td>\n",
              "      <td>-1.732027</td>\n",
              "      <td>-0.942308</td>\n",
              "      <td>-0.850947</td>\n",
              "      <td>2.195471e-16</td>\n",
              "      <td>-0.451557</td>\n",
              "      <td>0.0</td>\n",
              "      <td>1.682717e-16</td>\n",
              "      <td>-1.090077</td>\n",
              "      <td>-8.580441</td>\n",
              "      <td>...</td>\n",
              "      <td>-0.942308</td>\n",
              "      <td>0.325048</td>\n",
              "      <td>-0.850947</td>\n",
              "      <td>-0.455937</td>\n",
              "      <td>0.415400</td>\n",
              "      <td>-1.342730</td>\n",
              "      <td>2.195471e-16</td>\n",
              "      <td>0.0</td>\n",
              "      <td>5.375806e-16</td>\n",
              "      <td>-0.940495</td>\n",
              "    </tr>\n",
              "    <tr>\n",
              "      <th>1</th>\n",
              "      <td>-1.713165</td>\n",
              "      <td>-1.731981</td>\n",
              "      <td>-0.921252</td>\n",
              "      <td>-0.850947</td>\n",
              "      <td>2.195471e-16</td>\n",
              "      <td>-0.444754</td>\n",
              "      <td>0.0</td>\n",
              "      <td>1.682717e-16</td>\n",
              "      <td>-1.090077</td>\n",
              "      <td>0.014698</td>\n",
              "      <td>...</td>\n",
              "      <td>-0.921252</td>\n",
              "      <td>0.315663</td>\n",
              "      <td>-0.850947</td>\n",
              "      <td>-0.446170</td>\n",
              "      <td>0.410118</td>\n",
              "      <td>-1.320719</td>\n",
              "      <td>2.195471e-16</td>\n",
              "      <td>0.0</td>\n",
              "      <td>5.375806e-16</td>\n",
              "      <td>-0.919637</td>\n",
              "    </tr>\n",
              "    <tr>\n",
              "      <th>2</th>\n",
              "      <td>-1.713165</td>\n",
              "      <td>-1.731934</td>\n",
              "      <td>-0.915988</td>\n",
              "      <td>-0.856909</td>\n",
              "      <td>2.195471e-16</td>\n",
              "      <td>-0.446698</td>\n",
              "      <td>0.0</td>\n",
              "      <td>1.682717e-16</td>\n",
              "      <td>0.917367</td>\n",
              "      <td>0.014698</td>\n",
              "      <td>...</td>\n",
              "      <td>-0.915988</td>\n",
              "      <td>0.315663</td>\n",
              "      <td>-0.856909</td>\n",
              "      <td>-0.446170</td>\n",
              "      <td>0.413288</td>\n",
              "      <td>-1.298709</td>\n",
              "      <td>2.195471e-16</td>\n",
              "      <td>0.0</td>\n",
              "      <td>5.375806e-16</td>\n",
              "      <td>-0.914423</td>\n",
              "    </tr>\n",
              "    <tr>\n",
              "      <th>3</th>\n",
              "      <td>-1.713165</td>\n",
              "      <td>-1.731887</td>\n",
              "      <td>-0.892299</td>\n",
              "      <td>-0.890696</td>\n",
              "      <td>2.195471e-16</td>\n",
              "      <td>-0.457388</td>\n",
              "      <td>0.0</td>\n",
              "      <td>1.682717e-16</td>\n",
              "      <td>-1.090077</td>\n",
              "      <td>0.014698</td>\n",
              "      <td>...</td>\n",
              "      <td>-0.892299</td>\n",
              "      <td>0.313317</td>\n",
              "      <td>-0.890696</td>\n",
              "      <td>-0.455937</td>\n",
              "      <td>0.427021</td>\n",
              "      <td>-1.254688</td>\n",
              "      <td>2.195471e-16</td>\n",
              "      <td>0.0</td>\n",
              "      <td>5.375806e-16</td>\n",
              "      <td>-0.890957</td>\n",
              "    </tr>\n",
              "    <tr>\n",
              "      <th>4</th>\n",
              "      <td>-1.713165</td>\n",
              "      <td>-1.731841</td>\n",
              "      <td>-0.889667</td>\n",
              "      <td>-0.888708</td>\n",
              "      <td>2.195471e-16</td>\n",
              "      <td>-0.457388</td>\n",
              "      <td>0.0</td>\n",
              "      <td>1.682717e-16</td>\n",
              "      <td>0.917367</td>\n",
              "      <td>0.014698</td>\n",
              "      <td>...</td>\n",
              "      <td>-0.889667</td>\n",
              "      <td>0.313317</td>\n",
              "      <td>-0.888708</td>\n",
              "      <td>-0.455937</td>\n",
              "      <td>0.425964</td>\n",
              "      <td>-1.254688</td>\n",
              "      <td>2.195471e-16</td>\n",
              "      <td>0.0</td>\n",
              "      <td>5.375806e-16</td>\n",
              "      <td>-0.888350</td>\n",
              "    </tr>\n",
              "  </tbody>\n",
              "</table>\n",
              "<p>5 rows × 39 columns</p>\n",
              "</div>\n",
              "      <button class=\"colab-df-convert\" onclick=\"convertToInteractive('df-3228f5c7-0c4c-41f0-af1e-15b1f1abd02f')\"\n",
              "              title=\"Convert this dataframe to an interactive table.\"\n",
              "              style=\"display:none;\">\n",
              "        \n",
              "  <svg xmlns=\"http://www.w3.org/2000/svg\" height=\"24px\"viewBox=\"0 0 24 24\"\n",
              "       width=\"24px\">\n",
              "    <path d=\"M0 0h24v24H0V0z\" fill=\"none\"/>\n",
              "    <path d=\"M18.56 5.44l.94 2.06.94-2.06 2.06-.94-2.06-.94-.94-2.06-.94 2.06-2.06.94zm-11 1L8.5 8.5l.94-2.06 2.06-.94-2.06-.94L8.5 2.5l-.94 2.06-2.06.94zm10 10l.94 2.06.94-2.06 2.06-.94-2.06-.94-.94-2.06-.94 2.06-2.06.94z\"/><path d=\"M17.41 7.96l-1.37-1.37c-.4-.4-.92-.59-1.43-.59-.52 0-1.04.2-1.43.59L10.3 9.45l-7.72 7.72c-.78.78-.78 2.05 0 2.83L4 21.41c.39.39.9.59 1.41.59.51 0 1.02-.2 1.41-.59l7.78-7.78 2.81-2.81c.8-.78.8-2.07 0-2.86zM5.41 20L4 18.59l7.72-7.72 1.47 1.35L5.41 20z\"/>\n",
              "  </svg>\n",
              "      </button>\n",
              "      \n",
              "  <style>\n",
              "    .colab-df-container {\n",
              "      display:flex;\n",
              "      flex-wrap:wrap;\n",
              "      gap: 12px;\n",
              "    }\n",
              "\n",
              "    .colab-df-convert {\n",
              "      background-color: #E8F0FE;\n",
              "      border: none;\n",
              "      border-radius: 50%;\n",
              "      cursor: pointer;\n",
              "      display: none;\n",
              "      fill: #1967D2;\n",
              "      height: 32px;\n",
              "      padding: 0 0 0 0;\n",
              "      width: 32px;\n",
              "    }\n",
              "\n",
              "    .colab-df-convert:hover {\n",
              "      background-color: #E2EBFA;\n",
              "      box-shadow: 0px 1px 2px rgba(60, 64, 67, 0.3), 0px 1px 3px 1px rgba(60, 64, 67, 0.15);\n",
              "      fill: #174EA6;\n",
              "    }\n",
              "\n",
              "    [theme=dark] .colab-df-convert {\n",
              "      background-color: #3B4455;\n",
              "      fill: #D2E3FC;\n",
              "    }\n",
              "\n",
              "    [theme=dark] .colab-df-convert:hover {\n",
              "      background-color: #434B5C;\n",
              "      box-shadow: 0px 1px 3px 1px rgba(0, 0, 0, 0.15);\n",
              "      filter: drop-shadow(0px 1px 2px rgba(0, 0, 0, 0.3));\n",
              "      fill: #FFFFFF;\n",
              "    }\n",
              "  </style>\n",
              "\n",
              "      <script>\n",
              "        const buttonEl =\n",
              "          document.querySelector('#df-3228f5c7-0c4c-41f0-af1e-15b1f1abd02f button.colab-df-convert');\n",
              "        buttonEl.style.display =\n",
              "          google.colab.kernel.accessAllowed ? 'block' : 'none';\n",
              "\n",
              "        async function convertToInteractive(key) {\n",
              "          const element = document.querySelector('#df-3228f5c7-0c4c-41f0-af1e-15b1f1abd02f');\n",
              "          const dataTable =\n",
              "            await google.colab.kernel.invokeFunction('convertToInteractive',\n",
              "                                                     [key], {});\n",
              "          if (!dataTable) return;\n",
              "\n",
              "          const docLinkHtml = 'Like what you see? Visit the ' +\n",
              "            '<a target=\"_blank\" href=https://colab.research.google.com/notebooks/data_table.ipynb>data table notebook</a>'\n",
              "            + ' to learn more about interactive tables.';\n",
              "          element.innerHTML = '';\n",
              "          dataTable['output_type'] = 'display_data';\n",
              "          await google.colab.output.renderOutput(dataTable, element);\n",
              "          const docLink = document.createElement('div');\n",
              "          docLink.innerHTML = docLinkHtml;\n",
              "          element.appendChild(docLink);\n",
              "        }\n",
              "      </script>\n",
              "    </div>\n",
              "  </div>\n",
              "  "
            ]
          },
          "metadata": {},
          "execution_count": 18
        }
      ]
    },
    {
      "cell_type": "code",
      "source": [
        "y.head()"
      ],
      "metadata": {
        "colab": {
          "base_uri": "https://localhost:8080/"
        },
        "id": "oe8w_U_n0fpL",
        "outputId": "40a110fb-e049-426e-f10f-5a13a4afe0ef"
      },
      "execution_count": null,
      "outputs": [
        {
          "output_type": "execute_result",
          "data": {
            "text/plain": [
              "0    10.50\n",
              "1    10.46\n",
              "2    10.46\n",
              "3    10.45\n",
              "4    10.45\n",
              "Name: R_TEMP, dtype: float64"
            ]
          },
          "metadata": {},
          "execution_count": 19
        }
      ]
    },
    {
      "cell_type": "code",
      "source": [
        "df = pd.concat([X_std, y], axis=1)"
      ],
      "metadata": {
        "id": "WGiuGqTCHvb3"
      },
      "execution_count": null,
      "outputs": []
    },
    {
      "cell_type": "code",
      "source": [
        "#смотрим результат нормализации\n",
        "print(\"mean: \", np.round(df.mean(), 2))\n",
        "print(\"standard dev: \", np.round(df.std(), 2))"
      ],
      "metadata": {
        "colab": {
          "base_uri": "https://localhost:8080/"
        },
        "id": "GyocsEMyG9K1",
        "outputId": "d602ec68-0955-46e0-f334-8f85d25d6525"
      },
      "execution_count": null,
      "outputs": [
        {
          "output_type": "stream",
          "name": "stdout",
          "text": [
            "mean:  Cst_Cnt        0.00\n",
            "Btl_Cnt        0.00\n",
            "Depthm         0.00\n",
            "Salnty         0.00\n",
            "O2ml_L         0.00\n",
            "STheta         0.00\n",
            "O2Sat          0.00\n",
            "Oxy_µmol/Kg   -0.00\n",
            "RecInd         0.00\n",
            "T_prec        -0.00\n",
            "T_qual         0.00\n",
            "S_prec         0.00\n",
            "S_qual         0.00\n",
            "P_qual         0.00\n",
            "O_qual        -0.00\n",
            "SThtaq         0.00\n",
            "O2Satq         0.00\n",
            "Chlqua         0.00\n",
            "Phaqua         0.00\n",
            "PO4uM          0.00\n",
            "PO4q           0.00\n",
            "SiO3qu         0.00\n",
            "NO2q           0.00\n",
            "NO3q           0.00\n",
            "NH3q           0.00\n",
            "C14A1q         0.00\n",
            "C14A2q         0.00\n",
            "DarkAq         0.00\n",
            "MeanAq         0.00\n",
            "R_Depth        0.00\n",
            "R_POTEMP      -0.00\n",
            "R_SALINITY     0.00\n",
            "R_SIGMA        0.00\n",
            "R_SVA         -0.00\n",
            "R_DYNHT        0.00\n",
            "R_O2           0.00\n",
            "R_O2Sat       -0.00\n",
            "R_PO4          0.00\n",
            "R_PRES         0.00\n",
            "R_TEMP         9.14\n",
            "dtype: float64\n",
            "standard dev:  Cst_Cnt        1.00\n",
            "Btl_Cnt        1.00\n",
            "Depthm         1.00\n",
            "Salnty         1.00\n",
            "O2ml_L         1.00\n",
            "STheta         1.00\n",
            "O2Sat          1.00\n",
            "Oxy_µmol/Kg    1.00\n",
            "RecInd         1.00\n",
            "T_prec         1.00\n",
            "T_qual         1.00\n",
            "S_prec         1.00\n",
            "S_qual         1.00\n",
            "P_qual         0.00\n",
            "O_qual         1.00\n",
            "SThtaq         1.00\n",
            "O2Satq         1.00\n",
            "Chlqua         0.00\n",
            "Phaqua         0.00\n",
            "PO4uM          1.00\n",
            "PO4q           0.00\n",
            "SiO3qu         0.00\n",
            "NO2q           0.00\n",
            "NO3q           0.00\n",
            "NH3q           0.00\n",
            "C14A1q         0.00\n",
            "C14A2q         0.00\n",
            "DarkAq         0.00\n",
            "MeanAq         0.00\n",
            "R_Depth        1.00\n",
            "R_POTEMP       1.00\n",
            "R_SALINITY     1.00\n",
            "R_SIGMA        1.00\n",
            "R_SVA          1.00\n",
            "R_DYNHT        1.00\n",
            "R_O2           1.00\n",
            "R_O2Sat        1.00\n",
            "R_PO4          1.00\n",
            "R_PRES         1.00\n",
            "R_TEMP         4.47\n",
            "dtype: float64\n"
          ]
        }
      ]
    },
    {
      "cell_type": "markdown",
      "source": [
        "## PCA"
      ],
      "metadata": {
        "id": "o-bvnlO4uQGT"
      }
    },
    {
      "cell_type": "code",
      "source": [
        "from sklearn.decomposition import PCA\n",
        "\n",
        "pca = PCA()\n",
        "X_pca = pca.fit_transform(X_std)\n",
        "\n",
        "#генерируем имена для компонент\n",
        "component_names = [f\"PC{i+1}\" for i in range(X_pca.shape[1])]\n",
        "#присваиваем имена\n",
        "X_pca = pd.DataFrame(X_pca, columns=component_names)\n",
        "\n",
        "X_pca.head()"
      ],
      "metadata": {
        "colab": {
          "base_uri": "https://localhost:8080/",
          "height": 386
        },
        "id": "fSmtNvryN-bK",
        "outputId": "57ab8723-c412-4330-9fe5-2275be9cd9bc"
      },
      "execution_count": null,
      "outputs": [
        {
          "output_type": "execute_result",
          "data": {
            "text/plain": [
              "        PC1       PC2       PC3       PC4       PC5       PC6       PC7  \\\n",
              "0 -2.115092  0.542105 -0.765927 -3.822090 -1.717960  0.932623  7.926171   \n",
              "1 -1.870343  0.295961 -1.023433 -2.388504 -2.057276  0.378191 -0.339188   \n",
              "2 -1.689282 -0.381537 -2.620634 -0.106124 -1.988671  0.301275  0.124933   \n",
              "3 -1.862577  0.297480 -1.035428 -2.397711 -2.000657  0.378713 -0.346241   \n",
              "4 -1.683429 -0.380184 -2.630318 -0.113708 -1.941174  0.301863  0.119410   \n",
              "\n",
              "        PC8       PC9      PC10  ...          PC30          PC31  \\\n",
              "0  0.056451 -1.055470 -1.074504  ... -4.943060e-16 -6.976559e-16   \n",
              "1 -0.021526 -0.139083  0.355283  ... -1.901313e-16 -2.713301e-16   \n",
              "2 -0.102911 -0.241280  0.361051  ... -1.308066e-17  1.126455e-18   \n",
              "3 -0.001083 -0.178260  0.360014  ... -9.147345e-16  4.645714e-16   \n",
              "4 -0.086221 -0.273639  0.367011  ...  5.368859e-17  1.478528e-16   \n",
              "\n",
              "           PC32          PC33          PC34          PC35          PC36  \\\n",
              "0 -6.684238e-17  4.595597e-17 -3.922550e-16 -3.257549e-16 -5.329585e-16   \n",
              "1 -2.544998e-17  1.588821e-17 -1.513528e-16 -1.269319e-16 -2.063388e-16   \n",
              "2  2.357286e-19  1.937831e-17  9.302106e-18  5.012647e-18 -1.589987e-17   \n",
              "3  9.144131e-17 -6.753302e-17  2.267356e-16  1.662242e-16  1.985779e-16   \n",
              "4 -5.831272e-17  2.321626e-18  1.574596e-16  8.179331e-17  1.491999e-16   \n",
              "\n",
              "           PC37          PC38          PC39  \n",
              "0  3.893286e-17 -4.816989e-16 -6.657544e-16  \n",
              "1  1.215461e-17 -1.848085e-16 -3.106673e-17  \n",
              "2  9.089742e-18 -2.155087e-18 -2.349091e-15  \n",
              "3 -1.237279e-16  1.770203e-16 -1.135485e-14  \n",
              "4 -3.494575e-17 -3.432244e-18  2.141469e-14  \n",
              "\n",
              "[5 rows x 39 columns]"
            ],
            "text/html": [
              "\n",
              "  <div id=\"df-9199e0e8-000e-4556-b9db-6142bc036ea2\">\n",
              "    <div class=\"colab-df-container\">\n",
              "      <div>\n",
              "<style scoped>\n",
              "    .dataframe tbody tr th:only-of-type {\n",
              "        vertical-align: middle;\n",
              "    }\n",
              "\n",
              "    .dataframe tbody tr th {\n",
              "        vertical-align: top;\n",
              "    }\n",
              "\n",
              "    .dataframe thead th {\n",
              "        text-align: right;\n",
              "    }\n",
              "</style>\n",
              "<table border=\"1\" class=\"dataframe\">\n",
              "  <thead>\n",
              "    <tr style=\"text-align: right;\">\n",
              "      <th></th>\n",
              "      <th>PC1</th>\n",
              "      <th>PC2</th>\n",
              "      <th>PC3</th>\n",
              "      <th>PC4</th>\n",
              "      <th>PC5</th>\n",
              "      <th>PC6</th>\n",
              "      <th>PC7</th>\n",
              "      <th>PC8</th>\n",
              "      <th>PC9</th>\n",
              "      <th>PC10</th>\n",
              "      <th>...</th>\n",
              "      <th>PC30</th>\n",
              "      <th>PC31</th>\n",
              "      <th>PC32</th>\n",
              "      <th>PC33</th>\n",
              "      <th>PC34</th>\n",
              "      <th>PC35</th>\n",
              "      <th>PC36</th>\n",
              "      <th>PC37</th>\n",
              "      <th>PC38</th>\n",
              "      <th>PC39</th>\n",
              "    </tr>\n",
              "  </thead>\n",
              "  <tbody>\n",
              "    <tr>\n",
              "      <th>0</th>\n",
              "      <td>-2.115092</td>\n",
              "      <td>0.542105</td>\n",
              "      <td>-0.765927</td>\n",
              "      <td>-3.822090</td>\n",
              "      <td>-1.717960</td>\n",
              "      <td>0.932623</td>\n",
              "      <td>7.926171</td>\n",
              "      <td>0.056451</td>\n",
              "      <td>-1.055470</td>\n",
              "      <td>-1.074504</td>\n",
              "      <td>...</td>\n",
              "      <td>-4.943060e-16</td>\n",
              "      <td>-6.976559e-16</td>\n",
              "      <td>-6.684238e-17</td>\n",
              "      <td>4.595597e-17</td>\n",
              "      <td>-3.922550e-16</td>\n",
              "      <td>-3.257549e-16</td>\n",
              "      <td>-5.329585e-16</td>\n",
              "      <td>3.893286e-17</td>\n",
              "      <td>-4.816989e-16</td>\n",
              "      <td>-6.657544e-16</td>\n",
              "    </tr>\n",
              "    <tr>\n",
              "      <th>1</th>\n",
              "      <td>-1.870343</td>\n",
              "      <td>0.295961</td>\n",
              "      <td>-1.023433</td>\n",
              "      <td>-2.388504</td>\n",
              "      <td>-2.057276</td>\n",
              "      <td>0.378191</td>\n",
              "      <td>-0.339188</td>\n",
              "      <td>-0.021526</td>\n",
              "      <td>-0.139083</td>\n",
              "      <td>0.355283</td>\n",
              "      <td>...</td>\n",
              "      <td>-1.901313e-16</td>\n",
              "      <td>-2.713301e-16</td>\n",
              "      <td>-2.544998e-17</td>\n",
              "      <td>1.588821e-17</td>\n",
              "      <td>-1.513528e-16</td>\n",
              "      <td>-1.269319e-16</td>\n",
              "      <td>-2.063388e-16</td>\n",
              "      <td>1.215461e-17</td>\n",
              "      <td>-1.848085e-16</td>\n",
              "      <td>-3.106673e-17</td>\n",
              "    </tr>\n",
              "    <tr>\n",
              "      <th>2</th>\n",
              "      <td>-1.689282</td>\n",
              "      <td>-0.381537</td>\n",
              "      <td>-2.620634</td>\n",
              "      <td>-0.106124</td>\n",
              "      <td>-1.988671</td>\n",
              "      <td>0.301275</td>\n",
              "      <td>0.124933</td>\n",
              "      <td>-0.102911</td>\n",
              "      <td>-0.241280</td>\n",
              "      <td>0.361051</td>\n",
              "      <td>...</td>\n",
              "      <td>-1.308066e-17</td>\n",
              "      <td>1.126455e-18</td>\n",
              "      <td>2.357286e-19</td>\n",
              "      <td>1.937831e-17</td>\n",
              "      <td>9.302106e-18</td>\n",
              "      <td>5.012647e-18</td>\n",
              "      <td>-1.589987e-17</td>\n",
              "      <td>9.089742e-18</td>\n",
              "      <td>-2.155087e-18</td>\n",
              "      <td>-2.349091e-15</td>\n",
              "    </tr>\n",
              "    <tr>\n",
              "      <th>3</th>\n",
              "      <td>-1.862577</td>\n",
              "      <td>0.297480</td>\n",
              "      <td>-1.035428</td>\n",
              "      <td>-2.397711</td>\n",
              "      <td>-2.000657</td>\n",
              "      <td>0.378713</td>\n",
              "      <td>-0.346241</td>\n",
              "      <td>-0.001083</td>\n",
              "      <td>-0.178260</td>\n",
              "      <td>0.360014</td>\n",
              "      <td>...</td>\n",
              "      <td>-9.147345e-16</td>\n",
              "      <td>4.645714e-16</td>\n",
              "      <td>9.144131e-17</td>\n",
              "      <td>-6.753302e-17</td>\n",
              "      <td>2.267356e-16</td>\n",
              "      <td>1.662242e-16</td>\n",
              "      <td>1.985779e-16</td>\n",
              "      <td>-1.237279e-16</td>\n",
              "      <td>1.770203e-16</td>\n",
              "      <td>-1.135485e-14</td>\n",
              "    </tr>\n",
              "    <tr>\n",
              "      <th>4</th>\n",
              "      <td>-1.683429</td>\n",
              "      <td>-0.380184</td>\n",
              "      <td>-2.630318</td>\n",
              "      <td>-0.113708</td>\n",
              "      <td>-1.941174</td>\n",
              "      <td>0.301863</td>\n",
              "      <td>0.119410</td>\n",
              "      <td>-0.086221</td>\n",
              "      <td>-0.273639</td>\n",
              "      <td>0.367011</td>\n",
              "      <td>...</td>\n",
              "      <td>5.368859e-17</td>\n",
              "      <td>1.478528e-16</td>\n",
              "      <td>-5.831272e-17</td>\n",
              "      <td>2.321626e-18</td>\n",
              "      <td>1.574596e-16</td>\n",
              "      <td>8.179331e-17</td>\n",
              "      <td>1.491999e-16</td>\n",
              "      <td>-3.494575e-17</td>\n",
              "      <td>-3.432244e-18</td>\n",
              "      <td>2.141469e-14</td>\n",
              "    </tr>\n",
              "  </tbody>\n",
              "</table>\n",
              "<p>5 rows × 39 columns</p>\n",
              "</div>\n",
              "      <button class=\"colab-df-convert\" onclick=\"convertToInteractive('df-9199e0e8-000e-4556-b9db-6142bc036ea2')\"\n",
              "              title=\"Convert this dataframe to an interactive table.\"\n",
              "              style=\"display:none;\">\n",
              "        \n",
              "  <svg xmlns=\"http://www.w3.org/2000/svg\" height=\"24px\"viewBox=\"0 0 24 24\"\n",
              "       width=\"24px\">\n",
              "    <path d=\"M0 0h24v24H0V0z\" fill=\"none\"/>\n",
              "    <path d=\"M18.56 5.44l.94 2.06.94-2.06 2.06-.94-2.06-.94-.94-2.06-.94 2.06-2.06.94zm-11 1L8.5 8.5l.94-2.06 2.06-.94-2.06-.94L8.5 2.5l-.94 2.06-2.06.94zm10 10l.94 2.06.94-2.06 2.06-.94-2.06-.94-.94-2.06-.94 2.06-2.06.94z\"/><path d=\"M17.41 7.96l-1.37-1.37c-.4-.4-.92-.59-1.43-.59-.52 0-1.04.2-1.43.59L10.3 9.45l-7.72 7.72c-.78.78-.78 2.05 0 2.83L4 21.41c.39.39.9.59 1.41.59.51 0 1.02-.2 1.41-.59l7.78-7.78 2.81-2.81c.8-.78.8-2.07 0-2.86zM5.41 20L4 18.59l7.72-7.72 1.47 1.35L5.41 20z\"/>\n",
              "  </svg>\n",
              "      </button>\n",
              "      \n",
              "  <style>\n",
              "    .colab-df-container {\n",
              "      display:flex;\n",
              "      flex-wrap:wrap;\n",
              "      gap: 12px;\n",
              "    }\n",
              "\n",
              "    .colab-df-convert {\n",
              "      background-color: #E8F0FE;\n",
              "      border: none;\n",
              "      border-radius: 50%;\n",
              "      cursor: pointer;\n",
              "      display: none;\n",
              "      fill: #1967D2;\n",
              "      height: 32px;\n",
              "      padding: 0 0 0 0;\n",
              "      width: 32px;\n",
              "    }\n",
              "\n",
              "    .colab-df-convert:hover {\n",
              "      background-color: #E2EBFA;\n",
              "      box-shadow: 0px 1px 2px rgba(60, 64, 67, 0.3), 0px 1px 3px 1px rgba(60, 64, 67, 0.15);\n",
              "      fill: #174EA6;\n",
              "    }\n",
              "\n",
              "    [theme=dark] .colab-df-convert {\n",
              "      background-color: #3B4455;\n",
              "      fill: #D2E3FC;\n",
              "    }\n",
              "\n",
              "    [theme=dark] .colab-df-convert:hover {\n",
              "      background-color: #434B5C;\n",
              "      box-shadow: 0px 1px 3px 1px rgba(0, 0, 0, 0.15);\n",
              "      filter: drop-shadow(0px 1px 2px rgba(0, 0, 0, 0.3));\n",
              "      fill: #FFFFFF;\n",
              "    }\n",
              "  </style>\n",
              "\n",
              "      <script>\n",
              "        const buttonEl =\n",
              "          document.querySelector('#df-9199e0e8-000e-4556-b9db-6142bc036ea2 button.colab-df-convert');\n",
              "        buttonEl.style.display =\n",
              "          google.colab.kernel.accessAllowed ? 'block' : 'none';\n",
              "\n",
              "        async function convertToInteractive(key) {\n",
              "          const element = document.querySelector('#df-9199e0e8-000e-4556-b9db-6142bc036ea2');\n",
              "          const dataTable =\n",
              "            await google.colab.kernel.invokeFunction('convertToInteractive',\n",
              "                                                     [key], {});\n",
              "          if (!dataTable) return;\n",
              "\n",
              "          const docLinkHtml = 'Like what you see? Visit the ' +\n",
              "            '<a target=\"_blank\" href=https://colab.research.google.com/notebooks/data_table.ipynb>data table notebook</a>'\n",
              "            + ' to learn more about interactive tables.';\n",
              "          element.innerHTML = '';\n",
              "          dataTable['output_type'] = 'display_data';\n",
              "          await google.colab.output.renderOutput(dataTable, element);\n",
              "          const docLink = document.createElement('div');\n",
              "          docLink.innerHTML = docLinkHtml;\n",
              "          element.appendChild(docLink);\n",
              "        }\n",
              "      </script>\n",
              "    </div>\n",
              "  </div>\n",
              "  "
            ]
          },
          "metadata": {},
          "execution_count": 28
        }
      ]
    },
    {
      "cell_type": "code",
      "source": [
        "X_pca.shape"
      ],
      "metadata": {
        "colab": {
          "base_uri": "https://localhost:8080/"
        },
        "id": "mn-sh2UWzYdg",
        "outputId": "bb37151b-24e5-4eed-a0cb-e7cf9077297e"
      },
      "execution_count": null,
      "outputs": [
        {
          "output_type": "execute_result",
          "data": {
            "text/plain": [
              "(74156, 39)"
            ]
          },
          "metadata": {},
          "execution_count": 29
        }
      ]
    },
    {
      "cell_type": "code",
      "source": [
        "#функция для построения графика, сколько информации созраняют компоненты\n",
        "def plot_variance(pca, width=8, dpi=100):\n",
        "    \n",
        "    fig, axs = plt.subplots(1, 2)\n",
        "    n = pca.n_components_\n",
        "    grid = np.arange(1, n + 1)\n",
        "    \n",
        "    evr = pca.explained_variance_ratio_\n",
        "    axs[0].bar(grid, evr)\n",
        "    axs[0].set(\n",
        "        xlabel=\"Component\", title=\"% Explained Variance\", ylim=(0.0, 1.0)\n",
        "    )\n",
        "    \n",
        "    cv = np.cumsum(evr)\n",
        "    axs[1].plot(np.r_[0, grid], np.r_[0, cv], \"o-\")\n",
        "    axs[1].set(\n",
        "        xlabel=\"Component\", title=\"% Cumulative Variance\", ylim=(0.0, 1.0)\n",
        "    )\n",
        "   \n",
        "    fig.set(figwidth=8, dpi=100)\n",
        "    return axs"
      ],
      "metadata": {
        "id": "SLDW-0esOvWw"
      },
      "execution_count": null,
      "outputs": []
    },
    {
      "cell_type": "code",
      "source": [
        "#видим, что около 20 компонент суммарно сохраняют практически 100% информации\n",
        "plot_variance(pca)"
      ],
      "metadata": {
        "colab": {
          "base_uri": "https://localhost:8080/",
          "height": 524
        },
        "id": "DXZSMWipOY9n",
        "outputId": "e84927d8-8058-4339-ccbf-1088176060cd"
      },
      "execution_count": null,
      "outputs": [
        {
          "output_type": "execute_result",
          "data": {
            "text/plain": [
              "array([<Axes: title={'center': '% Explained Variance'}, xlabel='Component'>,\n",
              "       <Axes: title={'center': '% Cumulative Variance'}, xlabel='Component'>],\n",
              "      dtype=object)"
            ]
          },
          "metadata": {},
          "execution_count": 31
        },
        {
          "output_type": "display_data",
          "data": {
            "text/plain": [
              "<Figure size 800x480 with 2 Axes>"
            ],
            "image/png": "[encoded data removed]"
          },
          "metadata": {}
        }
      ]
    },
    {
      "cell_type": "code",
      "source": [
        "#уменьшаем число компонент\n",
        "X_pca = X_pca.drop(X_pca.columns[20:], axis=1)"
      ],
      "metadata": {
        "id": "ORdA7DnAO72l"
      },
      "execution_count": null,
      "outputs": []
    },
    {
      "cell_type": "code",
      "source": [
        "X_pca.head()"
      ],
      "metadata": {
        "colab": {
          "base_uri": "https://localhost:8080/",
          "height": 270
        },
        "id": "oMswnYspP8NL",
        "outputId": "6391f50f-3ee5-4616-85d0-808d2cfb56f1"
      },
      "execution_count": null,
      "outputs": [
        {
          "output_type": "execute_result",
          "data": {
            "text/plain": [
              "        PC1       PC2       PC3       PC4       PC5       PC6       PC7  \\\n",
              "0 -2.115092  0.542105 -0.765927 -3.822090 -1.717960  0.932623  7.926171   \n",
              "1 -1.870343  0.295961 -1.023433 -2.388504 -2.057276  0.378191 -0.339188   \n",
              "2 -1.689282 -0.381537 -2.620634 -0.106124 -1.988671  0.301275  0.124933   \n",
              "3 -1.862577  0.297480 -1.035428 -2.397711 -2.000657  0.378713 -0.346241   \n",
              "4 -1.683429 -0.380184 -2.630318 -0.113708 -1.941174  0.301863  0.119410   \n",
              "\n",
              "        PC8       PC9      PC10      PC11      PC12      PC13      PC14  \\\n",
              "0  0.056451 -1.055470 -1.074504  0.649748  0.046734  0.428676  0.249911   \n",
              "1 -0.021526 -0.139083  0.355283  0.715161  0.043877  0.395453  0.278696   \n",
              "2 -0.102911 -0.241280  0.361051  0.738409  0.039776  0.383147  0.306749   \n",
              "3 -0.001083 -0.178260  0.360014  0.757606  0.048909  0.344161  0.256706   \n",
              "4 -0.086221 -0.273639  0.367011  0.773948  0.042923  0.349631  0.295014   \n",
              "\n",
              "       PC15      PC16      PC17      PC18      PC19      PC20  \n",
              "0  0.038467  0.021911 -0.001939 -0.007919  0.003843 -0.019534  \n",
              "1  0.044881  0.025989  0.000850 -0.027293  0.034031 -0.027554  \n",
              "2 -0.026218  0.002857 -0.001024 -0.027600  0.035723 -0.027815  \n",
              "3  0.044967  0.025050 -0.002312 -0.019806  0.029420 -0.027424  \n",
              "4 -0.025951  0.002295 -0.002825 -0.023135  0.033061 -0.027625  "
            ],
            "text/html": [
              "\n",
              "  <div id=\"df-0186955a-a173-4133-9e17-fd1e0909bc3a\">\n",
              "    <div class=\"colab-df-container\">\n",
              "      <div>\n",
              "<style scoped>\n",
              "    .dataframe tbody tr th:only-of-type {\n",
              "        vertical-align: middle;\n",
              "    }\n",
              "\n",
              "    .dataframe tbody tr th {\n",
              "        vertical-align: top;\n",
              "    }\n",
              "\n",
              "    .dataframe thead th {\n",
              "        text-align: right;\n",
              "    }\n",
              "</style>\n",
              "<table border=\"1\" class=\"dataframe\">\n",
              "  <thead>\n",
              "    <tr style=\"text-align: right;\">\n",
              "      <th></th>\n",
              "      <th>PC1</th>\n",
              "      <th>PC2</th>\n",
              "      <th>PC3</th>\n",
              "      <th>PC4</th>\n",
              "      <th>PC5</th>\n",
              "      <th>PC6</th>\n",
              "      <th>PC7</th>\n",
              "      <th>PC8</th>\n",
              "      <th>PC9</th>\n",
              "      <th>PC10</th>\n",
              "      <th>PC11</th>\n",
              "      <th>PC12</th>\n",
              "      <th>PC13</th>\n",
              "      <th>PC14</th>\n",
              "      <th>PC15</th>\n",
              "      <th>PC16</th>\n",
              "      <th>PC17</th>\n",
              "      <th>PC18</th>\n",
              "      <th>PC19</th>\n",
              "      <th>PC20</th>\n",
              "    </tr>\n",
              "  </thead>\n",
              "  <tbody>\n",
              "    <tr>\n",
              "      <th>0</th>\n",
              "      <td>-2.115092</td>\n",
              "      <td>0.542105</td>\n",
              "      <td>-0.765927</td>\n",
              "      <td>-3.822090</td>\n",
              "      <td>-1.717960</td>\n",
              "      <td>0.932623</td>\n",
              "      <td>7.926171</td>\n",
              "      <td>0.056451</td>\n",
              "      <td>-1.055470</td>\n",
              "      <td>-1.074504</td>\n",
              "      <td>0.649748</td>\n",
              "      <td>0.046734</td>\n",
              "      <td>0.428676</td>\n",
              "      <td>0.249911</td>\n",
              "      <td>0.038467</td>\n",
              "      <td>0.021911</td>\n",
              "      <td>-0.001939</td>\n",
              "      <td>-0.007919</td>\n",
              "      <td>0.003843</td>\n",
              "      <td>-0.019534</td>\n",
              "    </tr>\n",
              "    <tr>\n",
              "      <th>1</th>\n",
              "      <td>-1.870343</td>\n",
              "      <td>0.295961</td>\n",
              "      <td>-1.023433</td>\n",
              "      <td>-2.388504</td>\n",
              "      <td>-2.057276</td>\n",
              "      <td>0.378191</td>\n",
              "      <td>-0.339188</td>\n",
              "      <td>-0.021526</td>\n",
              "      <td>-0.139083</td>\n",
              "      <td>0.355283</td>\n",
              "      <td>0.715161</td>\n",
              "      <td>0.043877</td>\n",
              "      <td>0.395453</td>\n",
              "      <td>0.278696</td>\n",
              "      <td>0.044881</td>\n",
              "      <td>0.025989</td>\n",
              "      <td>0.000850</td>\n",
              "      <td>-0.027293</td>\n",
              "      <td>0.034031</td>\n",
              "      <td>-0.027554</td>\n",
              "    </tr>\n",
              "    <tr>\n",
              "      <th>2</th>\n",
              "      <td>-1.689282</td>\n",
              "      <td>-0.381537</td>\n",
              "      <td>-2.620634</td>\n",
              "      <td>-0.106124</td>\n",
              "      <td>-1.988671</td>\n",
              "      <td>0.301275</td>\n",
              "      <td>0.124933</td>\n",
              "      <td>-0.102911</td>\n",
              "      <td>-0.241280</td>\n",
              "      <td>0.361051</td>\n",
              "      <td>0.738409</td>\n",
              "      <td>0.039776</td>\n",
              "      <td>0.383147</td>\n",
              "      <td>0.306749</td>\n",
              "      <td>-0.026218</td>\n",
              "      <td>0.002857</td>\n",
              "      <td>-0.001024</td>\n",
              "      <td>-0.027600</td>\n",
              "      <td>0.035723</td>\n",
              "      <td>-0.027815</td>\n",
              "    </tr>\n",
              "    <tr>\n",
              "      <th>3</th>\n",
              "      <td>-1.862577</td>\n",
              "      <td>0.297480</td>\n",
              "      <td>-1.035428</td>\n",
              "      <td>-2.397711</td>\n",
              "      <td>-2.000657</td>\n",
              "      <td>0.378713</td>\n",
              "      <td>-0.346241</td>\n",
              "      <td>-0.001083</td>\n",
              "      <td>-0.178260</td>\n",
              "      <td>0.360014</td>\n",
              "      <td>0.757606</td>\n",
              "      <td>0.048909</td>\n",
              "      <td>0.344161</td>\n",
              "      <td>0.256706</td>\n",
              "      <td>0.044967</td>\n",
              "      <td>0.025050</td>\n",
              "      <td>-0.002312</td>\n",
              "      <td>-0.019806</td>\n",
              "      <td>0.029420</td>\n",
              "      <td>-0.027424</td>\n",
              "    </tr>\n",
              "    <tr>\n",
              "      <th>4</th>\n",
              "      <td>-1.683429</td>\n",
              "      <td>-0.380184</td>\n",
              "      <td>-2.630318</td>\n",
              "      <td>-0.113708</td>\n",
              "      <td>-1.941174</td>\n",
              "      <td>0.301863</td>\n",
              "      <td>0.119410</td>\n",
              "      <td>-0.086221</td>\n",
              "      <td>-0.273639</td>\n",
              "      <td>0.367011</td>\n",
              "      <td>0.773948</td>\n",
              "      <td>0.042923</td>\n",
              "      <td>0.349631</td>\n",
              "      <td>0.295014</td>\n",
              "      <td>-0.025951</td>\n",
              "      <td>0.002295</td>\n",
              "      <td>-0.002825</td>\n",
              "      <td>-0.023135</td>\n",
              "      <td>0.033061</td>\n",
              "      <td>-0.027625</td>\n",
              "    </tr>\n",
              "  </tbody>\n",
              "</table>\n",
              "</div>\n",
              "      <button class=\"colab-df-convert\" onclick=\"convertToInteractive('df-0186955a-a173-4133-9e17-fd1e0909bc3a')\"\n",
              "              title=\"Convert this dataframe to an interactive table.\"\n",
              "              style=\"display:none;\">\n",
              "        \n",
              "  <svg xmlns=\"http://www.w3.org/2000/svg\" height=\"24px\"viewBox=\"0 0 24 24\"\n",
              "       width=\"24px\">\n",
              "    <path d=\"M0 0h24v24H0V0z\" fill=\"none\"/>\n",
              "    <path d=\"M18.56 5.44l.94 2.06.94-2.06 2.06-.94-2.06-.94-.94-2.06-.94 2.06-2.06.94zm-11 1L8.5 8.5l.94-2.06 2.06-.94-2.06-.94L8.5 2.5l-.94 2.06-2.06.94zm10 10l.94 2.06.94-2.06 2.06-.94-2.06-.94-.94-2.06-.94 2.06-2.06.94z\"/><path d=\"M17.41 7.96l-1.37-1.37c-.4-.4-.92-.59-1.43-.59-.52 0-1.04.2-1.43.59L10.3 9.45l-7.72 7.72c-.78.78-.78 2.05 0 2.83L4 21.41c.39.39.9.59 1.41.59.51 0 1.02-.2 1.41-.59l7.78-7.78 2.81-2.81c.8-.78.8-2.07 0-2.86zM5.41 20L4 18.59l7.72-7.72 1.47 1.35L5.41 20z\"/>\n",
              "  </svg>\n",
              "      </button>\n",
              "      \n",
              "  <style>\n",
              "    .colab-df-container {\n",
              "      display:flex;\n",
              "      flex-wrap:wrap;\n",
              "      gap: 12px;\n",
              "    }\n",
              "\n",
              "    .colab-df-convert {\n",
              "      background-color: #E8F0FE;\n",
              "      border: none;\n",
              "      border-radius: 50%;\n",
              "      cursor: pointer;\n",
              "      display: none;\n",
              "      fill: #1967D2;\n",
              "      height: 32px;\n",
              "      padding: 0 0 0 0;\n",
              "      width: 32px;\n",
              "    }\n",
              "\n",
              "    .colab-df-convert:hover {\n",
              "      background-color: #E2EBFA;\n",
              "      box-shadow: 0px 1px 2px rgba(60, 64, 67, 0.3), 0px 1px 3px 1px rgba(60, 64, 67, 0.15);\n",
              "      fill: #174EA6;\n",
              "    }\n",
              "\n",
              "    [theme=dark] .colab-df-convert {\n",
              "      background-color: #3B4455;\n",
              "      fill: #D2E3FC;\n",
              "    }\n",
              "\n",
              "    [theme=dark] .colab-df-convert:hover {\n",
              "      background-color: #434B5C;\n",
              "      box-shadow: 0px 1px 3px 1px rgba(0, 0, 0, 0.15);\n",
              "      filter: drop-shadow(0px 1px 2px rgba(0, 0, 0, 0.3));\n",
              "      fill: #FFFFFF;\n",
              "    }\n",
              "  </style>\n",
              "\n",
              "      <script>\n",
              "        const buttonEl =\n",
              "          document.querySelector('#df-0186955a-a173-4133-9e17-fd1e0909bc3a button.colab-df-convert');\n",
              "        buttonEl.style.display =\n",
              "          google.colab.kernel.accessAllowed ? 'block' : 'none';\n",
              "\n",
              "        async function convertToInteractive(key) {\n",
              "          const element = document.querySelector('#df-0186955a-a173-4133-9e17-fd1e0909bc3a');\n",
              "          const dataTable =\n",
              "            await google.colab.kernel.invokeFunction('convertToInteractive',\n",
              "                                                     [key], {});\n",
              "          if (!dataTable) return;\n",
              "\n",
              "          const docLinkHtml = 'Like what you see? Visit the ' +\n",
              "            '<a target=\"_blank\" href=https://colab.research.google.com/notebooks/data_table.ipynb>data table notebook</a>'\n",
              "            + ' to learn more about interactive tables.';\n",
              "          element.innerHTML = '';\n",
              "          dataTable['output_type'] = 'display_data';\n",
              "          await google.colab.output.renderOutput(dataTable, element);\n",
              "          const docLink = document.createElement('div');\n",
              "          docLink.innerHTML = docLinkHtml;\n",
              "          element.appendChild(docLink);\n",
              "        }\n",
              "      </script>\n",
              "    </div>\n",
              "  </div>\n",
              "  "
            ]
          },
          "metadata": {},
          "execution_count": 33
        }
      ]
    },
    {
      "cell_type": "markdown",
      "source": [
        "## Обучение моделей"
      ],
      "metadata": {
        "id": "L34ggsGLreVn"
      }
    },
    {
      "cell_type": "code",
      "source": [
        "from sklearn.ensemble import RandomForestRegressor\n",
        "from sklearn.tree import DecisionTreeRegressor\n",
        "from sklearn.model_selection import train_test_split\n",
        "import sklearn.metrics as metrics"
      ],
      "metadata": {
        "id": "twLaoMfJH7K0"
      },
      "execution_count": null,
      "outputs": []
    },
    {
      "cell_type": "code",
      "source": [
        "#разделяем выборку на обучающую и тестовую\n",
        "X_train, X_test, y_train, y_test = train_test_split(X_std, y, test_size=0.25, random_state=41)"
      ],
      "metadata": {
        "id": "D43d88reH8X0"
      },
      "execution_count": null,
      "outputs": []
    },
    {
      "cell_type": "code",
      "source": [
        "rf = RandomForestRegressor(random_state = 1)\n",
        "rf.fit(X_train, y_train)"
      ],
      "metadata": {
        "colab": {
          "base_uri": "https://localhost:8080/",
          "height": 75
        },
        "id": "C05-o1FzH9zc",
        "outputId": "992b210f-82ca-41ed-9e82-31e81b356996"
      },
      "execution_count": null,
      "outputs": [
        {
          "output_type": "execute_result",
          "data": {
            "text/plain": [
              "RandomForestRegressor(random_state=1)"
            ],
            "text/html": [
              "<style>#sk-container-id-1 {color: black;background-color: white;}#sk-container-id-1 pre{padding: 0;}#sk-container-id-1 div.sk-toggleable {background-color: white;}#sk-container-id-1 label.sk-toggleable__label {cursor: pointer;display: block;width: 100%;margin-bottom: 0;padding: 0.3em;box-sizing: border-box;text-align: center;}#sk-container-id-1 label.sk-toggleable__label-arrow:before {content: \"▸\";float: left;margin-right: 0.25em;color: #696969;}#sk-container-id-1 label.sk-toggleable__label-arrow:hover:before {color: black;}#sk-container-id-1 div.sk-estimator:hover label.sk-toggleable__label-arrow:before {color: black;}#sk-container-id-1 div.sk-toggleable__content {max-height: 0;max-width: 0;overflow: hidden;text-align: left;background-color: #f0f8ff;}#sk-container-id-1 div.sk-toggleable__content pre {margin: 0.2em;color: black;border-radius: 0.25em;background-color: #f0f8ff;}#sk-container-id-1 input.sk-toggleable__control:checked~div.sk-toggleable__content {max-height: 200px;max-width: 100%;overflow: auto;}#sk-container-id-1 input.sk-toggleable__control:checked~label.sk-toggleable__label-arrow:before {content: \"▾\";}#sk-container-id-1 div.sk-estimator input.sk-toggleable__control:checked~label.sk-toggleable__label {background-color: #d4ebff;}#sk-container-id-1 div.sk-label input.sk-toggleable__control:checked~label.sk-toggleable__label {background-color: #d4ebff;}#sk-container-id-1 input.sk-hidden--visually {border: 0;clip: rect(1px 1px 1px 1px);clip: rect(1px, 1px, 1px, 1px);height: 1px;margin: -1px;overflow: hidden;padding: 0;position: absolute;width: 1px;}#sk-container-id-1 div.sk-estimator {font-family: monospace;background-color: #f0f8ff;border: 1px dotted black;border-radius: 0.25em;box-sizing: border-box;margin-bottom: 0.5em;}#sk-container-id-1 div.sk-estimator:hover {background-color: #d4ebff;}#sk-container-id-1 div.sk-parallel-item::after {content: \"\";width: 100%;border-bottom: 1px solid gray;flex-grow: 1;}#sk-container-id-1 div.sk-label:hover label.sk-toggleable__label {background-color: #d4ebff;}#sk-container-id-1 div.sk-serial::before {content: \"\";position: absolute;border-left: 1px solid gray;box-sizing: border-box;top: 0;bottom: 0;left: 50%;z-index: 0;}#sk-container-id-1 div.sk-serial {display: flex;flex-direction: column;align-items: center;background-color: white;padding-right: 0.2em;padding-left: 0.2em;position: relative;}#sk-container-id-1 div.sk-item {position: relative;z-index: 1;}#sk-container-id-1 div.sk-parallel {display: flex;align-items: stretch;justify-content: center;background-color: white;position: relative;}#sk-container-id-1 div.sk-item::before, #sk-container-id-1 div.sk-parallel-item::before {content: \"\";position: absolute;border-left: 1px solid gray;box-sizing: border-box;top: 0;bottom: 0;left: 50%;z-index: -1;}#sk-container-id-1 div.sk-parallel-item {display: flex;flex-direction: column;z-index: 1;position: relative;background-color: white;}#sk-container-id-1 div.sk-parallel-item:first-child::after {align-self: flex-end;width: 50%;}#sk-container-id-1 div.sk-parallel-item:last-child::after {align-self: flex-start;width: 50%;}#sk-container-id-1 div.sk-parallel-item:only-child::after {width: 0;}#sk-container-id-1 div.sk-dashed-wrapped {border: 1px dashed gray;margin: 0 0.4em 0.5em 0.4em;box-sizing: border-box;padding-bottom: 0.4em;background-color: white;}#sk-container-id-1 div.sk-label label {font-family: monospace;font-weight: bold;display: inline-block;line-height: 1.2em;}#sk-container-id-1 div.sk-label-container {text-align: center;}#sk-container-id-1 div.sk-container {/* jupyter's `normalize.less` sets `[hidden] { display: none; }` but bootstrap.min.css set `[hidden] { display: none !important; }` so we also need the `!important` here to be able to override the default hidden behavior on the sphinx rendered scikit-learn.org. See: https://github.com/scikit-learn/scikit-learn/issues/21755 */display: inline-block !important;position: relative;}#sk-container-id-1 div.sk-text-repr-fallback {display: none;}</style><div id=\"sk-container-id-1\" class=\"sk-top-container\"><div class=\"sk-text-repr-fallback\"><pre>RandomForestRegressor(random_state=1)</pre><b>In a Jupyter environment, please rerun this cell to show the HTML representation or trust the notebook. <br />On GitHub, the HTML representation is unable to render, please try loading this page with nbviewer.org.</b></div><div class=\"sk-container\" hidden><div class=\"sk-item\"><div class=\"sk-estimator sk-toggleable\"><input class=\"sk-toggleable__control sk-hidden--visually\" id=\"sk-estimator-id-1\" type=\"checkbox\" checked><label for=\"sk-estimator-id-1\" class=\"sk-toggleable__label sk-toggleable__label-arrow\">RandomForestRegressor</label><div class=\"sk-toggleable__content\"><pre>RandomForestRegressor(random_state=1)</pre></div></div></div></div></div>"
            ]
          },
          "metadata": {},
          "execution_count": 24
        }
      ]
    },
    {
      "cell_type": "code",
      "source": [
        "y_pred = rf.predict(X_test)\n",
        "print(\"MSE: \",round(metrics.mean_squared_error(y_pred, y_test),4))\n",
        "print(\"r2: \",round(metrics.r2_score(y_pred, y_test),4))"
      ],
      "metadata": {
        "colab": {
          "base_uri": "https://localhost:8080/"
        },
        "id": "qnX2P-E5Kvgl",
        "outputId": "e1f6ab26-5a01-4028-f273-f95be7949f4e"
      },
      "execution_count": null,
      "outputs": [
        {
          "output_type": "stream",
          "name": "stdout",
          "text": [
            "MSE:  0.0344\n",
            "r2:  0.9983\n"
          ]
        }
      ]
    },
    {
      "cell_type": "code",
      "source": [
        "X_std.shape"
      ],
      "metadata": {
        "colab": {
          "base_uri": "https://localhost:8080/"
        },
        "id": "3tGsyVt_zHUb",
        "outputId": "8e1abc82-96b8-4c90-9559-5884154c9480"
      },
      "execution_count": null,
      "outputs": [
        {
          "output_type": "execute_result",
          "data": {
            "text/plain": [
              "(74156, 39)"
            ]
          },
          "metadata": {},
          "execution_count": 26
        }
      ]
    },
    {
      "cell_type": "code",
      "source": [
        "#теперь обучаем на данных, которые подверглись преобразованию PCA\n",
        "X_pca_train, X_pca_test, y_pca_train, y_pca_test = train_test_split(X_pca, y, test_size=0.25, random_state=41)"
      ],
      "metadata": {
        "id": "tZJTgsUNQFK7"
      },
      "execution_count": null,
      "outputs": []
    },
    {
      "cell_type": "code",
      "source": [
        "X_pca_train.shape"
      ],
      "metadata": {
        "colab": {
          "base_uri": "https://localhost:8080/"
        },
        "id": "3q2eiVKtRJkw",
        "outputId": "6075ad86-7fb3-4866-b948-3ab8c8bb8e72"
      },
      "execution_count": null,
      "outputs": [
        {
          "output_type": "execute_result",
          "data": {
            "text/plain": [
              "(55617, 20)"
            ]
          },
          "metadata": {},
          "execution_count": 35
        }
      ]
    },
    {
      "cell_type": "code",
      "source": [
        "X_train.shape"
      ],
      "metadata": {
        "colab": {
          "base_uri": "https://localhost:8080/"
        },
        "id": "3gLm_BFWRPO9",
        "outputId": "ec3c228e-b1aa-4f71-a13d-1d7a62bd22ed"
      },
      "execution_count": null,
      "outputs": [
        {
          "output_type": "execute_result",
          "data": {
            "text/plain": [
              "(55617, 39)"
            ]
          },
          "metadata": {},
          "execution_count": 36
        }
      ]
    },
    {
      "cell_type": "code",
      "source": [
        "rf_pca = RandomForestRegressor(random_state = 1)\n",
        "rf_pca.fit(X_pca_train, y_pca_train)"
      ],
      "metadata": {
        "id": "vYo6kvxlQMij",
        "colab": {
          "base_uri": "https://localhost:8080/",
          "height": 75
        },
        "outputId": "8d017447-69d1-459e-be62-2bdb140c98b5"
      },
      "execution_count": null,
      "outputs": [
        {
          "output_type": "execute_result",
          "data": {
            "text/plain": [
              "RandomForestRegressor(random_state=1)"
            ],
            "text/html": [
              "<style>#sk-container-id-2 {color: black;background-color: white;}#sk-container-id-2 pre{padding: 0;}#sk-container-id-2 div.sk-toggleable {background-color: white;}#sk-container-id-2 label.sk-toggleable__label {cursor: pointer;display: block;width: 100%;margin-bottom: 0;padding: 0.3em;box-sizing: border-box;text-align: center;}#sk-container-id-2 label.sk-toggleable__label-arrow:before {content: \"▸\";float: left;margin-right: 0.25em;color: #696969;}#sk-container-id-2 label.sk-toggleable__label-arrow:hover:before {color: black;}#sk-container-id-2 div.sk-estimator:hover label.sk-toggleable__label-arrow:before {color: black;}#sk-container-id-2 div.sk-toggleable__content {max-height: 0;max-width: 0;overflow: hidden;text-align: left;background-color: #f0f8ff;}#sk-container-id-2 div.sk-toggleable__content pre {margin: 0.2em;color: black;border-radius: 0.25em;background-color: #f0f8ff;}#sk-container-id-2 input.sk-toggleable__control:checked~div.sk-toggleable__content {max-height: 200px;max-width: 100%;overflow: auto;}#sk-container-id-2 input.sk-toggleable__control:checked~label.sk-toggleable__label-arrow:before {content: \"▾\";}#sk-container-id-2 div.sk-estimator input.sk-toggleable__control:checked~label.sk-toggleable__label {background-color: #d4ebff;}#sk-container-id-2 div.sk-label input.sk-toggleable__control:checked~label.sk-toggleable__label {background-color: #d4ebff;}#sk-container-id-2 input.sk-hidden--visually {border: 0;clip: rect(1px 1px 1px 1px);clip: rect(1px, 1px, 1px, 1px);height: 1px;margin: -1px;overflow: hidden;padding: 0;position: absolute;width: 1px;}#sk-container-id-2 div.sk-estimator {font-family: monospace;background-color: #f0f8ff;border: 1px dotted black;border-radius: 0.25em;box-sizing: border-box;margin-bottom: 0.5em;}#sk-container-id-2 div.sk-estimator:hover {background-color: #d4ebff;}#sk-container-id-2 div.sk-parallel-item::after {content: \"\";width: 100%;border-bottom: 1px solid gray;flex-grow: 1;}#sk-container-id-2 div.sk-label:hover label.sk-toggleable__label {background-color: #d4ebff;}#sk-container-id-2 div.sk-serial::before {content: \"\";position: absolute;border-left: 1px solid gray;box-sizing: border-box;top: 0;bottom: 0;left: 50%;z-index: 0;}#sk-container-id-2 div.sk-serial {display: flex;flex-direction: column;align-items: center;background-color: white;padding-right: 0.2em;padding-left: 0.2em;position: relative;}#sk-container-id-2 div.sk-item {position: relative;z-index: 1;}#sk-container-id-2 div.sk-parallel {display: flex;align-items: stretch;justify-content: center;background-color: white;position: relative;}#sk-container-id-2 div.sk-item::before, #sk-container-id-2 div.sk-parallel-item::before {content: \"\";position: absolute;border-left: 1px solid gray;box-sizing: border-box;top: 0;bottom: 0;left: 50%;z-index: -1;}#sk-container-id-2 div.sk-parallel-item {display: flex;flex-direction: column;z-index: 1;position: relative;background-color: white;}#sk-container-id-2 div.sk-parallel-item:first-child::after {align-self: flex-end;width: 50%;}#sk-container-id-2 div.sk-parallel-item:last-child::after {align-self: flex-start;width: 50%;}#sk-container-id-2 div.sk-parallel-item:only-child::after {width: 0;}#sk-container-id-2 div.sk-dashed-wrapped {border: 1px dashed gray;margin: 0 0.4em 0.5em 0.4em;box-sizing: border-box;padding-bottom: 0.4em;background-color: white;}#sk-container-id-2 div.sk-label label {font-family: monospace;font-weight: bold;display: inline-block;line-height: 1.2em;}#sk-container-id-2 div.sk-label-container {text-align: center;}#sk-container-id-2 div.sk-container {/* jupyter's `normalize.less` sets `[hidden] { display: none; }` but bootstrap.min.css set `[hidden] { display: none !important; }` so we also need the `!important` here to be able to override the default hidden behavior on the sphinx rendered scikit-learn.org. See: https://github.com/scikit-learn/scikit-learn/issues/21755 */display: inline-block !important;position: relative;}#sk-container-id-2 div.sk-text-repr-fallback {display: none;}</style><div id=\"sk-container-id-2\" class=\"sk-top-container\"><div class=\"sk-text-repr-fallback\"><pre>RandomForestRegressor(random_state=1)</pre><b>In a Jupyter environment, please rerun this cell to show the HTML representation or trust the notebook. <br />On GitHub, the HTML representation is unable to render, please try loading this page with nbviewer.org.</b></div><div class=\"sk-container\" hidden><div class=\"sk-item\"><div class=\"sk-estimator sk-toggleable\"><input class=\"sk-toggleable__control sk-hidden--visually\" id=\"sk-estimator-id-2\" type=\"checkbox\" checked><label for=\"sk-estimator-id-2\" class=\"sk-toggleable__label sk-toggleable__label-arrow\">RandomForestRegressor</label><div class=\"sk-toggleable__content\"><pre>RandomForestRegressor(random_state=1)</pre></div></div></div></div></div>"
            ]
          },
          "metadata": {},
          "execution_count": 37
        }
      ]
    },
    {
      "cell_type": "code",
      "source": [
        "y_pred = rf_pca.predict(X_pca_test)\n",
        "print(round(metrics.mean_squared_error(y_pred, y_test),4))\n",
        "print(round(metrics.r2_score(y_pred, y_test),4))"
      ],
      "metadata": {
        "colab": {
          "base_uri": "https://localhost:8080/"
        },
        "id": "XOjGnv0ZQOpw",
        "outputId": "3d1dc16e-8d45-45c9-9a0b-56726c750b4c"
      },
      "execution_count": null,
      "outputs": [
        {
          "output_type": "stream",
          "name": "stdout",
          "text": [
            "0.1064\n",
            "0.9946\n"
          ]
        }
      ]
    },
    {
      "cell_type": "code",
      "source": [
        "regressor = DecisionTreeRegressor(random_state = 0) \n",
        "  \n",
        "regressor.fit(X_train, y_train)\n",
        "\n",
        "y_pred = regressor.predict(X_test)\n",
        "print(round(metrics.mean_squared_error(y_pred, y_test),4))\n",
        "print(round(metrics.r2_score(y_pred, y_test),4))"
      ],
      "metadata": {
        "colab": {
          "base_uri": "https://localhost:8080/"
        },
        "id": "rIb7MtufUadF",
        "outputId": "41bdb5f4-6e96-4af2-89d6-bd1eadd7458a"
      },
      "execution_count": null,
      "outputs": [
        {
          "output_type": "stream",
          "name": "stdout",
          "text": [
            "0.0571\n",
            "0.9971\n"
          ]
        }
      ]
    },
    {
      "cell_type": "code",
      "source": [
        "regressor = DecisionTreeRegressor(random_state = 0) \n",
        "  \n",
        "regressor.fit(X_pca_train, y_pca_train)\n",
        "\n",
        "y_pred = regressor.predict(X_pca_test)\n",
        "print(round(metrics.mean_squared_error(y_pred, y_test),4))\n",
        "print(round(metrics.r2_score(y_pred, y_test),4))"
      ],
      "metadata": {
        "colab": {
          "base_uri": "https://localhost:8080/"
        },
        "id": "ceQ6MjdGU2T_",
        "outputId": "87efb459-d681-4311-b234-8bdb5e82202e"
      },
      "execution_count": null,
      "outputs": [
        {
          "output_type": "stream",
          "name": "stdout",
          "text": [
            "0.2307\n",
            "0.9883\n"
          ]
        }
      ]
    }
  ]
}