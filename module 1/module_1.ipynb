{
  "cells": [
    {
      "cell_type": "markdown",
      "id": "9237cc68",
      "metadata": {
        "id": "9237cc68"
      },
      "source": [
        "# Тестовый код"
      ]
    },
    {
      "cell_type": "code",
      "execution_count": 1,
      "id": "a19ad0b7",
      "metadata": {
        "id": "a19ad0b7",
        "outputId": "258c3104-20b6-4a98-db00-45801dd587b0",
        "colab": {
          "base_uri": "https://localhost:8080/"
        }
      },
      "outputs": [
        {
          "output_type": "stream",
          "name": "stdout",
          "text": [
            "Hello world!\n"
          ]
        }
      ],
      "source": [
        "print ('Hello world!')"
      ]
    },
    {
      "cell_type": "code",
      "execution_count": 2,
      "id": "17d84ac8",
      "metadata": {
        "id": "17d84ac8",
        "outputId": "5add4f09-1bac-482a-8be0-409e5b264e8e",
        "colab": {
          "base_uri": "https://localhost:8080/"
        }
      },
      "outputs": [
        {
          "output_type": "execute_result",
          "data": {
            "text/plain": [
              "13"
            ]
          },
          "metadata": {},
          "execution_count": 2
        }
      ],
      "source": [
        "x = 2\n",
        "y = 3\n",
        "z = x**2 + y**2\n",
        "z"
      ]
    },
    {
      "cell_type": "code",
      "execution_count": 3,
      "id": "70849c2f",
      "metadata": {
        "id": "70849c2f",
        "outputId": "769784fc-47ea-4a39-d1c6-dd8f76c67102",
        "colab": {
          "base_uri": "https://localhost:8080/"
        }
      },
      "outputs": [
        {
          "output_type": "execute_result",
          "data": {
            "text/plain": [
              "26"
            ]
          },
          "metadata": {},
          "execution_count": 3
        }
      ],
      "source": [
        "x = 2\n",
        "y = 3\n",
        "z = (x**2 + y**2)*2\n",
        "z"
      ]
    },
    {
      "cell_type": "code",
      "execution_count": 4,
      "id": "1b1c50b5",
      "metadata": {
        "id": "1b1c50b5",
        "outputId": "8e922856-e12d-41f3-c4d2-d22509288f5a",
        "colab": {
          "base_uri": "https://localhost:8080/"
        }
      },
      "outputs": [
        {
          "output_type": "execute_result",
          "data": {
            "text/plain": [
              "3.25"
            ]
          },
          "metadata": {},
          "execution_count": 4
        }
      ],
      "source": [
        "x = 2\n",
        "y = 3\n",
        "z = (x**2 + y**2)/4\n",
        "z"
      ]
    },
    {
      "cell_type": "code",
      "execution_count": 5,
      "id": "222eeba6",
      "metadata": {
        "id": "222eeba6",
        "outputId": "a3a19be0-ba28-47af-9f8d-90f23717d664",
        "colab": {
          "base_uri": "https://localhost:8080/"
        }
      },
      "outputs": [
        {
          "output_type": "execute_result",
          "data": {
            "text/plain": [
              "1"
            ]
          },
          "metadata": {},
          "execution_count": 5
        }
      ],
      "source": [
        "x = 2\n",
        "y = 3\n",
        "z = (x**2 + y**2)%4\n",
        "z"
      ]
    },
    {
      "cell_type": "code",
      "execution_count": 6,
      "id": "3799a390",
      "metadata": {
        "id": "3799a390",
        "outputId": "2968c2ff-a019-4c59-ae67-6a0f9562c92d",
        "colab": {
          "base_uri": "https://localhost:8080/"
        }
      },
      "outputs": [
        {
          "output_type": "execute_result",
          "data": {
            "text/plain": [
              "3"
            ]
          },
          "metadata": {},
          "execution_count": 6
        }
      ],
      "source": [
        "x = 2\n",
        "y = 3\n",
        "z = (x**2 + y**2)//4\n",
        "z"
      ]
    },
    {
      "cell_type": "markdown",
      "id": "6cad1490",
      "metadata": {
        "id": "6cad1490"
      },
      "source": [
        "# Импорт библиотек и данных"
      ]
    },
    {
      "cell_type": "code",
      "execution_count": 7,
      "id": "bfc9afc9",
      "metadata": {
        "id": "bfc9afc9"
      },
      "outputs": [],
      "source": [
        "import scipy as sp\n",
        "from scipy import stats  # модуль статистических функций\n",
        "import pandas as pd\n",
        "import numpy as np\n",
        "import matplotlib.pyplot as plt\n",
        "import collections as clt\n",
        "import statistics as stat\n",
        "import random"
      ]
    },
    {
      "cell_type": "code",
      "execution_count": 8,
      "id": "2dada048",
      "metadata": {
        "scrolled": false,
        "id": "2dada048",
        "outputId": "08c1986a-776a-4b25-b7fc-69d90de511f5",
        "colab": {
          "base_uri": "https://localhost:8080/",
          "height": 554
        }
      },
      "outputs": [
        {
          "output_type": "execute_result",
          "data": {
            "text/plain": [
              "     Press Association Reference                Constituency Name  \\\n",
              "0                            1.0                         Aberavon   \n",
              "1                            2.0                        Aberconwy   \n",
              "2                            3.0                   Aberdeen North   \n",
              "3                            4.0                   Aberdeen South   \n",
              "4                            5.0  Aberdeenshire West & Kincardine   \n",
              "..                           ...                              ...   \n",
              "646                        647.0                         Ynys Mon   \n",
              "647                        648.0                     York Central   \n",
              "648                        649.0                       York Outer   \n",
              "649                        650.0                   Yorkshire East   \n",
              "650                          NaN                              NaN   \n",
              "\n",
              "                       Region  Election Year  Electorate     Votes  AC  AD  \\\n",
              "0                       Wales         2010.0     50838.0     30958 NaN NaN   \n",
              "1                       Wales         2010.0     44593.0     29966 NaN NaN   \n",
              "2                    Scotland         2010.0     64808.0     37701 NaN NaN   \n",
              "3                    Scotland         2010.0     64031.0     43034 NaN NaN   \n",
              "4                    Scotland         2010.0     66110.0     45195 NaN NaN   \n",
              "..                        ...            ...         ...       ...  ..  ..   \n",
              "646                     Wales         2010.0     50075.0     34444 NaN NaN   \n",
              "647  Yorkshire and the Humber         2010.0     76439.0     46483 NaN NaN   \n",
              "648  Yorkshire and the Humber         2010.0     75939.0     53300 NaN NaN   \n",
              "649  Yorkshire and the Humber         2010.0     80105.0     51254 NaN NaN   \n",
              "650                       NaN            NaN         NaN  29687604 NaN NaN   \n",
              "\n",
              "     AGS  APNI  ...    UKIP  UPS  UV  VCCA  Vote  Wessex Reg  WRP  You  Youth  \\\n",
              "0    NaN   NaN  ...   489.0  NaN NaN   NaN   NaN         NaN  NaN  NaN    NaN   \n",
              "1    NaN   NaN  ...   632.0  NaN NaN   NaN   NaN         NaN  NaN  NaN    NaN   \n",
              "2    NaN   NaN  ...     NaN  NaN NaN   NaN   NaN         NaN  NaN  NaN    NaN   \n",
              "3    NaN   NaN  ...     NaN  NaN NaN   NaN   NaN         NaN  NaN  NaN    NaN   \n",
              "4    NaN   NaN  ...   397.0  NaN NaN   NaN   NaN         NaN  NaN  NaN    NaN   \n",
              "..   ...   ...  ...     ...  ...  ..   ...   ...         ...  ...  ...    ...   \n",
              "646  NaN   NaN  ...  1201.0  NaN NaN   NaN   NaN         NaN  NaN  NaN    NaN   \n",
              "647  NaN   NaN  ...  1100.0  NaN NaN   NaN   NaN         NaN  NaN  NaN    NaN   \n",
              "648  NaN   NaN  ...  1100.0  NaN NaN   NaN   NaN         NaN  NaN  NaN    NaN   \n",
              "649  NaN   NaN  ...  2142.0  NaN NaN   NaN   NaN         NaN  NaN  NaN    NaN   \n",
              "650  NaN   NaN  ...     NaN  NaN NaN   NaN   NaN         NaN  NaN  NaN    NaN   \n",
              "\n",
              "     YRDPL  \n",
              "0      NaN  \n",
              "1      NaN  \n",
              "2      NaN  \n",
              "3      NaN  \n",
              "4      NaN  \n",
              "..     ...  \n",
              "646    NaN  \n",
              "647    NaN  \n",
              "648    NaN  \n",
              "649    NaN  \n",
              "650    NaN  \n",
              "\n",
              "[651 rows x 144 columns]"
            ],
            "text/html": [
              "\n",
              "  <div id=\"df-de3f28ab-47ee-4e87-a273-209804668605\">\n",
              "    <div class=\"colab-df-container\">\n",
              "      <div>\n",
              "<style scoped>\n",
              "    .dataframe tbody tr th:only-of-type {\n",
              "        vertical-align: middle;\n",
              "    }\n",
              "\n",
              "    .dataframe tbody tr th {\n",
              "        vertical-align: top;\n",
              "    }\n",
              "\n",
              "    .dataframe thead th {\n",
              "        text-align: right;\n",
              "    }\n",
              "</style>\n",
              "<table border=\"1\" class=\"dataframe\">\n",
              "  <thead>\n",
              "    <tr style=\"text-align: right;\">\n",
              "      <th></th>\n",
              "      <th>Press Association Reference</th>\n",
              "      <th>Constituency Name</th>\n",
              "      <th>Region</th>\n",
              "      <th>Election Year</th>\n",
              "      <th>Electorate</th>\n",
              "      <th>Votes</th>\n",
              "      <th>AC</th>\n",
              "      <th>AD</th>\n",
              "      <th>AGS</th>\n",
              "      <th>APNI</th>\n",
              "      <th>...</th>\n",
              "      <th>UKIP</th>\n",
              "      <th>UPS</th>\n",
              "      <th>UV</th>\n",
              "      <th>VCCA</th>\n",
              "      <th>Vote</th>\n",
              "      <th>Wessex Reg</th>\n",
              "      <th>WRP</th>\n",
              "      <th>You</th>\n",
              "      <th>Youth</th>\n",
              "      <th>YRDPL</th>\n",
              "    </tr>\n",
              "  </thead>\n",
              "  <tbody>\n",
              "    <tr>\n",
              "      <th>0</th>\n",
              "      <td>1.0</td>\n",
              "      <td>Aberavon</td>\n",
              "      <td>Wales</td>\n",
              "      <td>2010.0</td>\n",
              "      <td>50838.0</td>\n",
              "      <td>30958</td>\n",
              "      <td>NaN</td>\n",
              "      <td>NaN</td>\n",
              "      <td>NaN</td>\n",
              "      <td>NaN</td>\n",
              "      <td>...</td>\n",
              "      <td>489.0</td>\n",
              "      <td>NaN</td>\n",
              "      <td>NaN</td>\n",
              "      <td>NaN</td>\n",
              "      <td>NaN</td>\n",
              "      <td>NaN</td>\n",
              "      <td>NaN</td>\n",
              "      <td>NaN</td>\n",
              "      <td>NaN</td>\n",
              "      <td>NaN</td>\n",
              "    </tr>\n",
              "    <tr>\n",
              "      <th>1</th>\n",
              "      <td>2.0</td>\n",
              "      <td>Aberconwy</td>\n",
              "      <td>Wales</td>\n",
              "      <td>2010.0</td>\n",
              "      <td>44593.0</td>\n",
              "      <td>29966</td>\n",
              "      <td>NaN</td>\n",
              "      <td>NaN</td>\n",
              "      <td>NaN</td>\n",
              "      <td>NaN</td>\n",
              "      <td>...</td>\n",
              "      <td>632.0</td>\n",
              "      <td>NaN</td>\n",
              "      <td>NaN</td>\n",
              "      <td>NaN</td>\n",
              "      <td>NaN</td>\n",
              "      <td>NaN</td>\n",
              "      <td>NaN</td>\n",
              "      <td>NaN</td>\n",
              "      <td>NaN</td>\n",
              "      <td>NaN</td>\n",
              "    </tr>\n",
              "    <tr>\n",
              "      <th>2</th>\n",
              "      <td>3.0</td>\n",
              "      <td>Aberdeen North</td>\n",
              "      <td>Scotland</td>\n",
              "      <td>2010.0</td>\n",
              "      <td>64808.0</td>\n",
              "      <td>37701</td>\n",
              "      <td>NaN</td>\n",
              "      <td>NaN</td>\n",
              "      <td>NaN</td>\n",
              "      <td>NaN</td>\n",
              "      <td>...</td>\n",
              "      <td>NaN</td>\n",
              "      <td>NaN</td>\n",
              "      <td>NaN</td>\n",
              "      <td>NaN</td>\n",
              "      <td>NaN</td>\n",
              "      <td>NaN</td>\n",
              "      <td>NaN</td>\n",
              "      <td>NaN</td>\n",
              "      <td>NaN</td>\n",
              "      <td>NaN</td>\n",
              "    </tr>\n",
              "    <tr>\n",
              "      <th>3</th>\n",
              "      <td>4.0</td>\n",
              "      <td>Aberdeen South</td>\n",
              "      <td>Scotland</td>\n",
              "      <td>2010.0</td>\n",
              "      <td>64031.0</td>\n",
              "      <td>43034</td>\n",
              "      <td>NaN</td>\n",
              "      <td>NaN</td>\n",
              "      <td>NaN</td>\n",
              "      <td>NaN</td>\n",
              "      <td>...</td>\n",
              "      <td>NaN</td>\n",
              "      <td>NaN</td>\n",
              "      <td>NaN</td>\n",
              "      <td>NaN</td>\n",
              "      <td>NaN</td>\n",
              "      <td>NaN</td>\n",
              "      <td>NaN</td>\n",
              "      <td>NaN</td>\n",
              "      <td>NaN</td>\n",
              "      <td>NaN</td>\n",
              "    </tr>\n",
              "    <tr>\n",
              "      <th>4</th>\n",
              "      <td>5.0</td>\n",
              "      <td>Aberdeenshire West &amp; Kincardine</td>\n",
              "      <td>Scotland</td>\n",
              "      <td>2010.0</td>\n",
              "      <td>66110.0</td>\n",
              "      <td>45195</td>\n",
              "      <td>NaN</td>\n",
              "      <td>NaN</td>\n",
              "      <td>NaN</td>\n",
              "      <td>NaN</td>\n",
              "      <td>...</td>\n",
              "      <td>397.0</td>\n",
              "      <td>NaN</td>\n",
              "      <td>NaN</td>\n",
              "      <td>NaN</td>\n",
              "      <td>NaN</td>\n",
              "      <td>NaN</td>\n",
              "      <td>NaN</td>\n",
              "      <td>NaN</td>\n",
              "      <td>NaN</td>\n",
              "      <td>NaN</td>\n",
              "    </tr>\n",
              "    <tr>\n",
              "      <th>...</th>\n",
              "      <td>...</td>\n",
              "      <td>...</td>\n",
              "      <td>...</td>\n",
              "      <td>...</td>\n",
              "      <td>...</td>\n",
              "      <td>...</td>\n",
              "      <td>...</td>\n",
              "      <td>...</td>\n",
              "      <td>...</td>\n",
              "      <td>...</td>\n",
              "      <td>...</td>\n",
              "      <td>...</td>\n",
              "      <td>...</td>\n",
              "      <td>...</td>\n",
              "      <td>...</td>\n",
              "      <td>...</td>\n",
              "      <td>...</td>\n",
              "      <td>...</td>\n",
              "      <td>...</td>\n",
              "      <td>...</td>\n",
              "      <td>...</td>\n",
              "    </tr>\n",
              "    <tr>\n",
              "      <th>646</th>\n",
              "      <td>647.0</td>\n",
              "      <td>Ynys Mon</td>\n",
              "      <td>Wales</td>\n",
              "      <td>2010.0</td>\n",
              "      <td>50075.0</td>\n",
              "      <td>34444</td>\n",
              "      <td>NaN</td>\n",
              "      <td>NaN</td>\n",
              "      <td>NaN</td>\n",
              "      <td>NaN</td>\n",
              "      <td>...</td>\n",
              "      <td>1201.0</td>\n",
              "      <td>NaN</td>\n",
              "      <td>NaN</td>\n",
              "      <td>NaN</td>\n",
              "      <td>NaN</td>\n",
              "      <td>NaN</td>\n",
              "      <td>NaN</td>\n",
              "      <td>NaN</td>\n",
              "      <td>NaN</td>\n",
              "      <td>NaN</td>\n",
              "    </tr>\n",
              "    <tr>\n",
              "      <th>647</th>\n",
              "      <td>648.0</td>\n",
              "      <td>York Central</td>\n",
              "      <td>Yorkshire and the Humber</td>\n",
              "      <td>2010.0</td>\n",
              "      <td>76439.0</td>\n",
              "      <td>46483</td>\n",
              "      <td>NaN</td>\n",
              "      <td>NaN</td>\n",
              "      <td>NaN</td>\n",
              "      <td>NaN</td>\n",
              "      <td>...</td>\n",
              "      <td>1100.0</td>\n",
              "      <td>NaN</td>\n",
              "      <td>NaN</td>\n",
              "      <td>NaN</td>\n",
              "      <td>NaN</td>\n",
              "      <td>NaN</td>\n",
              "      <td>NaN</td>\n",
              "      <td>NaN</td>\n",
              "      <td>NaN</td>\n",
              "      <td>NaN</td>\n",
              "    </tr>\n",
              "    <tr>\n",
              "      <th>648</th>\n",
              "      <td>649.0</td>\n",
              "      <td>York Outer</td>\n",
              "      <td>Yorkshire and the Humber</td>\n",
              "      <td>2010.0</td>\n",
              "      <td>75939.0</td>\n",
              "      <td>53300</td>\n",
              "      <td>NaN</td>\n",
              "      <td>NaN</td>\n",
              "      <td>NaN</td>\n",
              "      <td>NaN</td>\n",
              "      <td>...</td>\n",
              "      <td>1100.0</td>\n",
              "      <td>NaN</td>\n",
              "      <td>NaN</td>\n",
              "      <td>NaN</td>\n",
              "      <td>NaN</td>\n",
              "      <td>NaN</td>\n",
              "      <td>NaN</td>\n",
              "      <td>NaN</td>\n",
              "      <td>NaN</td>\n",
              "      <td>NaN</td>\n",
              "    </tr>\n",
              "    <tr>\n",
              "      <th>649</th>\n",
              "      <td>650.0</td>\n",
              "      <td>Yorkshire East</td>\n",
              "      <td>Yorkshire and the Humber</td>\n",
              "      <td>2010.0</td>\n",
              "      <td>80105.0</td>\n",
              "      <td>51254</td>\n",
              "      <td>NaN</td>\n",
              "      <td>NaN</td>\n",
              "      <td>NaN</td>\n",
              "      <td>NaN</td>\n",
              "      <td>...</td>\n",
              "      <td>2142.0</td>\n",
              "      <td>NaN</td>\n",
              "      <td>NaN</td>\n",
              "      <td>NaN</td>\n",
              "      <td>NaN</td>\n",
              "      <td>NaN</td>\n",
              "      <td>NaN</td>\n",
              "      <td>NaN</td>\n",
              "      <td>NaN</td>\n",
              "      <td>NaN</td>\n",
              "    </tr>\n",
              "    <tr>\n",
              "      <th>650</th>\n",
              "      <td>NaN</td>\n",
              "      <td>NaN</td>\n",
              "      <td>NaN</td>\n",
              "      <td>NaN</td>\n",
              "      <td>NaN</td>\n",
              "      <td>29687604</td>\n",
              "      <td>NaN</td>\n",
              "      <td>NaN</td>\n",
              "      <td>NaN</td>\n",
              "      <td>NaN</td>\n",
              "      <td>...</td>\n",
              "      <td>NaN</td>\n",
              "      <td>NaN</td>\n",
              "      <td>NaN</td>\n",
              "      <td>NaN</td>\n",
              "      <td>NaN</td>\n",
              "      <td>NaN</td>\n",
              "      <td>NaN</td>\n",
              "      <td>NaN</td>\n",
              "      <td>NaN</td>\n",
              "      <td>NaN</td>\n",
              "    </tr>\n",
              "  </tbody>\n",
              "</table>\n",
              "<p>651 rows × 144 columns</p>\n",
              "</div>\n",
              "      <button class=\"colab-df-convert\" onclick=\"convertToInteractive('df-de3f28ab-47ee-4e87-a273-209804668605')\"\n",
              "              title=\"Convert this dataframe to an interactive table.\"\n",
              "              style=\"display:none;\">\n",
              "        \n",
              "  <svg xmlns=\"http://www.w3.org/2000/svg\" height=\"24px\"viewBox=\"0 0 24 24\"\n",
              "       width=\"24px\">\n",
              "    <path d=\"M0 0h24v24H0V0z\" fill=\"none\"/>\n",
              "    <path d=\"M18.56 5.44l.94 2.06.94-2.06 2.06-.94-2.06-.94-.94-2.06-.94 2.06-2.06.94zm-11 1L8.5 8.5l.94-2.06 2.06-.94-2.06-.94L8.5 2.5l-.94 2.06-2.06.94zm10 10l.94 2.06.94-2.06 2.06-.94-2.06-.94-.94-2.06-.94 2.06-2.06.94z\"/><path d=\"M17.41 7.96l-1.37-1.37c-.4-.4-.92-.59-1.43-.59-.52 0-1.04.2-1.43.59L10.3 9.45l-7.72 7.72c-.78.78-.78 2.05 0 2.83L4 21.41c.39.39.9.59 1.41.59.51 0 1.02-.2 1.41-.59l7.78-7.78 2.81-2.81c.8-.78.8-2.07 0-2.86zM5.41 20L4 18.59l7.72-7.72 1.47 1.35L5.41 20z\"/>\n",
              "  </svg>\n",
              "      </button>\n",
              "      \n",
              "  <style>\n",
              "    .colab-df-container {\n",
              "      display:flex;\n",
              "      flex-wrap:wrap;\n",
              "      gap: 12px;\n",
              "    }\n",
              "\n",
              "    .colab-df-convert {\n",
              "      background-color: #E8F0FE;\n",
              "      border: none;\n",
              "      border-radius: 50%;\n",
              "      cursor: pointer;\n",
              "      display: none;\n",
              "      fill: #1967D2;\n",
              "      height: 32px;\n",
              "      padding: 0 0 0 0;\n",
              "      width: 32px;\n",
              "    }\n",
              "\n",
              "    .colab-df-convert:hover {\n",
              "      background-color: #E2EBFA;\n",
              "      box-shadow: 0px 1px 2px rgba(60, 64, 67, 0.3), 0px 1px 3px 1px rgba(60, 64, 67, 0.15);\n",
              "      fill: #174EA6;\n",
              "    }\n",
              "\n",
              "    [theme=dark] .colab-df-convert {\n",
              "      background-color: #3B4455;\n",
              "      fill: #D2E3FC;\n",
              "    }\n",
              "\n",
              "    [theme=dark] .colab-df-convert:hover {\n",
              "      background-color: #434B5C;\n",
              "      box-shadow: 0px 1px 3px 1px rgba(0, 0, 0, 0.15);\n",
              "      filter: drop-shadow(0px 1px 2px rgba(0, 0, 0, 0.3));\n",
              "      fill: #FFFFFF;\n",
              "    }\n",
              "  </style>\n",
              "\n",
              "      <script>\n",
              "        const buttonEl =\n",
              "          document.querySelector('#df-de3f28ab-47ee-4e87-a273-209804668605 button.colab-df-convert');\n",
              "        buttonEl.style.display =\n",
              "          google.colab.kernel.accessAllowed ? 'block' : 'none';\n",
              "\n",
              "        async function convertToInteractive(key) {\n",
              "          const element = document.querySelector('#df-de3f28ab-47ee-4e87-a273-209804668605');\n",
              "          const dataTable =\n",
              "            await google.colab.kernel.invokeFunction('convertToInteractive',\n",
              "                                                     [key], {});\n",
              "          if (!dataTable) return;\n",
              "\n",
              "          const docLinkHtml = 'Like what you see? Visit the ' +\n",
              "            '<a target=\"_blank\" href=https://colab.research.google.com/notebooks/data_table.ipynb>data table notebook</a>'\n",
              "            + ' to learn more about interactive tables.';\n",
              "          element.innerHTML = '';\n",
              "          dataTable['output_type'] = 'display_data';\n",
              "          await google.colab.output.renderOutput(dataTable, element);\n",
              "          const docLink = document.createElement('div');\n",
              "          docLink.innerHTML = docLinkHtml;\n",
              "          element.appendChild(docLink);\n",
              "        }\n",
              "      </script>\n",
              "    </div>\n",
              "  </div>\n",
              "  "
            ]
          },
          "metadata": {},
          "execution_count": 8
        }
      ],
      "source": [
        "pd.read_excel('data/UK2010.xls')"
      ]
    },
    {
      "cell_type": "code",
      "execution_count": 9,
      "id": "85e432b7",
      "metadata": {
        "scrolled": false,
        "id": "85e432b7",
        "outputId": "4a609afb-461e-4ae6-b6d2-03fbe6063638",
        "colab": {
          "base_uri": "https://localhost:8080/",
          "height": 661
        }
      },
      "outputs": [
        {
          "output_type": "execute_result",
          "data": {
            "text/plain": [
              "       Code for district  \\\n",
              "0                      1   \n",
              "1                      1   \n",
              "2                      1   \n",
              "3                      1   \n",
              "4                      1   \n",
              "...                  ...   \n",
              "49993                 50   \n",
              "49994                 50   \n",
              "49995                 50   \n",
              "49996                 50   \n",
              "49997                 50   \n",
              "\n",
              "       Number of the polling district (unique to state, not overall)  \\\n",
              "0                                                    241               \n",
              "1                                                    231               \n",
              "2                                                    236               \n",
              "3                                                    239               \n",
              "4                                                    230               \n",
              "...                                                  ...               \n",
              "49993                                                207               \n",
              "49994                                               2951               \n",
              "49995                                               2967               \n",
              "49996                                               3364               \n",
              "49997                                               2780               \n",
              "\n",
              "      Name of district  Number of voters included in voters list  \\\n",
              "0               adygei                                       179   \n",
              "1               adygei                                       602   \n",
              "2               adygei                                       700   \n",
              "3               adygei                                       560   \n",
              "4               adygei                                       161   \n",
              "...                ...                                       ...   \n",
              "49993       moscow_reg                                      2631   \n",
              "49994       moscow_reg                                       702   \n",
              "49995       moscow_reg                                      2161   \n",
              "49996       moscow_reg                                      2732   \n",
              "49997       moscow_reg                                       758   \n",
              "\n",
              "       The number of ballots received by the precinct election commission  \\\n",
              "0                                                    170                    \n",
              "1                                                    555                    \n",
              "2                                                    646                    \n",
              "3                                                    540                    \n",
              "4                                                    154                    \n",
              "...                                                  ...                    \n",
              "49993                                               2000                    \n",
              "49994                                                550                    \n",
              "49995                                               1550                    \n",
              "49996                                               2100                    \n",
              "49997                                                650                    \n",
              "\n",
              "       The number of ballots issued to voters who voted early  \\\n",
              "0                                                      0        \n",
              "1                                                      0        \n",
              "2                                                      0        \n",
              "3                                                      0        \n",
              "4                                                      0        \n",
              "...                                                  ...        \n",
              "49993                                                  0        \n",
              "49994                                                  0        \n",
              "49995                                                  0        \n",
              "49996                                                  0        \n",
              "49997                                                  0        \n",
              "\n",
              "       The number of ballots issued to voters at the polling  \\\n",
              "0                                                    128       \n",
              "1                                                    355       \n",
              "2                                                    377       \n",
              "3                                                    309       \n",
              "4                                                    125       \n",
              "...                                                  ...       \n",
              "49993                                               1417       \n",
              "49994                                                228       \n",
              "49995                                               1176       \n",
              "49996                                               1545       \n",
              "49997                                                378       \n",
              "\n",
              "       The number of ballots issued to voters outside the polling station  \\\n",
              "0                                                     10                    \n",
              "1                                                     54                    \n",
              "2                                                     45                    \n",
              "3                                                     23                    \n",
              "4                                                      7                    \n",
              "...                                                  ...                    \n",
              "49993                                                 21                    \n",
              "49994                                                 69                    \n",
              "49995                                                 16                    \n",
              "49996                                                  4                    \n",
              "49997                                                  7                    \n",
              "\n",
              "       The number of canceled ballots  \\\n",
              "0                                  32   \n",
              "1                                 146   \n",
              "2                                 224   \n",
              "3                                 208   \n",
              "4                                  22   \n",
              "...                               ...   \n",
              "49993                             562   \n",
              "49994                             253   \n",
              "49995                             358   \n",
              "49996                             551   \n",
              "49997                             265   \n",
              "\n",
              "       The number of ballots in mobile ballot boxes  ...  \\\n",
              "0                                                10  ...   \n",
              "1                                                54  ...   \n",
              "2                                                45  ...   \n",
              "3                                                23  ...   \n",
              "4                                                 7  ...   \n",
              "...                                             ...  ...   \n",
              "49993                                            21  ...   \n",
              "49994                                            69  ...   \n",
              "49995                                            16  ...   \n",
              "49996                                             4  ...   \n",
              "49997                                             7  ...   \n",
              "\n",
              "       Number of lost absentee ballots  The number of lost ballots  \\\n",
              "0                                    0                           0   \n",
              "1                                    0                           0   \n",
              "2                                    0                           0   \n",
              "3                                    0                           0   \n",
              "4                                    0                           0   \n",
              "...                                ...                         ...   \n",
              "49993                                0                           0   \n",
              "49994                                0                           0   \n",
              "49995                                0                           0   \n",
              "49996                                0                           0   \n",
              "49997                                0                           0   \n",
              "\n",
              "       The number of ballots not recorded after being obtained  A Just Russia  \\\n",
              "0                                                      0                    6   \n",
              "1                                                      0                   40   \n",
              "2                                                      0                    2   \n",
              "3                                                      0                   34   \n",
              "4                                                      0                    3   \n",
              "...                                                  ...                  ...   \n",
              "49993                                                  0                  268   \n",
              "49994                                                  0                   58   \n",
              "49995                                                  0                  209   \n",
              "49996                                                  0                  271   \n",
              "49997                                                  0                   52   \n",
              "\n",
              "       Liberal Democratic Party of Russia  Patriots of Russia  \\\n",
              "0                                      12                   4   \n",
              "1                                       5                   3   \n",
              "2                                       2                   1   \n",
              "3                                       5                   3   \n",
              "4                                       7                   1   \n",
              "...                                   ...                 ...   \n",
              "49993                                 230                  43   \n",
              "49994                                  44                   6   \n",
              "49995                                 131                  25   \n",
              "49996                                 187                  25   \n",
              "49997                                  51                   4   \n",
              "\n",
              "       Communist Party  Russian United Democratic Party \"Yabloko\"  \\\n",
              "0                   35                                          1   \n",
              "1                  118                                          7   \n",
              "2                  122                                          1   \n",
              "3                  138                                          6   \n",
              "4                   25                                          2   \n",
              "...                ...                                        ...   \n",
              "49993              405                                         98   \n",
              "49994               73                                          8   \n",
              "49995              385                                        155   \n",
              "49996              557                                        153   \n",
              "49997              161                                         12   \n",
              "\n",
              "       United Russia  Right Cause  \n",
              "0                 80            0  \n",
              "1                235            1  \n",
              "2                292            2  \n",
              "3                134            4  \n",
              "4                 93            0  \n",
              "...              ...          ...  \n",
              "49993            325           30  \n",
              "49994             94            3  \n",
              "49995            245           13  \n",
              "49996            255           19  \n",
              "49997             88            4  \n",
              "\n",
              "[49998 rows x 28 columns]"
            ],
            "text/html": [
              "\n",
              "  <div id=\"df-d447036c-8ae7-443f-b870-aa12f7cec696\">\n",
              "    <div class=\"colab-df-container\">\n",
              "      <div>\n",
              "<style scoped>\n",
              "    .dataframe tbody tr th:only-of-type {\n",
              "        vertical-align: middle;\n",
              "    }\n",
              "\n",
              "    .dataframe tbody tr th {\n",
              "        vertical-align: top;\n",
              "    }\n",
              "\n",
              "    .dataframe thead th {\n",
              "        text-align: right;\n",
              "    }\n",
              "</style>\n",
              "<table border=\"1\" class=\"dataframe\">\n",
              "  <thead>\n",
              "    <tr style=\"text-align: right;\">\n",
              "      <th></th>\n",
              "      <th>Code for district</th>\n",
              "      <th>Number of the polling district (unique to state, not overall)</th>\n",
              "      <th>Name of district</th>\n",
              "      <th>Number of voters included in voters list</th>\n",
              "      <th>The number of ballots received by the precinct election commission</th>\n",
              "      <th>The number of ballots issued to voters who voted early</th>\n",
              "      <th>The number of ballots issued to voters at the polling</th>\n",
              "      <th>The number of ballots issued to voters outside the polling station</th>\n",
              "      <th>The number of canceled ballots</th>\n",
              "      <th>The number of ballots in mobile ballot boxes</th>\n",
              "      <th>...</th>\n",
              "      <th>Number of lost absentee ballots</th>\n",
              "      <th>The number of lost ballots</th>\n",
              "      <th>The number of ballots not recorded after being obtained</th>\n",
              "      <th>A Just Russia</th>\n",
              "      <th>Liberal Democratic Party of Russia</th>\n",
              "      <th>Patriots of Russia</th>\n",
              "      <th>Communist Party</th>\n",
              "      <th>Russian United Democratic Party \"Yabloko\"</th>\n",
              "      <th>United Russia</th>\n",
              "      <th>Right Cause</th>\n",
              "    </tr>\n",
              "  </thead>\n",
              "  <tbody>\n",
              "    <tr>\n",
              "      <th>0</th>\n",
              "      <td>1</td>\n",
              "      <td>241</td>\n",
              "      <td>adygei</td>\n",
              "      <td>179</td>\n",
              "      <td>170</td>\n",
              "      <td>0</td>\n",
              "      <td>128</td>\n",
              "      <td>10</td>\n",
              "      <td>32</td>\n",
              "      <td>10</td>\n",
              "      <td>...</td>\n",
              "      <td>0</td>\n",
              "      <td>0</td>\n",
              "      <td>0</td>\n",
              "      <td>6</td>\n",
              "      <td>12</td>\n",
              "      <td>4</td>\n",
              "      <td>35</td>\n",
              "      <td>1</td>\n",
              "      <td>80</td>\n",
              "      <td>0</td>\n",
              "    </tr>\n",
              "    <tr>\n",
              "      <th>1</th>\n",
              "      <td>1</td>\n",
              "      <td>231</td>\n",
              "      <td>adygei</td>\n",
              "      <td>602</td>\n",
              "      <td>555</td>\n",
              "      <td>0</td>\n",
              "      <td>355</td>\n",
              "      <td>54</td>\n",
              "      <td>146</td>\n",
              "      <td>54</td>\n",
              "      <td>...</td>\n",
              "      <td>0</td>\n",
              "      <td>0</td>\n",
              "      <td>0</td>\n",
              "      <td>40</td>\n",
              "      <td>5</td>\n",
              "      <td>3</td>\n",
              "      <td>118</td>\n",
              "      <td>7</td>\n",
              "      <td>235</td>\n",
              "      <td>1</td>\n",
              "    </tr>\n",
              "    <tr>\n",
              "      <th>2</th>\n",
              "      <td>1</td>\n",
              "      <td>236</td>\n",
              "      <td>adygei</td>\n",
              "      <td>700</td>\n",
              "      <td>646</td>\n",
              "      <td>0</td>\n",
              "      <td>377</td>\n",
              "      <td>45</td>\n",
              "      <td>224</td>\n",
              "      <td>45</td>\n",
              "      <td>...</td>\n",
              "      <td>0</td>\n",
              "      <td>0</td>\n",
              "      <td>0</td>\n",
              "      <td>2</td>\n",
              "      <td>2</td>\n",
              "      <td>1</td>\n",
              "      <td>122</td>\n",
              "      <td>1</td>\n",
              "      <td>292</td>\n",
              "      <td>2</td>\n",
              "    </tr>\n",
              "    <tr>\n",
              "      <th>3</th>\n",
              "      <td>1</td>\n",
              "      <td>239</td>\n",
              "      <td>adygei</td>\n",
              "      <td>560</td>\n",
              "      <td>540</td>\n",
              "      <td>0</td>\n",
              "      <td>309</td>\n",
              "      <td>23</td>\n",
              "      <td>208</td>\n",
              "      <td>23</td>\n",
              "      <td>...</td>\n",
              "      <td>0</td>\n",
              "      <td>0</td>\n",
              "      <td>0</td>\n",
              "      <td>34</td>\n",
              "      <td>5</td>\n",
              "      <td>3</td>\n",
              "      <td>138</td>\n",
              "      <td>6</td>\n",
              "      <td>134</td>\n",
              "      <td>4</td>\n",
              "    </tr>\n",
              "    <tr>\n",
              "      <th>4</th>\n",
              "      <td>1</td>\n",
              "      <td>230</td>\n",
              "      <td>adygei</td>\n",
              "      <td>161</td>\n",
              "      <td>154</td>\n",
              "      <td>0</td>\n",
              "      <td>125</td>\n",
              "      <td>7</td>\n",
              "      <td>22</td>\n",
              "      <td>7</td>\n",
              "      <td>...</td>\n",
              "      <td>0</td>\n",
              "      <td>0</td>\n",
              "      <td>0</td>\n",
              "      <td>3</td>\n",
              "      <td>7</td>\n",
              "      <td>1</td>\n",
              "      <td>25</td>\n",
              "      <td>2</td>\n",
              "      <td>93</td>\n",
              "      <td>0</td>\n",
              "    </tr>\n",
              "    <tr>\n",
              "      <th>...</th>\n",
              "      <td>...</td>\n",
              "      <td>...</td>\n",
              "      <td>...</td>\n",
              "      <td>...</td>\n",
              "      <td>...</td>\n",
              "      <td>...</td>\n",
              "      <td>...</td>\n",
              "      <td>...</td>\n",
              "      <td>...</td>\n",
              "      <td>...</td>\n",
              "      <td>...</td>\n",
              "      <td>...</td>\n",
              "      <td>...</td>\n",
              "      <td>...</td>\n",
              "      <td>...</td>\n",
              "      <td>...</td>\n",
              "      <td>...</td>\n",
              "      <td>...</td>\n",
              "      <td>...</td>\n",
              "      <td>...</td>\n",
              "      <td>...</td>\n",
              "    </tr>\n",
              "    <tr>\n",
              "      <th>49993</th>\n",
              "      <td>50</td>\n",
              "      <td>207</td>\n",
              "      <td>moscow_reg</td>\n",
              "      <td>2631</td>\n",
              "      <td>2000</td>\n",
              "      <td>0</td>\n",
              "      <td>1417</td>\n",
              "      <td>21</td>\n",
              "      <td>562</td>\n",
              "      <td>21</td>\n",
              "      <td>...</td>\n",
              "      <td>0</td>\n",
              "      <td>0</td>\n",
              "      <td>0</td>\n",
              "      <td>268</td>\n",
              "      <td>230</td>\n",
              "      <td>43</td>\n",
              "      <td>405</td>\n",
              "      <td>98</td>\n",
              "      <td>325</td>\n",
              "      <td>30</td>\n",
              "    </tr>\n",
              "    <tr>\n",
              "      <th>49994</th>\n",
              "      <td>50</td>\n",
              "      <td>2951</td>\n",
              "      <td>moscow_reg</td>\n",
              "      <td>702</td>\n",
              "      <td>550</td>\n",
              "      <td>0</td>\n",
              "      <td>228</td>\n",
              "      <td>69</td>\n",
              "      <td>253</td>\n",
              "      <td>69</td>\n",
              "      <td>...</td>\n",
              "      <td>0</td>\n",
              "      <td>0</td>\n",
              "      <td>0</td>\n",
              "      <td>58</td>\n",
              "      <td>44</td>\n",
              "      <td>6</td>\n",
              "      <td>73</td>\n",
              "      <td>8</td>\n",
              "      <td>94</td>\n",
              "      <td>3</td>\n",
              "    </tr>\n",
              "    <tr>\n",
              "      <th>49995</th>\n",
              "      <td>50</td>\n",
              "      <td>2967</td>\n",
              "      <td>moscow_reg</td>\n",
              "      <td>2161</td>\n",
              "      <td>1550</td>\n",
              "      <td>0</td>\n",
              "      <td>1176</td>\n",
              "      <td>16</td>\n",
              "      <td>358</td>\n",
              "      <td>16</td>\n",
              "      <td>...</td>\n",
              "      <td>0</td>\n",
              "      <td>0</td>\n",
              "      <td>0</td>\n",
              "      <td>209</td>\n",
              "      <td>131</td>\n",
              "      <td>25</td>\n",
              "      <td>385</td>\n",
              "      <td>155</td>\n",
              "      <td>245</td>\n",
              "      <td>13</td>\n",
              "    </tr>\n",
              "    <tr>\n",
              "      <th>49996</th>\n",
              "      <td>50</td>\n",
              "      <td>3364</td>\n",
              "      <td>moscow_reg</td>\n",
              "      <td>2732</td>\n",
              "      <td>2100</td>\n",
              "      <td>0</td>\n",
              "      <td>1545</td>\n",
              "      <td>4</td>\n",
              "      <td>551</td>\n",
              "      <td>4</td>\n",
              "      <td>...</td>\n",
              "      <td>0</td>\n",
              "      <td>0</td>\n",
              "      <td>0</td>\n",
              "      <td>271</td>\n",
              "      <td>187</td>\n",
              "      <td>25</td>\n",
              "      <td>557</td>\n",
              "      <td>153</td>\n",
              "      <td>255</td>\n",
              "      <td>19</td>\n",
              "    </tr>\n",
              "    <tr>\n",
              "      <th>49997</th>\n",
              "      <td>50</td>\n",
              "      <td>2780</td>\n",
              "      <td>moscow_reg</td>\n",
              "      <td>758</td>\n",
              "      <td>650</td>\n",
              "      <td>0</td>\n",
              "      <td>378</td>\n",
              "      <td>7</td>\n",
              "      <td>265</td>\n",
              "      <td>7</td>\n",
              "      <td>...</td>\n",
              "      <td>0</td>\n",
              "      <td>0</td>\n",
              "      <td>0</td>\n",
              "      <td>52</td>\n",
              "      <td>51</td>\n",
              "      <td>4</td>\n",
              "      <td>161</td>\n",
              "      <td>12</td>\n",
              "      <td>88</td>\n",
              "      <td>4</td>\n",
              "    </tr>\n",
              "  </tbody>\n",
              "</table>\n",
              "<p>49998 rows × 28 columns</p>\n",
              "</div>\n",
              "      <button class=\"colab-df-convert\" onclick=\"convertToInteractive('df-d447036c-8ae7-443f-b870-aa12f7cec696')\"\n",
              "              title=\"Convert this dataframe to an interactive table.\"\n",
              "              style=\"display:none;\">\n",
              "        \n",
              "  <svg xmlns=\"http://www.w3.org/2000/svg\" height=\"24px\"viewBox=\"0 0 24 24\"\n",
              "       width=\"24px\">\n",
              "    <path d=\"M0 0h24v24H0V0z\" fill=\"none\"/>\n",
              "    <path d=\"M18.56 5.44l.94 2.06.94-2.06 2.06-.94-2.06-.94-.94-2.06-.94 2.06-2.06.94zm-11 1L8.5 8.5l.94-2.06 2.06-.94-2.06-.94L8.5 2.5l-.94 2.06-2.06.94zm10 10l.94 2.06.94-2.06 2.06-.94-2.06-.94-.94-2.06-.94 2.06-2.06.94z\"/><path d=\"M17.41 7.96l-1.37-1.37c-.4-.4-.92-.59-1.43-.59-.52 0-1.04.2-1.43.59L10.3 9.45l-7.72 7.72c-.78.78-.78 2.05 0 2.83L4 21.41c.39.39.9.59 1.41.59.51 0 1.02-.2 1.41-.59l7.78-7.78 2.81-2.81c.8-.78.8-2.07 0-2.86zM5.41 20L4 18.59l7.72-7.72 1.47 1.35L5.41 20z\"/>\n",
              "  </svg>\n",
              "      </button>\n",
              "      \n",
              "  <style>\n",
              "    .colab-df-container {\n",
              "      display:flex;\n",
              "      flex-wrap:wrap;\n",
              "      gap: 12px;\n",
              "    }\n",
              "\n",
              "    .colab-df-convert {\n",
              "      background-color: #E8F0FE;\n",
              "      border: none;\n",
              "      border-radius: 50%;\n",
              "      cursor: pointer;\n",
              "      display: none;\n",
              "      fill: #1967D2;\n",
              "      height: 32px;\n",
              "      padding: 0 0 0 0;\n",
              "      width: 32px;\n",
              "    }\n",
              "\n",
              "    .colab-df-convert:hover {\n",
              "      background-color: #E2EBFA;\n",
              "      box-shadow: 0px 1px 2px rgba(60, 64, 67, 0.3), 0px 1px 3px 1px rgba(60, 64, 67, 0.15);\n",
              "      fill: #174EA6;\n",
              "    }\n",
              "\n",
              "    [theme=dark] .colab-df-convert {\n",
              "      background-color: #3B4455;\n",
              "      fill: #D2E3FC;\n",
              "    }\n",
              "\n",
              "    [theme=dark] .colab-df-convert:hover {\n",
              "      background-color: #434B5C;\n",
              "      box-shadow: 0px 1px 3px 1px rgba(0, 0, 0, 0.15);\n",
              "      filter: drop-shadow(0px 1px 2px rgba(0, 0, 0, 0.3));\n",
              "      fill: #FFFFFF;\n",
              "    }\n",
              "  </style>\n",
              "\n",
              "      <script>\n",
              "        const buttonEl =\n",
              "          document.querySelector('#df-d447036c-8ae7-443f-b870-aa12f7cec696 button.colab-df-convert');\n",
              "        buttonEl.style.display =\n",
              "          google.colab.kernel.accessAllowed ? 'block' : 'none';\n",
              "\n",
              "        async function convertToInteractive(key) {\n",
              "          const element = document.querySelector('#df-d447036c-8ae7-443f-b870-aa12f7cec696');\n",
              "          const dataTable =\n",
              "            await google.colab.kernel.invokeFunction('convertToInteractive',\n",
              "                                                     [key], {});\n",
              "          if (!dataTable) return;\n",
              "\n",
              "          const docLinkHtml = 'Like what you see? Visit the ' +\n",
              "            '<a target=\"_blank\" href=https://colab.research.google.com/notebooks/data_table.ipynb>data table notebook</a>'\n",
              "            + ' to learn more about interactive tables.';\n",
              "          element.innerHTML = '';\n",
              "          dataTable['output_type'] = 'display_data';\n",
              "          await google.colab.output.renderOutput(dataTable, element);\n",
              "          const docLink = document.createElement('div');\n",
              "          docLink.innerHTML = docLinkHtml;\n",
              "          element.appendChild(docLink);\n",
              "        }\n",
              "      </script>\n",
              "    </div>\n",
              "  </div>\n",
              "  "
            ]
          },
          "metadata": {},
          "execution_count": 9
        }
      ],
      "source": [
        "pd.read_excel('data/Russia2011/Russia2011_1of2.xls')"
      ]
    },
    {
      "cell_type": "code",
      "execution_count": 10,
      "id": "a8c1e589",
      "metadata": {
        "id": "a8c1e589",
        "outputId": "6c076715-40d0-44c1-8423-e71be1ca012d",
        "colab": {
          "base_uri": "https://localhost:8080/"
        }
      },
      "outputs": [
        {
          "output_type": "execute_result",
          "data": {
            "text/plain": [
              "Index(['Press Association Reference', 'Constituency Name', 'Region',\n",
              "       'Election Year', 'Electorate', 'Votes', 'AC', 'AD', 'AGS', 'APNI',\n",
              "       ...\n",
              "       'UKIP', 'UPS', 'UV', 'VCCA', 'Vote', 'Wessex Reg', 'WRP', 'You',\n",
              "       'Youth', 'YRDPL'],\n",
              "      dtype='object', length=144)"
            ]
          },
          "metadata": {},
          "execution_count": 10
        }
      ],
      "source": [
        "def load_uk():\n",
        "    '''Загрузить данные по Великобритании'''\n",
        "    return pd.read_excel('data/UK2010.xls')\n",
        "\n",
        "def ex_1_1():\n",
        "    '''Получить имена полей кадра данных'''\n",
        "    return load_uk().columns\n",
        "\n",
        "ex_1_1()"
      ]
    },
    {
      "cell_type": "code",
      "execution_count": 11,
      "id": "2b529654",
      "metadata": {
        "id": "2b529654",
        "outputId": "39c70503-a312-4186-bb8a-581bc4110c67",
        "colab": {
          "base_uri": "https://localhost:8080/"
        }
      },
      "outputs": [
        {
          "output_type": "execute_result",
          "data": {
            "text/plain": [
              "0      2010.0\n",
              "1      2010.0\n",
              "2      2010.0\n",
              "3      2010.0\n",
              "4      2010.0\n",
              "        ...  \n",
              "646    2010.0\n",
              "647    2010.0\n",
              "648    2010.0\n",
              "649    2010.0\n",
              "650       NaN\n",
              "Name: Election Year, Length: 651, dtype: float64"
            ]
          },
          "metadata": {},
          "execution_count": 11
        }
      ],
      "source": [
        "def ex_1_2():\n",
        "    '''Получить значения поля \"Год выборов\"'''\n",
        "    return load_uk()['Election Year']\n",
        "\n",
        "ex_1_2()"
      ]
    },
    {
      "cell_type": "code",
      "execution_count": 12,
      "id": "b26b5a59",
      "metadata": {
        "id": "b26b5a59",
        "outputId": "dce33b69-cfea-4ee9-adda-5e3b4c77ee25",
        "colab": {
          "base_uri": "https://localhost:8080/"
        }
      },
      "outputs": [
        {
          "output_type": "execute_result",
          "data": {
            "text/plain": [
              "array([2010.,   nan])"
            ]
          },
          "metadata": {},
          "execution_count": 12
        }
      ],
      "source": [
        "def ex_1_3():\n",
        "    '''Получить значения в поле \"Год выборов\" без дубликатов'''\n",
        "    return load_uk()['Election Year'].unique()\n",
        "\n",
        "ex_1_3()"
      ]
    },
    {
      "cell_type": "code",
      "execution_count": 13,
      "id": "3450bb44",
      "metadata": {
        "id": "3450bb44",
        "outputId": "16fbd9a4-9910-4f2d-c552-46ad2a96a812",
        "colab": {
          "base_uri": "https://localhost:8080/"
        }
      },
      "outputs": [
        {
          "output_type": "execute_result",
          "data": {
            "text/plain": [
              "Counter({2010.0: 650, nan: 1})"
            ]
          },
          "metadata": {},
          "execution_count": 13
        }
      ],
      "source": [
        "clt.Counter (load_uk()['Election Year'])"
      ]
    },
    {
      "cell_type": "code",
      "execution_count": 14,
      "id": "0c11a677",
      "metadata": {
        "id": "0c11a677",
        "outputId": "cd6b31a6-0910-4dea-97f1-d74b1448a1df",
        "colab": {
          "base_uri": "https://localhost:8080/",
          "height": 110
        }
      },
      "outputs": [
        {
          "output_type": "execute_result",
          "data": {
            "text/plain": [
              "     Press Association Reference Constituency Name Region  Election Year  \\\n",
              "650                          NaN               NaN    NaN            NaN   \n",
              "\n",
              "     Electorate     Votes  AC  AD  AGS  APNI  ...  UKIP  UPS  UV  VCCA  Vote  \\\n",
              "650         NaN  29687604 NaN NaN  NaN   NaN  ...   NaN  NaN NaN   NaN   NaN   \n",
              "\n",
              "     Wessex Reg  WRP  You  Youth  YRDPL  \n",
              "650         NaN  NaN  NaN    NaN    NaN  \n",
              "\n",
              "[1 rows x 144 columns]"
            ],
            "text/html": [
              "\n",
              "  <div id=\"df-a3d3ac05-4043-433c-a377-d94b33030cdc\">\n",
              "    <div class=\"colab-df-container\">\n",
              "      <div>\n",
              "<style scoped>\n",
              "    .dataframe tbody tr th:only-of-type {\n",
              "        vertical-align: middle;\n",
              "    }\n",
              "\n",
              "    .dataframe tbody tr th {\n",
              "        vertical-align: top;\n",
              "    }\n",
              "\n",
              "    .dataframe thead th {\n",
              "        text-align: right;\n",
              "    }\n",
              "</style>\n",
              "<table border=\"1\" class=\"dataframe\">\n",
              "  <thead>\n",
              "    <tr style=\"text-align: right;\">\n",
              "      <th></th>\n",
              "      <th>Press Association Reference</th>\n",
              "      <th>Constituency Name</th>\n",
              "      <th>Region</th>\n",
              "      <th>Election Year</th>\n",
              "      <th>Electorate</th>\n",
              "      <th>Votes</th>\n",
              "      <th>AC</th>\n",
              "      <th>AD</th>\n",
              "      <th>AGS</th>\n",
              "      <th>APNI</th>\n",
              "      <th>...</th>\n",
              "      <th>UKIP</th>\n",
              "      <th>UPS</th>\n",
              "      <th>UV</th>\n",
              "      <th>VCCA</th>\n",
              "      <th>Vote</th>\n",
              "      <th>Wessex Reg</th>\n",
              "      <th>WRP</th>\n",
              "      <th>You</th>\n",
              "      <th>Youth</th>\n",
              "      <th>YRDPL</th>\n",
              "    </tr>\n",
              "  </thead>\n",
              "  <tbody>\n",
              "    <tr>\n",
              "      <th>650</th>\n",
              "      <td>NaN</td>\n",
              "      <td>NaN</td>\n",
              "      <td>NaN</td>\n",
              "      <td>NaN</td>\n",
              "      <td>NaN</td>\n",
              "      <td>29687604</td>\n",
              "      <td>NaN</td>\n",
              "      <td>NaN</td>\n",
              "      <td>NaN</td>\n",
              "      <td>NaN</td>\n",
              "      <td>...</td>\n",
              "      <td>NaN</td>\n",
              "      <td>NaN</td>\n",
              "      <td>NaN</td>\n",
              "      <td>NaN</td>\n",
              "      <td>NaN</td>\n",
              "      <td>NaN</td>\n",
              "      <td>NaN</td>\n",
              "      <td>NaN</td>\n",
              "      <td>NaN</td>\n",
              "      <td>NaN</td>\n",
              "    </tr>\n",
              "  </tbody>\n",
              "</table>\n",
              "<p>1 rows × 144 columns</p>\n",
              "</div>\n",
              "      <button class=\"colab-df-convert\" onclick=\"convertToInteractive('df-a3d3ac05-4043-433c-a377-d94b33030cdc')\"\n",
              "              title=\"Convert this dataframe to an interactive table.\"\n",
              "              style=\"display:none;\">\n",
              "        \n",
              "  <svg xmlns=\"http://www.w3.org/2000/svg\" height=\"24px\"viewBox=\"0 0 24 24\"\n",
              "       width=\"24px\">\n",
              "    <path d=\"M0 0h24v24H0V0z\" fill=\"none\"/>\n",
              "    <path d=\"M18.56 5.44l.94 2.06.94-2.06 2.06-.94-2.06-.94-.94-2.06-.94 2.06-2.06.94zm-11 1L8.5 8.5l.94-2.06 2.06-.94-2.06-.94L8.5 2.5l-.94 2.06-2.06.94zm10 10l.94 2.06.94-2.06 2.06-.94-2.06-.94-.94-2.06-.94 2.06-2.06.94z\"/><path d=\"M17.41 7.96l-1.37-1.37c-.4-.4-.92-.59-1.43-.59-.52 0-1.04.2-1.43.59L10.3 9.45l-7.72 7.72c-.78.78-.78 2.05 0 2.83L4 21.41c.39.39.9.59 1.41.59.51 0 1.02-.2 1.41-.59l7.78-7.78 2.81-2.81c.8-.78.8-2.07 0-2.86zM5.41 20L4 18.59l7.72-7.72 1.47 1.35L5.41 20z\"/>\n",
              "  </svg>\n",
              "      </button>\n",
              "      \n",
              "  <style>\n",
              "    .colab-df-container {\n",
              "      display:flex;\n",
              "      flex-wrap:wrap;\n",
              "      gap: 12px;\n",
              "    }\n",
              "\n",
              "    .colab-df-convert {\n",
              "      background-color: #E8F0FE;\n",
              "      border: none;\n",
              "      border-radius: 50%;\n",
              "      cursor: pointer;\n",
              "      display: none;\n",
              "      fill: #1967D2;\n",
              "      height: 32px;\n",
              "      padding: 0 0 0 0;\n",
              "      width: 32px;\n",
              "    }\n",
              "\n",
              "    .colab-df-convert:hover {\n",
              "      background-color: #E2EBFA;\n",
              "      box-shadow: 0px 1px 2px rgba(60, 64, 67, 0.3), 0px 1px 3px 1px rgba(60, 64, 67, 0.15);\n",
              "      fill: #174EA6;\n",
              "    }\n",
              "\n",
              "    [theme=dark] .colab-df-convert {\n",
              "      background-color: #3B4455;\n",
              "      fill: #D2E3FC;\n",
              "    }\n",
              "\n",
              "    [theme=dark] .colab-df-convert:hover {\n",
              "      background-color: #434B5C;\n",
              "      box-shadow: 0px 1px 3px 1px rgba(0, 0, 0, 0.15);\n",
              "      filter: drop-shadow(0px 1px 2px rgba(0, 0, 0, 0.3));\n",
              "      fill: #FFFFFF;\n",
              "    }\n",
              "  </style>\n",
              "\n",
              "      <script>\n",
              "        const buttonEl =\n",
              "          document.querySelector('#df-a3d3ac05-4043-433c-a377-d94b33030cdc button.colab-df-convert');\n",
              "        buttonEl.style.display =\n",
              "          google.colab.kernel.accessAllowed ? 'block' : 'none';\n",
              "\n",
              "        async function convertToInteractive(key) {\n",
              "          const element = document.querySelector('#df-a3d3ac05-4043-433c-a377-d94b33030cdc');\n",
              "          const dataTable =\n",
              "            await google.colab.kernel.invokeFunction('convertToInteractive',\n",
              "                                                     [key], {});\n",
              "          if (!dataTable) return;\n",
              "\n",
              "          const docLinkHtml = 'Like what you see? Visit the ' +\n",
              "            '<a target=\"_blank\" href=https://colab.research.google.com/notebooks/data_table.ipynb>data table notebook</a>'\n",
              "            + ' to learn more about interactive tables.';\n",
              "          element.innerHTML = '';\n",
              "          dataTable['output_type'] = 'display_data';\n",
              "          await google.colab.output.renderOutput(dataTable, element);\n",
              "          const docLink = document.createElement('div');\n",
              "          docLink.innerHTML = docLinkHtml;\n",
              "          element.appendChild(docLink);\n",
              "        }\n",
              "      </script>\n",
              "    </div>\n",
              "  </div>\n",
              "  "
            ]
          },
          "metadata": {},
          "execution_count": 14
        }
      ],
      "source": [
        "df = load_uk()\n",
        "df[df['Election Year'].isnull()]\n",
        "#Вернуть отфильтрованную по полю \"Год выборов\" \n",
        "#запись в кадре данных (в виде словаря)'''"
      ]
    },
    {
      "cell_type": "markdown",
      "id": "d866fd1f",
      "metadata": {
        "id": "d866fd1f"
      },
      "source": [
        "## Очищенная табличка по Англии"
      ]
    },
    {
      "cell_type": "code",
      "execution_count": 15,
      "id": "658e55b5",
      "metadata": {
        "scrolled": true,
        "id": "658e55b5",
        "outputId": "128ca4ee-fe81-4b44-bc4c-9caa1a1d05f6",
        "colab": {
          "base_uri": "https://localhost:8080/",
          "height": 554
        }
      },
      "outputs": [
        {
          "output_type": "execute_result",
          "data": {
            "text/plain": [
              "     Press Association Reference                Constituency Name  \\\n",
              "0                            1.0                         Aberavon   \n",
              "1                            2.0                        Aberconwy   \n",
              "2                            3.0                   Aberdeen North   \n",
              "3                            4.0                   Aberdeen South   \n",
              "4                            5.0  Aberdeenshire West & Kincardine   \n",
              "..                           ...                              ...   \n",
              "646                        647.0                         Ynys Mon   \n",
              "647                        648.0                     York Central   \n",
              "648                        649.0                       York Outer   \n",
              "649                        650.0                   Yorkshire East   \n",
              "650                          NaN                              NaN   \n",
              "\n",
              "                       Region  Election Year  Electorate     Votes  AC  AD  \\\n",
              "0                       Wales         2010.0     50838.0     30958 NaN NaN   \n",
              "1                       Wales         2010.0     44593.0     29966 NaN NaN   \n",
              "2                    Scotland         2010.0     64808.0     37701 NaN NaN   \n",
              "3                    Scotland         2010.0     64031.0     43034 NaN NaN   \n",
              "4                    Scotland         2010.0     66110.0     45195 NaN NaN   \n",
              "..                        ...            ...         ...       ...  ..  ..   \n",
              "646                     Wales         2010.0     50075.0     34444 NaN NaN   \n",
              "647  Yorkshire and the Humber         2010.0     76439.0     46483 NaN NaN   \n",
              "648  Yorkshire and the Humber         2010.0     75939.0     53300 NaN NaN   \n",
              "649  Yorkshire and the Humber         2010.0     80105.0     51254 NaN NaN   \n",
              "650                       NaN            NaN         NaN  29687604 NaN NaN   \n",
              "\n",
              "     AGS  APNI  ...    UKIP  UPS  UV  VCCA  Vote  Wessex Reg  WRP  You  Youth  \\\n",
              "0    NaN   NaN  ...   489.0  NaN NaN   NaN   NaN         NaN  NaN  NaN    NaN   \n",
              "1    NaN   NaN  ...   632.0  NaN NaN   NaN   NaN         NaN  NaN  NaN    NaN   \n",
              "2    NaN   NaN  ...     NaN  NaN NaN   NaN   NaN         NaN  NaN  NaN    NaN   \n",
              "3    NaN   NaN  ...     NaN  NaN NaN   NaN   NaN         NaN  NaN  NaN    NaN   \n",
              "4    NaN   NaN  ...   397.0  NaN NaN   NaN   NaN         NaN  NaN  NaN    NaN   \n",
              "..   ...   ...  ...     ...  ...  ..   ...   ...         ...  ...  ...    ...   \n",
              "646  NaN   NaN  ...  1201.0  NaN NaN   NaN   NaN         NaN  NaN  NaN    NaN   \n",
              "647  NaN   NaN  ...  1100.0  NaN NaN   NaN   NaN         NaN  NaN  NaN    NaN   \n",
              "648  NaN   NaN  ...  1100.0  NaN NaN   NaN   NaN         NaN  NaN  NaN    NaN   \n",
              "649  NaN   NaN  ...  2142.0  NaN NaN   NaN   NaN         NaN  NaN  NaN    NaN   \n",
              "650  NaN   NaN  ...     NaN  NaN NaN   NaN   NaN         NaN  NaN  NaN    NaN   \n",
              "\n",
              "     YRDPL  \n",
              "0      NaN  \n",
              "1      NaN  \n",
              "2      NaN  \n",
              "3      NaN  \n",
              "4      NaN  \n",
              "..     ...  \n",
              "646    NaN  \n",
              "647    NaN  \n",
              "648    NaN  \n",
              "649    NaN  \n",
              "650    NaN  \n",
              "\n",
              "[651 rows x 144 columns]"
            ],
            "text/html": [
              "\n",
              "  <div id=\"df-10c106e4-2332-4223-9d24-94abadc42660\">\n",
              "    <div class=\"colab-df-container\">\n",
              "      <div>\n",
              "<style scoped>\n",
              "    .dataframe tbody tr th:only-of-type {\n",
              "        vertical-align: middle;\n",
              "    }\n",
              "\n",
              "    .dataframe tbody tr th {\n",
              "        vertical-align: top;\n",
              "    }\n",
              "\n",
              "    .dataframe thead th {\n",
              "        text-align: right;\n",
              "    }\n",
              "</style>\n",
              "<table border=\"1\" class=\"dataframe\">\n",
              "  <thead>\n",
              "    <tr style=\"text-align: right;\">\n",
              "      <th></th>\n",
              "      <th>Press Association Reference</th>\n",
              "      <th>Constituency Name</th>\n",
              "      <th>Region</th>\n",
              "      <th>Election Year</th>\n",
              "      <th>Electorate</th>\n",
              "      <th>Votes</th>\n",
              "      <th>AC</th>\n",
              "      <th>AD</th>\n",
              "      <th>AGS</th>\n",
              "      <th>APNI</th>\n",
              "      <th>...</th>\n",
              "      <th>UKIP</th>\n",
              "      <th>UPS</th>\n",
              "      <th>UV</th>\n",
              "      <th>VCCA</th>\n",
              "      <th>Vote</th>\n",
              "      <th>Wessex Reg</th>\n",
              "      <th>WRP</th>\n",
              "      <th>You</th>\n",
              "      <th>Youth</th>\n",
              "      <th>YRDPL</th>\n",
              "    </tr>\n",
              "  </thead>\n",
              "  <tbody>\n",
              "    <tr>\n",
              "      <th>0</th>\n",
              "      <td>1.0</td>\n",
              "      <td>Aberavon</td>\n",
              "      <td>Wales</td>\n",
              "      <td>2010.0</td>\n",
              "      <td>50838.0</td>\n",
              "      <td>30958</td>\n",
              "      <td>NaN</td>\n",
              "      <td>NaN</td>\n",
              "      <td>NaN</td>\n",
              "      <td>NaN</td>\n",
              "      <td>...</td>\n",
              "      <td>489.0</td>\n",
              "      <td>NaN</td>\n",
              "      <td>NaN</td>\n",
              "      <td>NaN</td>\n",
              "      <td>NaN</td>\n",
              "      <td>NaN</td>\n",
              "      <td>NaN</td>\n",
              "      <td>NaN</td>\n",
              "      <td>NaN</td>\n",
              "      <td>NaN</td>\n",
              "    </tr>\n",
              "    <tr>\n",
              "      <th>1</th>\n",
              "      <td>2.0</td>\n",
              "      <td>Aberconwy</td>\n",
              "      <td>Wales</td>\n",
              "      <td>2010.0</td>\n",
              "      <td>44593.0</td>\n",
              "      <td>29966</td>\n",
              "      <td>NaN</td>\n",
              "      <td>NaN</td>\n",
              "      <td>NaN</td>\n",
              "      <td>NaN</td>\n",
              "      <td>...</td>\n",
              "      <td>632.0</td>\n",
              "      <td>NaN</td>\n",
              "      <td>NaN</td>\n",
              "      <td>NaN</td>\n",
              "      <td>NaN</td>\n",
              "      <td>NaN</td>\n",
              "      <td>NaN</td>\n",
              "      <td>NaN</td>\n",
              "      <td>NaN</td>\n",
              "      <td>NaN</td>\n",
              "    </tr>\n",
              "    <tr>\n",
              "      <th>2</th>\n",
              "      <td>3.0</td>\n",
              "      <td>Aberdeen North</td>\n",
              "      <td>Scotland</td>\n",
              "      <td>2010.0</td>\n",
              "      <td>64808.0</td>\n",
              "      <td>37701</td>\n",
              "      <td>NaN</td>\n",
              "      <td>NaN</td>\n",
              "      <td>NaN</td>\n",
              "      <td>NaN</td>\n",
              "      <td>...</td>\n",
              "      <td>NaN</td>\n",
              "      <td>NaN</td>\n",
              "      <td>NaN</td>\n",
              "      <td>NaN</td>\n",
              "      <td>NaN</td>\n",
              "      <td>NaN</td>\n",
              "      <td>NaN</td>\n",
              "      <td>NaN</td>\n",
              "      <td>NaN</td>\n",
              "      <td>NaN</td>\n",
              "    </tr>\n",
              "    <tr>\n",
              "      <th>3</th>\n",
              "      <td>4.0</td>\n",
              "      <td>Aberdeen South</td>\n",
              "      <td>Scotland</td>\n",
              "      <td>2010.0</td>\n",
              "      <td>64031.0</td>\n",
              "      <td>43034</td>\n",
              "      <td>NaN</td>\n",
              "      <td>NaN</td>\n",
              "      <td>NaN</td>\n",
              "      <td>NaN</td>\n",
              "      <td>...</td>\n",
              "      <td>NaN</td>\n",
              "      <td>NaN</td>\n",
              "      <td>NaN</td>\n",
              "      <td>NaN</td>\n",
              "      <td>NaN</td>\n",
              "      <td>NaN</td>\n",
              "      <td>NaN</td>\n",
              "      <td>NaN</td>\n",
              "      <td>NaN</td>\n",
              "      <td>NaN</td>\n",
              "    </tr>\n",
              "    <tr>\n",
              "      <th>4</th>\n",
              "      <td>5.0</td>\n",
              "      <td>Aberdeenshire West &amp; Kincardine</td>\n",
              "      <td>Scotland</td>\n",
              "      <td>2010.0</td>\n",
              "      <td>66110.0</td>\n",
              "      <td>45195</td>\n",
              "      <td>NaN</td>\n",
              "      <td>NaN</td>\n",
              "      <td>NaN</td>\n",
              "      <td>NaN</td>\n",
              "      <td>...</td>\n",
              "      <td>397.0</td>\n",
              "      <td>NaN</td>\n",
              "      <td>NaN</td>\n",
              "      <td>NaN</td>\n",
              "      <td>NaN</td>\n",
              "      <td>NaN</td>\n",
              "      <td>NaN</td>\n",
              "      <td>NaN</td>\n",
              "      <td>NaN</td>\n",
              "      <td>NaN</td>\n",
              "    </tr>\n",
              "    <tr>\n",
              "      <th>...</th>\n",
              "      <td>...</td>\n",
              "      <td>...</td>\n",
              "      <td>...</td>\n",
              "      <td>...</td>\n",
              "      <td>...</td>\n",
              "      <td>...</td>\n",
              "      <td>...</td>\n",
              "      <td>...</td>\n",
              "      <td>...</td>\n",
              "      <td>...</td>\n",
              "      <td>...</td>\n",
              "      <td>...</td>\n",
              "      <td>...</td>\n",
              "      <td>...</td>\n",
              "      <td>...</td>\n",
              "      <td>...</td>\n",
              "      <td>...</td>\n",
              "      <td>...</td>\n",
              "      <td>...</td>\n",
              "      <td>...</td>\n",
              "      <td>...</td>\n",
              "    </tr>\n",
              "    <tr>\n",
              "      <th>646</th>\n",
              "      <td>647.0</td>\n",
              "      <td>Ynys Mon</td>\n",
              "      <td>Wales</td>\n",
              "      <td>2010.0</td>\n",
              "      <td>50075.0</td>\n",
              "      <td>34444</td>\n",
              "      <td>NaN</td>\n",
              "      <td>NaN</td>\n",
              "      <td>NaN</td>\n",
              "      <td>NaN</td>\n",
              "      <td>...</td>\n",
              "      <td>1201.0</td>\n",
              "      <td>NaN</td>\n",
              "      <td>NaN</td>\n",
              "      <td>NaN</td>\n",
              "      <td>NaN</td>\n",
              "      <td>NaN</td>\n",
              "      <td>NaN</td>\n",
              "      <td>NaN</td>\n",
              "      <td>NaN</td>\n",
              "      <td>NaN</td>\n",
              "    </tr>\n",
              "    <tr>\n",
              "      <th>647</th>\n",
              "      <td>648.0</td>\n",
              "      <td>York Central</td>\n",
              "      <td>Yorkshire and the Humber</td>\n",
              "      <td>2010.0</td>\n",
              "      <td>76439.0</td>\n",
              "      <td>46483</td>\n",
              "      <td>NaN</td>\n",
              "      <td>NaN</td>\n",
              "      <td>NaN</td>\n",
              "      <td>NaN</td>\n",
              "      <td>...</td>\n",
              "      <td>1100.0</td>\n",
              "      <td>NaN</td>\n",
              "      <td>NaN</td>\n",
              "      <td>NaN</td>\n",
              "      <td>NaN</td>\n",
              "      <td>NaN</td>\n",
              "      <td>NaN</td>\n",
              "      <td>NaN</td>\n",
              "      <td>NaN</td>\n",
              "      <td>NaN</td>\n",
              "    </tr>\n",
              "    <tr>\n",
              "      <th>648</th>\n",
              "      <td>649.0</td>\n",
              "      <td>York Outer</td>\n",
              "      <td>Yorkshire and the Humber</td>\n",
              "      <td>2010.0</td>\n",
              "      <td>75939.0</td>\n",
              "      <td>53300</td>\n",
              "      <td>NaN</td>\n",
              "      <td>NaN</td>\n",
              "      <td>NaN</td>\n",
              "      <td>NaN</td>\n",
              "      <td>...</td>\n",
              "      <td>1100.0</td>\n",
              "      <td>NaN</td>\n",
              "      <td>NaN</td>\n",
              "      <td>NaN</td>\n",
              "      <td>NaN</td>\n",
              "      <td>NaN</td>\n",
              "      <td>NaN</td>\n",
              "      <td>NaN</td>\n",
              "      <td>NaN</td>\n",
              "      <td>NaN</td>\n",
              "    </tr>\n",
              "    <tr>\n",
              "      <th>649</th>\n",
              "      <td>650.0</td>\n",
              "      <td>Yorkshire East</td>\n",
              "      <td>Yorkshire and the Humber</td>\n",
              "      <td>2010.0</td>\n",
              "      <td>80105.0</td>\n",
              "      <td>51254</td>\n",
              "      <td>NaN</td>\n",
              "      <td>NaN</td>\n",
              "      <td>NaN</td>\n",
              "      <td>NaN</td>\n",
              "      <td>...</td>\n",
              "      <td>2142.0</td>\n",
              "      <td>NaN</td>\n",
              "      <td>NaN</td>\n",
              "      <td>NaN</td>\n",
              "      <td>NaN</td>\n",
              "      <td>NaN</td>\n",
              "      <td>NaN</td>\n",
              "      <td>NaN</td>\n",
              "      <td>NaN</td>\n",
              "      <td>NaN</td>\n",
              "    </tr>\n",
              "    <tr>\n",
              "      <th>650</th>\n",
              "      <td>NaN</td>\n",
              "      <td>NaN</td>\n",
              "      <td>NaN</td>\n",
              "      <td>NaN</td>\n",
              "      <td>NaN</td>\n",
              "      <td>29687604</td>\n",
              "      <td>NaN</td>\n",
              "      <td>NaN</td>\n",
              "      <td>NaN</td>\n",
              "      <td>NaN</td>\n",
              "      <td>...</td>\n",
              "      <td>NaN</td>\n",
              "      <td>NaN</td>\n",
              "      <td>NaN</td>\n",
              "      <td>NaN</td>\n",
              "      <td>NaN</td>\n",
              "      <td>NaN</td>\n",
              "      <td>NaN</td>\n",
              "      <td>NaN</td>\n",
              "      <td>NaN</td>\n",
              "      <td>NaN</td>\n",
              "    </tr>\n",
              "  </tbody>\n",
              "</table>\n",
              "<p>651 rows × 144 columns</p>\n",
              "</div>\n",
              "      <button class=\"colab-df-convert\" onclick=\"convertToInteractive('df-10c106e4-2332-4223-9d24-94abadc42660')\"\n",
              "              title=\"Convert this dataframe to an interactive table.\"\n",
              "              style=\"display:none;\">\n",
              "        \n",
              "  <svg xmlns=\"http://www.w3.org/2000/svg\" height=\"24px\"viewBox=\"0 0 24 24\"\n",
              "       width=\"24px\">\n",
              "    <path d=\"M0 0h24v24H0V0z\" fill=\"none\"/>\n",
              "    <path d=\"M18.56 5.44l.94 2.06.94-2.06 2.06-.94-2.06-.94-.94-2.06-.94 2.06-2.06.94zm-11 1L8.5 8.5l.94-2.06 2.06-.94-2.06-.94L8.5 2.5l-.94 2.06-2.06.94zm10 10l.94 2.06.94-2.06 2.06-.94-2.06-.94-.94-2.06-.94 2.06-2.06.94z\"/><path d=\"M17.41 7.96l-1.37-1.37c-.4-.4-.92-.59-1.43-.59-.52 0-1.04.2-1.43.59L10.3 9.45l-7.72 7.72c-.78.78-.78 2.05 0 2.83L4 21.41c.39.39.9.59 1.41.59.51 0 1.02-.2 1.41-.59l7.78-7.78 2.81-2.81c.8-.78.8-2.07 0-2.86zM5.41 20L4 18.59l7.72-7.72 1.47 1.35L5.41 20z\"/>\n",
              "  </svg>\n",
              "      </button>\n",
              "      \n",
              "  <style>\n",
              "    .colab-df-container {\n",
              "      display:flex;\n",
              "      flex-wrap:wrap;\n",
              "      gap: 12px;\n",
              "    }\n",
              "\n",
              "    .colab-df-convert {\n",
              "      background-color: #E8F0FE;\n",
              "      border: none;\n",
              "      border-radius: 50%;\n",
              "      cursor: pointer;\n",
              "      display: none;\n",
              "      fill: #1967D2;\n",
              "      height: 32px;\n",
              "      padding: 0 0 0 0;\n",
              "      width: 32px;\n",
              "    }\n",
              "\n",
              "    .colab-df-convert:hover {\n",
              "      background-color: #E2EBFA;\n",
              "      box-shadow: 0px 1px 2px rgba(60, 64, 67, 0.3), 0px 1px 3px 1px rgba(60, 64, 67, 0.15);\n",
              "      fill: #174EA6;\n",
              "    }\n",
              "\n",
              "    [theme=dark] .colab-df-convert {\n",
              "      background-color: #3B4455;\n",
              "      fill: #D2E3FC;\n",
              "    }\n",
              "\n",
              "    [theme=dark] .colab-df-convert:hover {\n",
              "      background-color: #434B5C;\n",
              "      box-shadow: 0px 1px 3px 1px rgba(0, 0, 0, 0.15);\n",
              "      filter: drop-shadow(0px 1px 2px rgba(0, 0, 0, 0.3));\n",
              "      fill: #FFFFFF;\n",
              "    }\n",
              "  </style>\n",
              "\n",
              "      <script>\n",
              "        const buttonEl =\n",
              "          document.querySelector('#df-10c106e4-2332-4223-9d24-94abadc42660 button.colab-df-convert');\n",
              "        buttonEl.style.display =\n",
              "          google.colab.kernel.accessAllowed ? 'block' : 'none';\n",
              "\n",
              "        async function convertToInteractive(key) {\n",
              "          const element = document.querySelector('#df-10c106e4-2332-4223-9d24-94abadc42660');\n",
              "          const dataTable =\n",
              "            await google.colab.kernel.invokeFunction('convertToInteractive',\n",
              "                                                     [key], {});\n",
              "          if (!dataTable) return;\n",
              "\n",
              "          const docLinkHtml = 'Like what you see? Visit the ' +\n",
              "            '<a target=\"_blank\" href=https://colab.research.google.com/notebooks/data_table.ipynb>data table notebook</a>'\n",
              "            + ' to learn more about interactive tables.';\n",
              "          element.innerHTML = '';\n",
              "          dataTable['output_type'] = 'display_data';\n",
              "          await google.colab.output.renderOutput(dataTable, element);\n",
              "          const docLink = document.createElement('div');\n",
              "          docLink.innerHTML = docLinkHtml;\n",
              "          element.appendChild(docLink);\n",
              "        }\n",
              "      </script>\n",
              "    </div>\n",
              "  </div>\n",
              "  "
            ]
          },
          "metadata": {},
          "execution_count": 15
        }
      ],
      "source": [
        "df = load_uk()\n",
        "df"
      ]
    },
    {
      "cell_type": "code",
      "execution_count": 16,
      "id": "c1f34906",
      "metadata": {
        "scrolled": true,
        "id": "c1f34906",
        "outputId": "10c99266-a567-4f99-ee4d-d56318653937",
        "colab": {
          "base_uri": "https://localhost:8080/"
        }
      },
      "outputs": [
        {
          "output_type": "execute_result",
          "data": {
            "text/plain": [
              "0       True\n",
              "1       True\n",
              "2       True\n",
              "3       True\n",
              "4       True\n",
              "       ...  \n",
              "646     True\n",
              "647     True\n",
              "648     True\n",
              "649     True\n",
              "650    False\n",
              "Name: Election Year, Length: 651, dtype: bool"
            ]
          },
          "metadata": {},
          "execution_count": 16
        }
      ],
      "source": [
        "df['Election Year'].notnull()"
      ]
    },
    {
      "cell_type": "code",
      "execution_count": 17,
      "id": "9aea17d7",
      "metadata": {
        "id": "9aea17d7",
        "outputId": "3500b7e7-5232-4ddb-c6b1-f8a9640711e5",
        "colab": {
          "base_uri": "https://localhost:8080/",
          "height": 554
        }
      },
      "outputs": [
        {
          "output_type": "execute_result",
          "data": {
            "text/plain": [
              "     Press Association Reference                Constituency Name  \\\n",
              "0                            1.0                         Aberavon   \n",
              "1                            2.0                        Aberconwy   \n",
              "2                            3.0                   Aberdeen North   \n",
              "3                            4.0                   Aberdeen South   \n",
              "4                            5.0  Aberdeenshire West & Kincardine   \n",
              "..                           ...                              ...   \n",
              "645                        646.0                           Yeovil   \n",
              "646                        647.0                         Ynys Mon   \n",
              "647                        648.0                     York Central   \n",
              "648                        649.0                       York Outer   \n",
              "649                        650.0                   Yorkshire East   \n",
              "\n",
              "                       Region  Election Year  Electorate  Votes  AC  AD  AGS  \\\n",
              "0                       Wales         2010.0     50838.0  30958 NaN NaN  NaN   \n",
              "1                       Wales         2010.0     44593.0  29966 NaN NaN  NaN   \n",
              "2                    Scotland         2010.0     64808.0  37701 NaN NaN  NaN   \n",
              "3                    Scotland         2010.0     64031.0  43034 NaN NaN  NaN   \n",
              "4                    Scotland         2010.0     66110.0  45195 NaN NaN  NaN   \n",
              "..                        ...            ...         ...    ...  ..  ..  ...   \n",
              "645                South West         2010.0     82314.0  57160 NaN NaN  NaN   \n",
              "646                     Wales         2010.0     50075.0  34444 NaN NaN  NaN   \n",
              "647  Yorkshire and the Humber         2010.0     76439.0  46483 NaN NaN  NaN   \n",
              "648  Yorkshire and the Humber         2010.0     75939.0  53300 NaN NaN  NaN   \n",
              "649  Yorkshire and the Humber         2010.0     80105.0  51254 NaN NaN  NaN   \n",
              "\n",
              "     APNI  ...    UKIP  UPS  UV  VCCA  Vote  Wessex Reg  WRP  You  Youth  \\\n",
              "0     NaN  ...   489.0  NaN NaN   NaN   NaN         NaN  NaN  NaN    NaN   \n",
              "1     NaN  ...   632.0  NaN NaN   NaN   NaN         NaN  NaN  NaN    NaN   \n",
              "2     NaN  ...     NaN  NaN NaN   NaN   NaN         NaN  NaN  NaN    NaN   \n",
              "3     NaN  ...     NaN  NaN NaN   NaN   NaN         NaN  NaN  NaN    NaN   \n",
              "4     NaN  ...   397.0  NaN NaN   NaN   NaN         NaN  NaN  NaN    NaN   \n",
              "..    ...  ...     ...  ...  ..   ...   ...         ...  ...  ...    ...   \n",
              "645   NaN  ...  2357.0  NaN NaN   NaN   NaN         NaN  NaN  NaN    NaN   \n",
              "646   NaN  ...  1201.0  NaN NaN   NaN   NaN         NaN  NaN  NaN    NaN   \n",
              "647   NaN  ...  1100.0  NaN NaN   NaN   NaN         NaN  NaN  NaN    NaN   \n",
              "648   NaN  ...  1100.0  NaN NaN   NaN   NaN         NaN  NaN  NaN    NaN   \n",
              "649   NaN  ...  2142.0  NaN NaN   NaN   NaN         NaN  NaN  NaN    NaN   \n",
              "\n",
              "     YRDPL  \n",
              "0      NaN  \n",
              "1      NaN  \n",
              "2      NaN  \n",
              "3      NaN  \n",
              "4      NaN  \n",
              "..     ...  \n",
              "645    NaN  \n",
              "646    NaN  \n",
              "647    NaN  \n",
              "648    NaN  \n",
              "649    NaN  \n",
              "\n",
              "[650 rows x 144 columns]"
            ],
            "text/html": [
              "\n",
              "  <div id=\"df-ac114f5c-a179-4317-96eb-d6a850246adf\">\n",
              "    <div class=\"colab-df-container\">\n",
              "      <div>\n",
              "<style scoped>\n",
              "    .dataframe tbody tr th:only-of-type {\n",
              "        vertical-align: middle;\n",
              "    }\n",
              "\n",
              "    .dataframe tbody tr th {\n",
              "        vertical-align: top;\n",
              "    }\n",
              "\n",
              "    .dataframe thead th {\n",
              "        text-align: right;\n",
              "    }\n",
              "</style>\n",
              "<table border=\"1\" class=\"dataframe\">\n",
              "  <thead>\n",
              "    <tr style=\"text-align: right;\">\n",
              "      <th></th>\n",
              "      <th>Press Association Reference</th>\n",
              "      <th>Constituency Name</th>\n",
              "      <th>Region</th>\n",
              "      <th>Election Year</th>\n",
              "      <th>Electorate</th>\n",
              "      <th>Votes</th>\n",
              "      <th>AC</th>\n",
              "      <th>AD</th>\n",
              "      <th>AGS</th>\n",
              "      <th>APNI</th>\n",
              "      <th>...</th>\n",
              "      <th>UKIP</th>\n",
              "      <th>UPS</th>\n",
              "      <th>UV</th>\n",
              "      <th>VCCA</th>\n",
              "      <th>Vote</th>\n",
              "      <th>Wessex Reg</th>\n",
              "      <th>WRP</th>\n",
              "      <th>You</th>\n",
              "      <th>Youth</th>\n",
              "      <th>YRDPL</th>\n",
              "    </tr>\n",
              "  </thead>\n",
              "  <tbody>\n",
              "    <tr>\n",
              "      <th>0</th>\n",
              "      <td>1.0</td>\n",
              "      <td>Aberavon</td>\n",
              "      <td>Wales</td>\n",
              "      <td>2010.0</td>\n",
              "      <td>50838.0</td>\n",
              "      <td>30958</td>\n",
              "      <td>NaN</td>\n",
              "      <td>NaN</td>\n",
              "      <td>NaN</td>\n",
              "      <td>NaN</td>\n",
              "      <td>...</td>\n",
              "      <td>489.0</td>\n",
              "      <td>NaN</td>\n",
              "      <td>NaN</td>\n",
              "      <td>NaN</td>\n",
              "      <td>NaN</td>\n",
              "      <td>NaN</td>\n",
              "      <td>NaN</td>\n",
              "      <td>NaN</td>\n",
              "      <td>NaN</td>\n",
              "      <td>NaN</td>\n",
              "    </tr>\n",
              "    <tr>\n",
              "      <th>1</th>\n",
              "      <td>2.0</td>\n",
              "      <td>Aberconwy</td>\n",
              "      <td>Wales</td>\n",
              "      <td>2010.0</td>\n",
              "      <td>44593.0</td>\n",
              "      <td>29966</td>\n",
              "      <td>NaN</td>\n",
              "      <td>NaN</td>\n",
              "      <td>NaN</td>\n",
              "      <td>NaN</td>\n",
              "      <td>...</td>\n",
              "      <td>632.0</td>\n",
              "      <td>NaN</td>\n",
              "      <td>NaN</td>\n",
              "      <td>NaN</td>\n",
              "      <td>NaN</td>\n",
              "      <td>NaN</td>\n",
              "      <td>NaN</td>\n",
              "      <td>NaN</td>\n",
              "      <td>NaN</td>\n",
              "      <td>NaN</td>\n",
              "    </tr>\n",
              "    <tr>\n",
              "      <th>2</th>\n",
              "      <td>3.0</td>\n",
              "      <td>Aberdeen North</td>\n",
              "      <td>Scotland</td>\n",
              "      <td>2010.0</td>\n",
              "      <td>64808.0</td>\n",
              "      <td>37701</td>\n",
              "      <td>NaN</td>\n",
              "      <td>NaN</td>\n",
              "      <td>NaN</td>\n",
              "      <td>NaN</td>\n",
              "      <td>...</td>\n",
              "      <td>NaN</td>\n",
              "      <td>NaN</td>\n",
              "      <td>NaN</td>\n",
              "      <td>NaN</td>\n",
              "      <td>NaN</td>\n",
              "      <td>NaN</td>\n",
              "      <td>NaN</td>\n",
              "      <td>NaN</td>\n",
              "      <td>NaN</td>\n",
              "      <td>NaN</td>\n",
              "    </tr>\n",
              "    <tr>\n",
              "      <th>3</th>\n",
              "      <td>4.0</td>\n",
              "      <td>Aberdeen South</td>\n",
              "      <td>Scotland</td>\n",
              "      <td>2010.0</td>\n",
              "      <td>64031.0</td>\n",
              "      <td>43034</td>\n",
              "      <td>NaN</td>\n",
              "      <td>NaN</td>\n",
              "      <td>NaN</td>\n",
              "      <td>NaN</td>\n",
              "      <td>...</td>\n",
              "      <td>NaN</td>\n",
              "      <td>NaN</td>\n",
              "      <td>NaN</td>\n",
              "      <td>NaN</td>\n",
              "      <td>NaN</td>\n",
              "      <td>NaN</td>\n",
              "      <td>NaN</td>\n",
              "      <td>NaN</td>\n",
              "      <td>NaN</td>\n",
              "      <td>NaN</td>\n",
              "    </tr>\n",
              "    <tr>\n",
              "      <th>4</th>\n",
              "      <td>5.0</td>\n",
              "      <td>Aberdeenshire West &amp; Kincardine</td>\n",
              "      <td>Scotland</td>\n",
              "      <td>2010.0</td>\n",
              "      <td>66110.0</td>\n",
              "      <td>45195</td>\n",
              "      <td>NaN</td>\n",
              "      <td>NaN</td>\n",
              "      <td>NaN</td>\n",
              "      <td>NaN</td>\n",
              "      <td>...</td>\n",
              "      <td>397.0</td>\n",
              "      <td>NaN</td>\n",
              "      <td>NaN</td>\n",
              "      <td>NaN</td>\n",
              "      <td>NaN</td>\n",
              "      <td>NaN</td>\n",
              "      <td>NaN</td>\n",
              "      <td>NaN</td>\n",
              "      <td>NaN</td>\n",
              "      <td>NaN</td>\n",
              "    </tr>\n",
              "    <tr>\n",
              "      <th>...</th>\n",
              "      <td>...</td>\n",
              "      <td>...</td>\n",
              "      <td>...</td>\n",
              "      <td>...</td>\n",
              "      <td>...</td>\n",
              "      <td>...</td>\n",
              "      <td>...</td>\n",
              "      <td>...</td>\n",
              "      <td>...</td>\n",
              "      <td>...</td>\n",
              "      <td>...</td>\n",
              "      <td>...</td>\n",
              "      <td>...</td>\n",
              "      <td>...</td>\n",
              "      <td>...</td>\n",
              "      <td>...</td>\n",
              "      <td>...</td>\n",
              "      <td>...</td>\n",
              "      <td>...</td>\n",
              "      <td>...</td>\n",
              "      <td>...</td>\n",
              "    </tr>\n",
              "    <tr>\n",
              "      <th>645</th>\n",
              "      <td>646.0</td>\n",
              "      <td>Yeovil</td>\n",
              "      <td>South West</td>\n",
              "      <td>2010.0</td>\n",
              "      <td>82314.0</td>\n",
              "      <td>57160</td>\n",
              "      <td>NaN</td>\n",
              "      <td>NaN</td>\n",
              "      <td>NaN</td>\n",
              "      <td>NaN</td>\n",
              "      <td>...</td>\n",
              "      <td>2357.0</td>\n",
              "      <td>NaN</td>\n",
              "      <td>NaN</td>\n",
              "      <td>NaN</td>\n",
              "      <td>NaN</td>\n",
              "      <td>NaN</td>\n",
              "      <td>NaN</td>\n",
              "      <td>NaN</td>\n",
              "      <td>NaN</td>\n",
              "      <td>NaN</td>\n",
              "    </tr>\n",
              "    <tr>\n",
              "      <th>646</th>\n",
              "      <td>647.0</td>\n",
              "      <td>Ynys Mon</td>\n",
              "      <td>Wales</td>\n",
              "      <td>2010.0</td>\n",
              "      <td>50075.0</td>\n",
              "      <td>34444</td>\n",
              "      <td>NaN</td>\n",
              "      <td>NaN</td>\n",
              "      <td>NaN</td>\n",
              "      <td>NaN</td>\n",
              "      <td>...</td>\n",
              "      <td>1201.0</td>\n",
              "      <td>NaN</td>\n",
              "      <td>NaN</td>\n",
              "      <td>NaN</td>\n",
              "      <td>NaN</td>\n",
              "      <td>NaN</td>\n",
              "      <td>NaN</td>\n",
              "      <td>NaN</td>\n",
              "      <td>NaN</td>\n",
              "      <td>NaN</td>\n",
              "    </tr>\n",
              "    <tr>\n",
              "      <th>647</th>\n",
              "      <td>648.0</td>\n",
              "      <td>York Central</td>\n",
              "      <td>Yorkshire and the Humber</td>\n",
              "      <td>2010.0</td>\n",
              "      <td>76439.0</td>\n",
              "      <td>46483</td>\n",
              "      <td>NaN</td>\n",
              "      <td>NaN</td>\n",
              "      <td>NaN</td>\n",
              "      <td>NaN</td>\n",
              "      <td>...</td>\n",
              "      <td>1100.0</td>\n",
              "      <td>NaN</td>\n",
              "      <td>NaN</td>\n",
              "      <td>NaN</td>\n",
              "      <td>NaN</td>\n",
              "      <td>NaN</td>\n",
              "      <td>NaN</td>\n",
              "      <td>NaN</td>\n",
              "      <td>NaN</td>\n",
              "      <td>NaN</td>\n",
              "    </tr>\n",
              "    <tr>\n",
              "      <th>648</th>\n",
              "      <td>649.0</td>\n",
              "      <td>York Outer</td>\n",
              "      <td>Yorkshire and the Humber</td>\n",
              "      <td>2010.0</td>\n",
              "      <td>75939.0</td>\n",
              "      <td>53300</td>\n",
              "      <td>NaN</td>\n",
              "      <td>NaN</td>\n",
              "      <td>NaN</td>\n",
              "      <td>NaN</td>\n",
              "      <td>...</td>\n",
              "      <td>1100.0</td>\n",
              "      <td>NaN</td>\n",
              "      <td>NaN</td>\n",
              "      <td>NaN</td>\n",
              "      <td>NaN</td>\n",
              "      <td>NaN</td>\n",
              "      <td>NaN</td>\n",
              "      <td>NaN</td>\n",
              "      <td>NaN</td>\n",
              "      <td>NaN</td>\n",
              "    </tr>\n",
              "    <tr>\n",
              "      <th>649</th>\n",
              "      <td>650.0</td>\n",
              "      <td>Yorkshire East</td>\n",
              "      <td>Yorkshire and the Humber</td>\n",
              "      <td>2010.0</td>\n",
              "      <td>80105.0</td>\n",
              "      <td>51254</td>\n",
              "      <td>NaN</td>\n",
              "      <td>NaN</td>\n",
              "      <td>NaN</td>\n",
              "      <td>NaN</td>\n",
              "      <td>...</td>\n",
              "      <td>2142.0</td>\n",
              "      <td>NaN</td>\n",
              "      <td>NaN</td>\n",
              "      <td>NaN</td>\n",
              "      <td>NaN</td>\n",
              "      <td>NaN</td>\n",
              "      <td>NaN</td>\n",
              "      <td>NaN</td>\n",
              "      <td>NaN</td>\n",
              "      <td>NaN</td>\n",
              "    </tr>\n",
              "  </tbody>\n",
              "</table>\n",
              "<p>650 rows × 144 columns</p>\n",
              "</div>\n",
              "      <button class=\"colab-df-convert\" onclick=\"convertToInteractive('df-ac114f5c-a179-4317-96eb-d6a850246adf')\"\n",
              "              title=\"Convert this dataframe to an interactive table.\"\n",
              "              style=\"display:none;\">\n",
              "        \n",
              "  <svg xmlns=\"http://www.w3.org/2000/svg\" height=\"24px\"viewBox=\"0 0 24 24\"\n",
              "       width=\"24px\">\n",
              "    <path d=\"M0 0h24v24H0V0z\" fill=\"none\"/>\n",
              "    <path d=\"M18.56 5.44l.94 2.06.94-2.06 2.06-.94-2.06-.94-.94-2.06-.94 2.06-2.06.94zm-11 1L8.5 8.5l.94-2.06 2.06-.94-2.06-.94L8.5 2.5l-.94 2.06-2.06.94zm10 10l.94 2.06.94-2.06 2.06-.94-2.06-.94-.94-2.06-.94 2.06-2.06.94z\"/><path d=\"M17.41 7.96l-1.37-1.37c-.4-.4-.92-.59-1.43-.59-.52 0-1.04.2-1.43.59L10.3 9.45l-7.72 7.72c-.78.78-.78 2.05 0 2.83L4 21.41c.39.39.9.59 1.41.59.51 0 1.02-.2 1.41-.59l7.78-7.78 2.81-2.81c.8-.78.8-2.07 0-2.86zM5.41 20L4 18.59l7.72-7.72 1.47 1.35L5.41 20z\"/>\n",
              "  </svg>\n",
              "      </button>\n",
              "      \n",
              "  <style>\n",
              "    .colab-df-container {\n",
              "      display:flex;\n",
              "      flex-wrap:wrap;\n",
              "      gap: 12px;\n",
              "    }\n",
              "\n",
              "    .colab-df-convert {\n",
              "      background-color: #E8F0FE;\n",
              "      border: none;\n",
              "      border-radius: 50%;\n",
              "      cursor: pointer;\n",
              "      display: none;\n",
              "      fill: #1967D2;\n",
              "      height: 32px;\n",
              "      padding: 0 0 0 0;\n",
              "      width: 32px;\n",
              "    }\n",
              "\n",
              "    .colab-df-convert:hover {\n",
              "      background-color: #E2EBFA;\n",
              "      box-shadow: 0px 1px 2px rgba(60, 64, 67, 0.3), 0px 1px 3px 1px rgba(60, 64, 67, 0.15);\n",
              "      fill: #174EA6;\n",
              "    }\n",
              "\n",
              "    [theme=dark] .colab-df-convert {\n",
              "      background-color: #3B4455;\n",
              "      fill: #D2E3FC;\n",
              "    }\n",
              "\n",
              "    [theme=dark] .colab-df-convert:hover {\n",
              "      background-color: #434B5C;\n",
              "      box-shadow: 0px 1px 3px 1px rgba(0, 0, 0, 0.15);\n",
              "      filter: drop-shadow(0px 1px 2px rgba(0, 0, 0, 0.3));\n",
              "      fill: #FFFFFF;\n",
              "    }\n",
              "  </style>\n",
              "\n",
              "      <script>\n",
              "        const buttonEl =\n",
              "          document.querySelector('#df-ac114f5c-a179-4317-96eb-d6a850246adf button.colab-df-convert');\n",
              "        buttonEl.style.display =\n",
              "          google.colab.kernel.accessAllowed ? 'block' : 'none';\n",
              "\n",
              "        async function convertToInteractive(key) {\n",
              "          const element = document.querySelector('#df-ac114f5c-a179-4317-96eb-d6a850246adf');\n",
              "          const dataTable =\n",
              "            await google.colab.kernel.invokeFunction('convertToInteractive',\n",
              "                                                     [key], {});\n",
              "          if (!dataTable) return;\n",
              "\n",
              "          const docLinkHtml = 'Like what you see? Visit the ' +\n",
              "            '<a target=\"_blank\" href=https://colab.research.google.com/notebooks/data_table.ipynb>data table notebook</a>'\n",
              "            + ' to learn more about interactive tables.';\n",
              "          element.innerHTML = '';\n",
              "          dataTable['output_type'] = 'display_data';\n",
              "          await google.colab.output.renderOutput(dataTable, element);\n",
              "          const docLink = document.createElement('div');\n",
              "          docLink.innerHTML = docLinkHtml;\n",
              "          element.appendChild(docLink);\n",
              "        }\n",
              "      </script>\n",
              "    </div>\n",
              "  </div>\n",
              "  "
            ]
          },
          "metadata": {},
          "execution_count": 17
        }
      ],
      "source": [
        "df = load_uk()\n",
        "uk_scrubbed = df[df['Election Year'].notnull()]\n",
        "uk_scrubbed"
      ]
    },
    {
      "cell_type": "code",
      "execution_count": 18,
      "id": "db9e3789",
      "metadata": {
        "scrolled": true,
        "id": "db9e3789",
        "outputId": "6dc9b108-6035-483e-b160-08cfa0efdcb7",
        "colab": {
          "base_uri": "https://localhost:8080/"
        }
      },
      "outputs": [
        {
          "output_type": "execute_result",
          "data": {
            "text/plain": [
              "650"
            ]
          },
          "metadata": {},
          "execution_count": 18
        }
      ],
      "source": [
        "uk_scrubbed['Electorate'].count()"
      ]
    },
    {
      "cell_type": "code",
      "execution_count": 19,
      "id": "2426542b",
      "metadata": {
        "scrolled": true,
        "id": "2426542b",
        "outputId": "bc04a8b5-ec48-4d9c-cd4a-966ea3069de7",
        "colab": {
          "base_uri": "https://localhost:8080/",
          "height": 537
        }
      },
      "outputs": [
        {
          "output_type": "execute_result",
          "data": {
            "text/plain": [
              "     Press Association Reference                Constituency Name      Region  \\\n",
              "0                            1.0                         Aberavon       Wales   \n",
              "1                            2.0                        Aberconwy       Wales   \n",
              "2                            3.0                   Aberdeen North    Scotland   \n",
              "3                            4.0                   Aberdeen South    Scotland   \n",
              "4                            5.0  Aberdeenshire West & Kincardine    Scotland   \n",
              "..                           ...                              ...         ...   \n",
              "295                        296.0                       Hartlepool  North East   \n",
              "296                        297.0            Harwich & Essex North     Eastern   \n",
              "297                        298.0                   Hastings & Rye  South East   \n",
              "298                        299.0                           Havant  South East   \n",
              "299                        300.0               Hayes & Harlington      London   \n",
              "\n",
              "     Election Year  Electorate  Votes  AC  AD  AGS  APNI  ...    UKIP  UPS  \\\n",
              "0           2010.0     50838.0  30958 NaN NaN  NaN   NaN  ...   489.0  NaN   \n",
              "1           2010.0     44593.0  29966 NaN NaN  NaN   NaN  ...   632.0  NaN   \n",
              "2           2010.0     64808.0  37701 NaN NaN  NaN   NaN  ...     NaN  NaN   \n",
              "3           2010.0     64031.0  43034 NaN NaN  NaN   NaN  ...     NaN  NaN   \n",
              "4           2010.0     66110.0  45195 NaN NaN  NaN   NaN  ...   397.0  NaN   \n",
              "..             ...         ...    ...  ..  ..  ...   ...  ...     ...  ...   \n",
              "295         2010.0     68927.0  38242 NaN NaN  NaN   NaN  ...  2682.0  NaN   \n",
              "296         2010.0     70743.0  49000 NaN NaN  NaN   NaN  ...  2527.0  NaN   \n",
              "297         2010.0     77030.0  49814 NaN NaN  NaN   NaN  ...  1397.0  NaN   \n",
              "298         2010.0     69662.0  43903 NaN NaN  NaN   NaN  ...  2611.0  NaN   \n",
              "299         2010.0     70231.0  42637 NaN NaN  NaN   NaN  ...     NaN  NaN   \n",
              "\n",
              "     UV  VCCA  Vote  Wessex Reg  WRP  You  Youth  YRDPL  \n",
              "0   NaN   NaN   NaN         NaN  NaN  NaN    NaN    NaN  \n",
              "1   NaN   NaN   NaN         NaN  NaN  NaN    NaN    NaN  \n",
              "2   NaN   NaN   NaN         NaN  NaN  NaN    NaN    NaN  \n",
              "3   NaN   NaN   NaN         NaN  NaN  NaN    NaN    NaN  \n",
              "4   NaN   NaN   NaN         NaN  NaN  NaN    NaN    NaN  \n",
              "..   ..   ...   ...         ...  ...  ...    ...    ...  \n",
              "295 NaN   NaN   NaN         NaN  NaN  NaN    NaN    NaN  \n",
              "296 NaN   NaN   NaN         NaN  NaN  NaN    NaN    NaN  \n",
              "297 NaN   NaN   NaN         NaN  NaN  NaN    NaN    NaN  \n",
              "298 NaN   NaN   NaN         NaN  NaN  NaN    NaN    NaN  \n",
              "299 NaN   NaN   NaN         NaN  NaN  NaN    NaN    NaN  \n",
              "\n",
              "[300 rows x 144 columns]"
            ],
            "text/html": [
              "\n",
              "  <div id=\"df-170e4a24-30e3-4c32-b487-6fa3ebfaafeb\">\n",
              "    <div class=\"colab-df-container\">\n",
              "      <div>\n",
              "<style scoped>\n",
              "    .dataframe tbody tr th:only-of-type {\n",
              "        vertical-align: middle;\n",
              "    }\n",
              "\n",
              "    .dataframe tbody tr th {\n",
              "        vertical-align: top;\n",
              "    }\n",
              "\n",
              "    .dataframe thead th {\n",
              "        text-align: right;\n",
              "    }\n",
              "</style>\n",
              "<table border=\"1\" class=\"dataframe\">\n",
              "  <thead>\n",
              "    <tr style=\"text-align: right;\">\n",
              "      <th></th>\n",
              "      <th>Press Association Reference</th>\n",
              "      <th>Constituency Name</th>\n",
              "      <th>Region</th>\n",
              "      <th>Election Year</th>\n",
              "      <th>Electorate</th>\n",
              "      <th>Votes</th>\n",
              "      <th>AC</th>\n",
              "      <th>AD</th>\n",
              "      <th>AGS</th>\n",
              "      <th>APNI</th>\n",
              "      <th>...</th>\n",
              "      <th>UKIP</th>\n",
              "      <th>UPS</th>\n",
              "      <th>UV</th>\n",
              "      <th>VCCA</th>\n",
              "      <th>Vote</th>\n",
              "      <th>Wessex Reg</th>\n",
              "      <th>WRP</th>\n",
              "      <th>You</th>\n",
              "      <th>Youth</th>\n",
              "      <th>YRDPL</th>\n",
              "    </tr>\n",
              "  </thead>\n",
              "  <tbody>\n",
              "    <tr>\n",
              "      <th>0</th>\n",
              "      <td>1.0</td>\n",
              "      <td>Aberavon</td>\n",
              "      <td>Wales</td>\n",
              "      <td>2010.0</td>\n",
              "      <td>50838.0</td>\n",
              "      <td>30958</td>\n",
              "      <td>NaN</td>\n",
              "      <td>NaN</td>\n",
              "      <td>NaN</td>\n",
              "      <td>NaN</td>\n",
              "      <td>...</td>\n",
              "      <td>489.0</td>\n",
              "      <td>NaN</td>\n",
              "      <td>NaN</td>\n",
              "      <td>NaN</td>\n",
              "      <td>NaN</td>\n",
              "      <td>NaN</td>\n",
              "      <td>NaN</td>\n",
              "      <td>NaN</td>\n",
              "      <td>NaN</td>\n",
              "      <td>NaN</td>\n",
              "    </tr>\n",
              "    <tr>\n",
              "      <th>1</th>\n",
              "      <td>2.0</td>\n",
              "      <td>Aberconwy</td>\n",
              "      <td>Wales</td>\n",
              "      <td>2010.0</td>\n",
              "      <td>44593.0</td>\n",
              "      <td>29966</td>\n",
              "      <td>NaN</td>\n",
              "      <td>NaN</td>\n",
              "      <td>NaN</td>\n",
              "      <td>NaN</td>\n",
              "      <td>...</td>\n",
              "      <td>632.0</td>\n",
              "      <td>NaN</td>\n",
              "      <td>NaN</td>\n",
              "      <td>NaN</td>\n",
              "      <td>NaN</td>\n",
              "      <td>NaN</td>\n",
              "      <td>NaN</td>\n",
              "      <td>NaN</td>\n",
              "      <td>NaN</td>\n",
              "      <td>NaN</td>\n",
              "    </tr>\n",
              "    <tr>\n",
              "      <th>2</th>\n",
              "      <td>3.0</td>\n",
              "      <td>Aberdeen North</td>\n",
              "      <td>Scotland</td>\n",
              "      <td>2010.0</td>\n",
              "      <td>64808.0</td>\n",
              "      <td>37701</td>\n",
              "      <td>NaN</td>\n",
              "      <td>NaN</td>\n",
              "      <td>NaN</td>\n",
              "      <td>NaN</td>\n",
              "      <td>...</td>\n",
              "      <td>NaN</td>\n",
              "      <td>NaN</td>\n",
              "      <td>NaN</td>\n",
              "      <td>NaN</td>\n",
              "      <td>NaN</td>\n",
              "      <td>NaN</td>\n",
              "      <td>NaN</td>\n",
              "      <td>NaN</td>\n",
              "      <td>NaN</td>\n",
              "      <td>NaN</td>\n",
              "    </tr>\n",
              "    <tr>\n",
              "      <th>3</th>\n",
              "      <td>4.0</td>\n",
              "      <td>Aberdeen South</td>\n",
              "      <td>Scotland</td>\n",
              "      <td>2010.0</td>\n",
              "      <td>64031.0</td>\n",
              "      <td>43034</td>\n",
              "      <td>NaN</td>\n",
              "      <td>NaN</td>\n",
              "      <td>NaN</td>\n",
              "      <td>NaN</td>\n",
              "      <td>...</td>\n",
              "      <td>NaN</td>\n",
              "      <td>NaN</td>\n",
              "      <td>NaN</td>\n",
              "      <td>NaN</td>\n",
              "      <td>NaN</td>\n",
              "      <td>NaN</td>\n",
              "      <td>NaN</td>\n",
              "      <td>NaN</td>\n",
              "      <td>NaN</td>\n",
              "      <td>NaN</td>\n",
              "    </tr>\n",
              "    <tr>\n",
              "      <th>4</th>\n",
              "      <td>5.0</td>\n",
              "      <td>Aberdeenshire West &amp; Kincardine</td>\n",
              "      <td>Scotland</td>\n",
              "      <td>2010.0</td>\n",
              "      <td>66110.0</td>\n",
              "      <td>45195</td>\n",
              "      <td>NaN</td>\n",
              "      <td>NaN</td>\n",
              "      <td>NaN</td>\n",
              "      <td>NaN</td>\n",
              "      <td>...</td>\n",
              "      <td>397.0</td>\n",
              "      <td>NaN</td>\n",
              "      <td>NaN</td>\n",
              "      <td>NaN</td>\n",
              "      <td>NaN</td>\n",
              "      <td>NaN</td>\n",
              "      <td>NaN</td>\n",
              "      <td>NaN</td>\n",
              "      <td>NaN</td>\n",
              "      <td>NaN</td>\n",
              "    </tr>\n",
              "    <tr>\n",
              "      <th>...</th>\n",
              "      <td>...</td>\n",
              "      <td>...</td>\n",
              "      <td>...</td>\n",
              "      <td>...</td>\n",
              "      <td>...</td>\n",
              "      <td>...</td>\n",
              "      <td>...</td>\n",
              "      <td>...</td>\n",
              "      <td>...</td>\n",
              "      <td>...</td>\n",
              "      <td>...</td>\n",
              "      <td>...</td>\n",
              "      <td>...</td>\n",
              "      <td>...</td>\n",
              "      <td>...</td>\n",
              "      <td>...</td>\n",
              "      <td>...</td>\n",
              "      <td>...</td>\n",
              "      <td>...</td>\n",
              "      <td>...</td>\n",
              "      <td>...</td>\n",
              "    </tr>\n",
              "    <tr>\n",
              "      <th>295</th>\n",
              "      <td>296.0</td>\n",
              "      <td>Hartlepool</td>\n",
              "      <td>North East</td>\n",
              "      <td>2010.0</td>\n",
              "      <td>68927.0</td>\n",
              "      <td>38242</td>\n",
              "      <td>NaN</td>\n",
              "      <td>NaN</td>\n",
              "      <td>NaN</td>\n",
              "      <td>NaN</td>\n",
              "      <td>...</td>\n",
              "      <td>2682.0</td>\n",
              "      <td>NaN</td>\n",
              "      <td>NaN</td>\n",
              "      <td>NaN</td>\n",
              "      <td>NaN</td>\n",
              "      <td>NaN</td>\n",
              "      <td>NaN</td>\n",
              "      <td>NaN</td>\n",
              "      <td>NaN</td>\n",
              "      <td>NaN</td>\n",
              "    </tr>\n",
              "    <tr>\n",
              "      <th>296</th>\n",
              "      <td>297.0</td>\n",
              "      <td>Harwich &amp; Essex North</td>\n",
              "      <td>Eastern</td>\n",
              "      <td>2010.0</td>\n",
              "      <td>70743.0</td>\n",
              "      <td>49000</td>\n",
              "      <td>NaN</td>\n",
              "      <td>NaN</td>\n",
              "      <td>NaN</td>\n",
              "      <td>NaN</td>\n",
              "      <td>...</td>\n",
              "      <td>2527.0</td>\n",
              "      <td>NaN</td>\n",
              "      <td>NaN</td>\n",
              "      <td>NaN</td>\n",
              "      <td>NaN</td>\n",
              "      <td>NaN</td>\n",
              "      <td>NaN</td>\n",
              "      <td>NaN</td>\n",
              "      <td>NaN</td>\n",
              "      <td>NaN</td>\n",
              "    </tr>\n",
              "    <tr>\n",
              "      <th>297</th>\n",
              "      <td>298.0</td>\n",
              "      <td>Hastings &amp; Rye</td>\n",
              "      <td>South East</td>\n",
              "      <td>2010.0</td>\n",
              "      <td>77030.0</td>\n",
              "      <td>49814</td>\n",
              "      <td>NaN</td>\n",
              "      <td>NaN</td>\n",
              "      <td>NaN</td>\n",
              "      <td>NaN</td>\n",
              "      <td>...</td>\n",
              "      <td>1397.0</td>\n",
              "      <td>NaN</td>\n",
              "      <td>NaN</td>\n",
              "      <td>NaN</td>\n",
              "      <td>NaN</td>\n",
              "      <td>NaN</td>\n",
              "      <td>NaN</td>\n",
              "      <td>NaN</td>\n",
              "      <td>NaN</td>\n",
              "      <td>NaN</td>\n",
              "    </tr>\n",
              "    <tr>\n",
              "      <th>298</th>\n",
              "      <td>299.0</td>\n",
              "      <td>Havant</td>\n",
              "      <td>South East</td>\n",
              "      <td>2010.0</td>\n",
              "      <td>69662.0</td>\n",
              "      <td>43903</td>\n",
              "      <td>NaN</td>\n",
              "      <td>NaN</td>\n",
              "      <td>NaN</td>\n",
              "      <td>NaN</td>\n",
              "      <td>...</td>\n",
              "      <td>2611.0</td>\n",
              "      <td>NaN</td>\n",
              "      <td>NaN</td>\n",
              "      <td>NaN</td>\n",
              "      <td>NaN</td>\n",
              "      <td>NaN</td>\n",
              "      <td>NaN</td>\n",
              "      <td>NaN</td>\n",
              "      <td>NaN</td>\n",
              "      <td>NaN</td>\n",
              "    </tr>\n",
              "    <tr>\n",
              "      <th>299</th>\n",
              "      <td>300.0</td>\n",
              "      <td>Hayes &amp; Harlington</td>\n",
              "      <td>London</td>\n",
              "      <td>2010.0</td>\n",
              "      <td>70231.0</td>\n",
              "      <td>42637</td>\n",
              "      <td>NaN</td>\n",
              "      <td>NaN</td>\n",
              "      <td>NaN</td>\n",
              "      <td>NaN</td>\n",
              "      <td>...</td>\n",
              "      <td>NaN</td>\n",
              "      <td>NaN</td>\n",
              "      <td>NaN</td>\n",
              "      <td>NaN</td>\n",
              "      <td>NaN</td>\n",
              "      <td>NaN</td>\n",
              "      <td>NaN</td>\n",
              "      <td>NaN</td>\n",
              "      <td>NaN</td>\n",
              "      <td>NaN</td>\n",
              "    </tr>\n",
              "  </tbody>\n",
              "</table>\n",
              "<p>300 rows × 144 columns</p>\n",
              "</div>\n",
              "      <button class=\"colab-df-convert\" onclick=\"convertToInteractive('df-170e4a24-30e3-4c32-b487-6fa3ebfaafeb')\"\n",
              "              title=\"Convert this dataframe to an interactive table.\"\n",
              "              style=\"display:none;\">\n",
              "        \n",
              "  <svg xmlns=\"http://www.w3.org/2000/svg\" height=\"24px\"viewBox=\"0 0 24 24\"\n",
              "       width=\"24px\">\n",
              "    <path d=\"M0 0h24v24H0V0z\" fill=\"none\"/>\n",
              "    <path d=\"M18.56 5.44l.94 2.06.94-2.06 2.06-.94-2.06-.94-.94-2.06-.94 2.06-2.06.94zm-11 1L8.5 8.5l.94-2.06 2.06-.94-2.06-.94L8.5 2.5l-.94 2.06-2.06.94zm10 10l.94 2.06.94-2.06 2.06-.94-2.06-.94-.94-2.06-.94 2.06-2.06.94z\"/><path d=\"M17.41 7.96l-1.37-1.37c-.4-.4-.92-.59-1.43-.59-.52 0-1.04.2-1.43.59L10.3 9.45l-7.72 7.72c-.78.78-.78 2.05 0 2.83L4 21.41c.39.39.9.59 1.41.59.51 0 1.02-.2 1.41-.59l7.78-7.78 2.81-2.81c.8-.78.8-2.07 0-2.86zM5.41 20L4 18.59l7.72-7.72 1.47 1.35L5.41 20z\"/>\n",
              "  </svg>\n",
              "      </button>\n",
              "      \n",
              "  <style>\n",
              "    .colab-df-container {\n",
              "      display:flex;\n",
              "      flex-wrap:wrap;\n",
              "      gap: 12px;\n",
              "    }\n",
              "\n",
              "    .colab-df-convert {\n",
              "      background-color: #E8F0FE;\n",
              "      border: none;\n",
              "      border-radius: 50%;\n",
              "      cursor: pointer;\n",
              "      display: none;\n",
              "      fill: #1967D2;\n",
              "      height: 32px;\n",
              "      padding: 0 0 0 0;\n",
              "      width: 32px;\n",
              "    }\n",
              "\n",
              "    .colab-df-convert:hover {\n",
              "      background-color: #E2EBFA;\n",
              "      box-shadow: 0px 1px 2px rgba(60, 64, 67, 0.3), 0px 1px 3px 1px rgba(60, 64, 67, 0.15);\n",
              "      fill: #174EA6;\n",
              "    }\n",
              "\n",
              "    [theme=dark] .colab-df-convert {\n",
              "      background-color: #3B4455;\n",
              "      fill: #D2E3FC;\n",
              "    }\n",
              "\n",
              "    [theme=dark] .colab-df-convert:hover {\n",
              "      background-color: #434B5C;\n",
              "      box-shadow: 0px 1px 3px 1px rgba(0, 0, 0, 0.15);\n",
              "      filter: drop-shadow(0px 1px 2px rgba(0, 0, 0, 0.3));\n",
              "      fill: #FFFFFF;\n",
              "    }\n",
              "  </style>\n",
              "\n",
              "      <script>\n",
              "        const buttonEl =\n",
              "          document.querySelector('#df-170e4a24-30e3-4c32-b487-6fa3ebfaafeb button.colab-df-convert');\n",
              "        buttonEl.style.display =\n",
              "          google.colab.kernel.accessAllowed ? 'block' : 'none';\n",
              "\n",
              "        async function convertToInteractive(key) {\n",
              "          const element = document.querySelector('#df-170e4a24-30e3-4c32-b487-6fa3ebfaafeb');\n",
              "          const dataTable =\n",
              "            await google.colab.kernel.invokeFunction('convertToInteractive',\n",
              "                                                     [key], {});\n",
              "          if (!dataTable) return;\n",
              "\n",
              "          const docLinkHtml = 'Like what you see? Visit the ' +\n",
              "            '<a target=\"_blank\" href=https://colab.research.google.com/notebooks/data_table.ipynb>data table notebook</a>'\n",
              "            + ' to learn more about interactive tables.';\n",
              "          element.innerHTML = '';\n",
              "          dataTable['output_type'] = 'display_data';\n",
              "          await google.colab.output.renderOutput(dataTable, element);\n",
              "          const docLink = document.createElement('div');\n",
              "          docLink.innerHTML = docLinkHtml;\n",
              "          element.appendChild(docLink);\n",
              "        }\n",
              "      </script>\n",
              "    </div>\n",
              "  </div>\n",
              "  "
            ]
          },
          "metadata": {},
          "execution_count": 19
        }
      ],
      "source": [
        "ex_array = np.array([True]*300+[False]*351)\n",
        "ex_array\n",
        "df = load_uk()\n",
        "uk_scrubbed = df[ex_array]\n",
        "uk_scrubbed"
      ]
    },
    {
      "cell_type": "code",
      "execution_count": 20,
      "id": "a91e2757",
      "metadata": {
        "scrolled": true,
        "id": "a91e2757",
        "outputId": "0b149765-2324-46a8-c76b-d2396d3f727c",
        "colab": {
          "base_uri": "https://localhost:8080/"
        }
      },
      "outputs": [
        {
          "output_type": "execute_result",
          "data": {
            "text/plain": [
              "300"
            ]
          },
          "metadata": {},
          "execution_count": 20
        }
      ],
      "source": [
        "uk_scrubbed['Electorate'].count()"
      ]
    },
    {
      "cell_type": "markdown",
      "id": "c1740ce5",
      "metadata": {
        "id": "c1740ce5"
      },
      "source": [
        "# Описательные статистики"
      ]
    },
    {
      "cell_type": "markdown",
      "id": "e5f06415",
      "metadata": {
        "id": "e5f06415"
      },
      "source": [
        "## Среднее"
      ]
    },
    {
      "cell_type": "code",
      "execution_count": 21,
      "id": "4898c435",
      "metadata": {
        "scrolled": true,
        "id": "4898c435",
        "outputId": "7d841476-a93e-4ca2-d52b-0e8db186c72c",
        "colab": {
          "base_uri": "https://localhost:8080/"
        }
      },
      "outputs": [
        {
          "output_type": "execute_result",
          "data": {
            "text/plain": [
              "69845.93"
            ]
          },
          "metadata": {},
          "execution_count": 21
        }
      ],
      "source": [
        "uk_scrubbed['Electorate'].mean()"
      ]
    },
    {
      "cell_type": "markdown",
      "id": "0a53adc0",
      "metadata": {
        "id": "0a53adc0"
      },
      "source": [
        "## Медиана"
      ]
    },
    {
      "cell_type": "code",
      "execution_count": 22,
      "id": "42d18d9a",
      "metadata": {
        "id": "42d18d9a",
        "outputId": "24833652-2c50-464c-f5cc-8bd87ab3f050",
        "colab": {
          "base_uri": "https://localhost:8080/"
        }
      },
      "outputs": [
        {
          "output_type": "execute_result",
          "data": {
            "text/plain": [
              "70665.0"
            ]
          },
          "metadata": {},
          "execution_count": 22
        }
      ],
      "source": [
        "stat.median(uk_scrubbed['Electorate'])"
      ]
    },
    {
      "cell_type": "markdown",
      "id": "2790e83d",
      "metadata": {
        "id": "2790e83d"
      },
      "source": [
        "## Дисперсия"
      ]
    },
    {
      "cell_type": "code",
      "execution_count": 23,
      "id": "dde7c4d4",
      "metadata": {
        "id": "dde7c4d4",
        "outputId": "60886ef0-0651-4f5b-b66c-4c2ddb916b1a",
        "colab": {
          "base_uri": "https://localhost:8080/"
        }
      },
      "outputs": [
        {
          "output_type": "execute_result",
          "data": {
            "text/plain": [
              "53731155.9051"
            ]
          },
          "metadata": {},
          "execution_count": 23
        }
      ],
      "source": [
        "np.var(uk_scrubbed['Electorate'])"
      ]
    },
    {
      "cell_type": "markdown",
      "id": "2436d325",
      "metadata": {
        "id": "2436d325"
      },
      "source": [
        "## Стандартное отклонение"
      ]
    },
    {
      "cell_type": "code",
      "execution_count": 24,
      "id": "76c91132",
      "metadata": {
        "id": "76c91132",
        "outputId": "05fc8bf6-c7c9-4bd6-f253-e18c2d7ef7ff",
        "colab": {
          "base_uri": "https://localhost:8080/"
        }
      },
      "outputs": [
        {
          "output_type": "execute_result",
          "data": {
            "text/plain": [
              "7330.153880042356"
            ]
          },
          "metadata": {},
          "execution_count": 24
        }
      ],
      "source": [
        "np.sqrt(np.var(uk_scrubbed['Electorate']))"
      ]
    },
    {
      "cell_type": "markdown",
      "id": "5bab035c",
      "metadata": {
        "id": "5bab035c"
      },
      "source": [
        "## Квантили"
      ]
    },
    {
      "cell_type": "code",
      "execution_count": 25,
      "id": "99e0ee5d",
      "metadata": {
        "id": "99e0ee5d",
        "outputId": "04a22692-aa6f-4289-fca2-63aac2a0e2c9",
        "colab": {
          "base_uri": "https://localhost:8080/"
        }
      },
      "outputs": [
        {
          "output_type": "execute_result",
          "data": {
            "text/plain": [
              "0.00    41198.0\n",
              "0.25    65770.5\n",
              "0.50    70665.0\n",
              "0.75    74245.0\n",
              "1.00    90674.0\n",
              "Name: Electorate, dtype: float64"
            ]
          },
          "metadata": {},
          "execution_count": 25
        }
      ],
      "source": [
        "q = [0, 1/4, 1/2, 3/4, 1]\n",
        "uk_scrubbed['Electorate'].quantile(q=q)"
      ]
    },
    {
      "cell_type": "markdown",
      "id": "5ced4e65",
      "metadata": {
        "id": "5ced4e65"
      },
      "source": [
        "   ## Максимальное значение"
      ]
    },
    {
      "cell_type": "code",
      "execution_count": 26,
      "id": "34395466",
      "metadata": {
        "id": "34395466",
        "outputId": "8230b2ea-e3cf-45ae-f0b8-a15ea0d4d030",
        "colab": {
          "base_uri": "https://localhost:8080/"
        }
      },
      "outputs": [
        {
          "output_type": "execute_result",
          "data": {
            "text/plain": [
              "90674.0"
            ]
          },
          "metadata": {},
          "execution_count": 26
        }
      ],
      "source": [
        "uk_scrubbed['Electorate'].max()"
      ]
    },
    {
      "cell_type": "markdown",
      "id": "a0a7819e",
      "metadata": {
        "id": "a0a7819e"
      },
      "source": [
        "## Минимальное значение"
      ]
    },
    {
      "cell_type": "code",
      "execution_count": 27,
      "id": "b0bfc12f",
      "metadata": {
        "id": "b0bfc12f",
        "outputId": "e81fe9e0-a664-4dcf-e792-f0055b31c3c4",
        "colab": {
          "base_uri": "https://localhost:8080/"
        }
      },
      "outputs": [
        {
          "output_type": "execute_result",
          "data": {
            "text/plain": [
              "41198.0"
            ]
          },
          "metadata": {},
          "execution_count": 27
        }
      ],
      "source": [
        "uk_scrubbed['Electorate'].min()"
      ]
    },
    {
      "cell_type": "markdown",
      "id": "ad7ddd89",
      "metadata": {
        "id": "ad7ddd89"
      },
      "source": [
        "## Мода"
      ]
    },
    {
      "cell_type": "code",
      "execution_count": 28,
      "id": "cea1b678",
      "metadata": {
        "id": "cea1b678",
        "outputId": "425380cf-0641-4591-a0f8-f06349bbfaf4",
        "colab": {
          "base_uri": "https://localhost:8080/"
        }
      },
      "outputs": [
        {
          "output_type": "execute_result",
          "data": {
            "text/plain": [
              "74508.0"
            ]
          },
          "metadata": {},
          "execution_count": 28
        }
      ],
      "source": [
        "stat.mode(uk_scrubbed['Electorate'])"
      ]
    },
    {
      "cell_type": "markdown",
      "id": "143b7295",
      "metadata": {
        "id": "143b7295"
      },
      "source": [
        "## Значения столбца и сортировка"
      ]
    },
    {
      "cell_type": "code",
      "execution_count": 29,
      "id": "9afcaf2a",
      "metadata": {
        "id": "9afcaf2a",
        "outputId": "e734de08-64ed-48c1-a48d-2202a27bda03",
        "colab": {
          "base_uri": "https://localhost:8080/"
        }
      },
      "outputs": [
        {
          "output_type": "execute_result",
          "data": {
            "text/plain": [
              "0      50838.0\n",
              "1      44593.0\n",
              "2      64808.0\n",
              "3      64031.0\n",
              "4      66110.0\n",
              "        ...   \n",
              "295    68927.0\n",
              "296    70743.0\n",
              "297    77030.0\n",
              "298    69662.0\n",
              "299    70231.0\n",
              "Name: Electorate, Length: 300, dtype: float64"
            ]
          },
          "metadata": {},
          "execution_count": 29
        }
      ],
      "source": [
        "uk_scrubbed['Electorate']"
      ]
    },
    {
      "cell_type": "code",
      "execution_count": 30,
      "id": "628e1591",
      "metadata": {
        "id": "628e1591",
        "outputId": "b1075cdb-07fa-4a7e-9dda-82ee69daffb4",
        "colab": {
          "base_uri": "https://localhost:8080/"
        }
      },
      "outputs": [
        {
          "output_type": "execute_result",
          "data": {
            "text/plain": [
              "15     41198.0\n",
              "1      44593.0\n",
              "216    45354.0\n",
              "114    47263.0\n",
              "173    50650.0\n",
              "        ...   \n",
              "25     84379.0\n",
              "112    84716.0\n",
              "170    85216.0\n",
              "120    88851.0\n",
              "221    90674.0\n",
              "Name: Electorate, Length: 300, dtype: float64"
            ]
          },
          "metadata": {},
          "execution_count": 30
        }
      ],
      "source": [
        "uk_scrubbed['Electorate'].sort_values()"
      ]
    },
    {
      "cell_type": "markdown",
      "id": "d25cdddd",
      "metadata": {
        "id": "d25cdddd"
      },
      "source": [
        "## Разбивка на корзины"
      ]
    },
    {
      "cell_type": "code",
      "execution_count": 31,
      "id": "2a17e59d",
      "metadata": {
        "id": "2a17e59d",
        "outputId": "0f0ccfa8-9775-4692-f25e-c27cabc3f610",
        "colab": {
          "base_uri": "https://localhost:8080/"
        }
      },
      "outputs": [
        {
          "output_type": "execute_result",
          "data": {
            "text/plain": [
              "array([ 0,  1,  2,  3,  4,  5,  6,  7,  8,  9, 10, 11, 12, 13, 14])"
            ]
          },
          "metadata": {},
          "execution_count": 31
        }
      ],
      "source": [
        "array6 = np.array(range(15))\n",
        "array6"
      ]
    },
    {
      "cell_type": "code",
      "execution_count": 32,
      "id": "6766dabb",
      "metadata": {
        "id": "6766dabb",
        "outputId": "453cbc5f-62aa-490e-9e93-c635117fcabb",
        "colab": {
          "base_uri": "https://localhost:8080/"
        }
      },
      "outputs": [
        {
          "output_type": "execute_result",
          "data": {
            "text/plain": [
              "[0, 0, 0, 1, 1, 1, 2, 2, 2, 3, 3, 3, 4, 4, 4]"
            ]
          },
          "metadata": {},
          "execution_count": 32
        }
      ],
      "source": [
        "def nbin(n, xs): \n",
        "    '''Разбивка данных на частотные корзины'''\n",
        "    min_x, max_x = min(xs), max(xs)\n",
        "    range_x = max_x - min_x\n",
        "    fn = lambda x: min( int((abs(x) - min_x) / range_x * n), n-1 )\n",
        "    return map(fn, xs)\n",
        "list( nbin(5, range(15)) )"
      ]
    },
    {
      "cell_type": "code",
      "execution_count": 33,
      "id": "5e92a028",
      "metadata": {
        "id": "5e92a028",
        "outputId": "b2a03705-bd7b-4eb7-fc7c-f9863d1ce91a",
        "colab": {
          "base_uri": "https://localhost:8080/"
        }
      },
      "outputs": [
        {
          "output_type": "execute_result",
          "data": {
            "text/plain": [
              "Counter({0: 3, 1: 3, 2: 3, 3: 3, 4: 3})"
            ]
          },
          "metadata": {},
          "execution_count": 33
        }
      ],
      "source": [
        "clt.Counter (nbin(5, array6))"
      ]
    },
    {
      "cell_type": "code",
      "execution_count": 34,
      "id": "8febea58",
      "metadata": {
        "id": "8febea58",
        "outputId": "ccf2a305-b0da-443d-e781-2a31a71cfe89",
        "colab": {
          "base_uri": "https://localhost:8080/"
        }
      },
      "outputs": [
        {
          "output_type": "execute_result",
          "data": {
            "text/plain": [
              "Counter({0: 6, 2: 126, 3: 126, 1: 25, 4: 17})"
            ]
          },
          "metadata": {},
          "execution_count": 34
        }
      ],
      "source": [
        "clt.Counter (nbin(5, uk_scrubbed['Electorate']))"
      ]
    },
    {
      "cell_type": "markdown",
      "id": "1e9c3336",
      "metadata": {
        "id": "1e9c3336"
      },
      "source": [
        "## Эксперименты"
      ]
    },
    {
      "cell_type": "markdown",
      "id": "a2f206df",
      "metadata": {
        "id": "a2f206df"
      },
      "source": [
        "### Массивы"
      ]
    },
    {
      "cell_type": "code",
      "execution_count": 35,
      "id": "ac376019",
      "metadata": {
        "id": "ac376019",
        "outputId": "dfbddada-fb34-4f66-89af-049d5bb066cb",
        "colab": {
          "base_uri": "https://localhost:8080/"
        }
      },
      "outputs": [
        {
          "output_type": "execute_result",
          "data": {
            "text/plain": [
              "array([1, 2, 3, 4, 5, 6, 7, 8, 9])"
            ]
          },
          "metadata": {},
          "execution_count": 35
        }
      ],
      "source": [
        "array1 = np.array (np.arange(1,10))\n",
        "array1"
      ]
    },
    {
      "cell_type": "code",
      "execution_count": 36,
      "id": "b9242ff3",
      "metadata": {
        "id": "b9242ff3",
        "outputId": "0719a50b-5722-4c6b-9892-27e76a7d7f30",
        "colab": {
          "base_uri": "https://localhost:8080/"
        }
      },
      "outputs": [
        {
          "output_type": "execute_result",
          "data": {
            "text/plain": [
              "array([1, 1, 1, 1, 1, 9, 9, 9, 9, 9])"
            ]
          },
          "metadata": {},
          "execution_count": 36
        }
      ],
      "source": [
        "array2 = np.array ([1]*5+[9]*5)\n",
        "array2"
      ]
    },
    {
      "cell_type": "code",
      "execution_count": 37,
      "id": "4f2dfdf6",
      "metadata": {
        "id": "4f2dfdf6",
        "outputId": "145cdc38-a493-458c-edb6-d4206f4037fa",
        "colab": {
          "base_uri": "https://localhost:8080/"
        }
      },
      "outputs": [
        {
          "output_type": "execute_result",
          "data": {
            "text/plain": [
              "array([3, 3, 3, 5, 5, 5, 5, 7, 7, 7])"
            ]
          },
          "metadata": {},
          "execution_count": 37
        }
      ],
      "source": [
        "array3 = np.array ([3]*3+[5]*4+[7]*3)\n",
        "array3"
      ]
    },
    {
      "cell_type": "markdown",
      "id": "11c9ae49",
      "metadata": {
        "id": "11c9ae49"
      },
      "source": [
        "### Средние"
      ]
    },
    {
      "cell_type": "code",
      "execution_count": 38,
      "id": "d34a9b3a",
      "metadata": {
        "id": "d34a9b3a",
        "outputId": "9558286f-8792-48f2-9f0e-31fa243dde85",
        "colab": {
          "base_uri": "https://localhost:8080/"
        }
      },
      "outputs": [
        {
          "output_type": "execute_result",
          "data": {
            "text/plain": [
              "5.0"
            ]
          },
          "metadata": {},
          "execution_count": 38
        }
      ],
      "source": [
        "array1.mean()"
      ]
    },
    {
      "cell_type": "code",
      "execution_count": 39,
      "id": "c06d2582",
      "metadata": {
        "id": "c06d2582",
        "outputId": "2c7e7954-cf16-41e2-bba5-47459cb029f6",
        "colab": {
          "base_uri": "https://localhost:8080/"
        }
      },
      "outputs": [
        {
          "output_type": "execute_result",
          "data": {
            "text/plain": [
              "5.0"
            ]
          },
          "metadata": {},
          "execution_count": 39
        }
      ],
      "source": [
        "array2.mean()"
      ]
    },
    {
      "cell_type": "code",
      "execution_count": 40,
      "id": "ce5ee707",
      "metadata": {
        "id": "ce5ee707",
        "outputId": "2c9713d2-7a16-458d-a921-38fa68c12b3d",
        "colab": {
          "base_uri": "https://localhost:8080/"
        }
      },
      "outputs": [
        {
          "output_type": "execute_result",
          "data": {
            "text/plain": [
              "5.0"
            ]
          },
          "metadata": {},
          "execution_count": 40
        }
      ],
      "source": [
        "array3.mean()"
      ]
    },
    {
      "cell_type": "markdown",
      "id": "b832393c",
      "metadata": {
        "id": "b832393c"
      },
      "source": [
        "### Медианы"
      ]
    },
    {
      "cell_type": "code",
      "execution_count": 41,
      "id": "38c0135e",
      "metadata": {
        "scrolled": true,
        "id": "38c0135e",
        "outputId": "9f4c4cf8-5be5-4af8-8626-5d33cbe3330d",
        "colab": {
          "base_uri": "https://localhost:8080/"
        }
      },
      "outputs": [
        {
          "output_type": "execute_result",
          "data": {
            "text/plain": [
              "5"
            ]
          },
          "metadata": {},
          "execution_count": 41
        }
      ],
      "source": [
        "stat.median(array1)"
      ]
    },
    {
      "cell_type": "code",
      "execution_count": 42,
      "id": "97bbc811",
      "metadata": {
        "scrolled": true,
        "id": "97bbc811",
        "outputId": "0bc8a6f4-66fe-4dad-a9b1-788deafb8857",
        "colab": {
          "base_uri": "https://localhost:8080/"
        }
      },
      "outputs": [
        {
          "output_type": "execute_result",
          "data": {
            "text/plain": [
              "5.0"
            ]
          },
          "metadata": {},
          "execution_count": 42
        }
      ],
      "source": [
        "stat.median(array2)"
      ]
    },
    {
      "cell_type": "code",
      "execution_count": 43,
      "id": "88037c93",
      "metadata": {
        "scrolled": true,
        "id": "88037c93",
        "outputId": "e150e60d-d8ad-40e1-e064-d51db1523b71",
        "colab": {
          "base_uri": "https://localhost:8080/"
        }
      },
      "outputs": [
        {
          "output_type": "execute_result",
          "data": {
            "text/plain": [
              "5.0"
            ]
          },
          "metadata": {},
          "execution_count": 43
        }
      ],
      "source": [
        "stat.median(array3)"
      ]
    },
    {
      "cell_type": "markdown",
      "id": "29172fb2",
      "metadata": {
        "id": "29172fb2"
      },
      "source": [
        "### Дисперсии"
      ]
    },
    {
      "cell_type": "code",
      "execution_count": 44,
      "id": "e2a888d0",
      "metadata": {
        "scrolled": true,
        "id": "e2a888d0",
        "outputId": "bbdd5a52-f914-44c9-b0fe-1959eca886c3",
        "colab": {
          "base_uri": "https://localhost:8080/"
        }
      },
      "outputs": [
        {
          "output_type": "execute_result",
          "data": {
            "text/plain": [
              "6.666666666666667"
            ]
          },
          "metadata": {},
          "execution_count": 44
        }
      ],
      "source": [
        "np.var(array1)"
      ]
    },
    {
      "cell_type": "code",
      "execution_count": 45,
      "id": "0a2c31ff",
      "metadata": {
        "scrolled": false,
        "id": "0a2c31ff",
        "outputId": "d7c9800c-9aa6-47fb-bfc4-f70b65998b8c",
        "colab": {
          "base_uri": "https://localhost:8080/"
        }
      },
      "outputs": [
        {
          "output_type": "execute_result",
          "data": {
            "text/plain": [
              "16.0"
            ]
          },
          "metadata": {},
          "execution_count": 45
        }
      ],
      "source": [
        "np.var(array2)"
      ]
    },
    {
      "cell_type": "code",
      "execution_count": 46,
      "id": "4f3eeb98",
      "metadata": {
        "scrolled": false,
        "id": "4f3eeb98",
        "outputId": "c39fade1-a4b1-459d-8429-800ba3aa22ab",
        "colab": {
          "base_uri": "https://localhost:8080/"
        }
      },
      "outputs": [
        {
          "output_type": "execute_result",
          "data": {
            "text/plain": [
              "2.4"
            ]
          },
          "metadata": {},
          "execution_count": 46
        }
      ],
      "source": [
        "np.var(array3)"
      ]
    },
    {
      "cell_type": "markdown",
      "id": "ef198a91",
      "metadata": {
        "id": "ef198a91"
      },
      "source": [
        "### Стандартные отклонения"
      ]
    },
    {
      "cell_type": "code",
      "execution_count": 47,
      "id": "bca74ac6",
      "metadata": {
        "scrolled": true,
        "id": "bca74ac6",
        "outputId": "c62669e1-e843-4861-c674-257bd6f45fac",
        "colab": {
          "base_uri": "https://localhost:8080/"
        }
      },
      "outputs": [
        {
          "output_type": "execute_result",
          "data": {
            "text/plain": [
              "2.581988897471611"
            ]
          },
          "metadata": {},
          "execution_count": 47
        }
      ],
      "source": [
        "np.sqrt(np.var(array1))"
      ]
    },
    {
      "cell_type": "code",
      "execution_count": 48,
      "id": "98d139ad",
      "metadata": {
        "scrolled": false,
        "id": "98d139ad",
        "outputId": "f1b681a0-5f04-4673-8720-2c892e45ab71",
        "colab": {
          "base_uri": "https://localhost:8080/"
        }
      },
      "outputs": [
        {
          "output_type": "execute_result",
          "data": {
            "text/plain": [
              "4.0"
            ]
          },
          "metadata": {},
          "execution_count": 48
        }
      ],
      "source": [
        "np.sqrt(np.var(array2))"
      ]
    },
    {
      "cell_type": "code",
      "execution_count": 49,
      "id": "615cd4db",
      "metadata": {
        "scrolled": false,
        "id": "615cd4db",
        "outputId": "c019d901-7fee-4de6-deab-b7d30323aa18",
        "colab": {
          "base_uri": "https://localhost:8080/"
        }
      },
      "outputs": [
        {
          "output_type": "execute_result",
          "data": {
            "text/plain": [
              "1.5491933384829668"
            ]
          },
          "metadata": {},
          "execution_count": 49
        }
      ],
      "source": [
        "np.sqrt(np.var(array3))"
      ]
    },
    {
      "cell_type": "markdown",
      "id": "15927f94",
      "metadata": {
        "id": "15927f94"
      },
      "source": [
        "### Квантили"
      ]
    },
    {
      "cell_type": "code",
      "execution_count": 50,
      "id": "cf62bb62",
      "metadata": {
        "scrolled": true,
        "id": "cf62bb62",
        "outputId": "f52d8422-22b9-4fde-ce80-be566b723258",
        "colab": {
          "base_uri": "https://localhost:8080/"
        }
      },
      "outputs": [
        {
          "output_type": "execute_result",
          "data": {
            "text/plain": [
              "array([1, 1, 1, 1, 3, 3, 3, 3, 5, 5, 5, 5, 7, 7, 7, 7, 9, 9, 9, 9, 9, 9,\n",
              "       9, 9, 9, 9])"
            ]
          },
          "metadata": {},
          "execution_count": 50
        }
      ],
      "source": [
        "array4 = np.array ([1]*4+[3]*4+[5]*4+[7]*4+[9]*10)\n",
        "array4"
      ]
    },
    {
      "cell_type": "code",
      "execution_count": 51,
      "id": "52929d25",
      "metadata": {
        "scrolled": false,
        "id": "52929d25",
        "outputId": "5bfcb375-8942-4f85-ecce-eb173c71a6b7",
        "colab": {
          "base_uri": "https://localhost:8080/"
        }
      },
      "outputs": [
        {
          "output_type": "execute_result",
          "data": {
            "text/plain": [
              "array([1., 3., 7., 9., 9.])"
            ]
          },
          "metadata": {},
          "execution_count": 51
        }
      ],
      "source": [
        "q = [0, 1/4, 2/4, 3/4, 1]\n",
        "np.quantile(array4,q=q)"
      ]
    },
    {
      "cell_type": "code",
      "execution_count": 52,
      "id": "0f59cdea",
      "metadata": {
        "scrolled": true,
        "id": "0f59cdea",
        "outputId": "c05bdded-5977-41dc-e6b9-0f86f74233f3",
        "colab": {
          "base_uri": "https://localhost:8080/"
        }
      },
      "outputs": [
        {
          "output_type": "execute_result",
          "data": {
            "text/plain": [
              "array([1, 1, 1, 1, 3, 3, 3, 3, 5, 5, 5, 5, 7, 7, 7, 7, 9, 9, 9, 9])"
            ]
          },
          "metadata": {},
          "execution_count": 52
        }
      ],
      "source": [
        "array5 = np.array ([1]*4+[3]*4+[5]*4+[7]*4+[9]*4)\n",
        "array5"
      ]
    },
    {
      "cell_type": "code",
      "execution_count": 53,
      "id": "b985fcb6",
      "metadata": {
        "scrolled": false,
        "id": "b985fcb6",
        "outputId": "e323308c-f923-4ac8-c25b-d3a21c1bf020",
        "colab": {
          "base_uri": "https://localhost:8080/"
        }
      },
      "outputs": [
        {
          "output_type": "execute_result",
          "data": {
            "text/plain": [
              "array([1., 3., 5., 7., 9.])"
            ]
          },
          "metadata": {},
          "execution_count": 53
        }
      ],
      "source": [
        "q = [0, 1/4, 2/4, 3/4, 1]\n",
        "np.quantile(array5,q=q)"
      ]
    },
    {
      "cell_type": "markdown",
      "id": "94003f29",
      "metadata": {
        "id": "94003f29"
      },
      "source": [
        "## Графики и распределения"
      ]
    },
    {
      "cell_type": "markdown",
      "id": "b97db226",
      "metadata": {
        "id": "b97db226"
      },
      "source": [
        "### Электорат"
      ]
    },
    {
      "cell_type": "code",
      "execution_count": 54,
      "id": "8c7544cf",
      "metadata": {
        "id": "8c7544cf",
        "outputId": "362f8419-9677-4e30-87ea-97805ce26a64",
        "colab": {
          "base_uri": "https://localhost:8080/",
          "height": 449
        }
      },
      "outputs": [
        {
          "output_type": "display_data",
          "data": {
            "text/plain": [
              "<Figure size 640x480 with 1 Axes>"
            ],
            "image/png": "[encoded data removed]"
          },
          "metadata": {}
        }
      ],
      "source": [
        "uk_scrubbed['Electorate'].hist(bins=10)\n",
        "plt.xlabel('Электорат Великобритании')\n",
        "plt.ylabel('Частота')\n",
        "plt.show()"
      ]
    },
    {
      "cell_type": "code",
      "execution_count": 55,
      "metadata": {
        "outputId": "14f2c6b3-0482-4a2c-aa3a-bbee2e67b0bc",
        "colab": {
          "base_uri": "https://localhost:8080/",
          "height": 449
        },
        "id": "mS_oIqZOTeLE"
      },
      "outputs": [
        {
          "output_type": "display_data",
          "data": {
            "text/plain": [
              "<Figure size 640x480 with 1 Axes>"
            ],
            "image/png": "[encoded data removed]"
          },
          "metadata": {}
        }
      ],
      "source": [
        "uk_scrubbed['Electorate'].hist(bins=50)\n",
        "plt.xlabel('Электорат Великобритании')\n",
        "plt.ylabel('Частота')\n",
        "plt.show()"
      ],
      "id": "mS_oIqZOTeLE"
    },
    {
      "cell_type": "code",
      "execution_count": 56,
      "metadata": {
        "outputId": "096616a0-9c52-42f7-c9c8-f1ca7347bc12",
        "colab": {
          "base_uri": "https://localhost:8080/",
          "height": 449
        },
        "id": "Kf6SWdAATjwc"
      },
      "outputs": [
        {
          "output_type": "display_data",
          "data": {
            "text/plain": [
              "<Figure size 640x480 with 1 Axes>"
            ],
            "image/png": "[encoded data removed]"
          },
          "metadata": {}
        }
      ],
      "source": [
        "uk_scrubbed['Electorate'].hist(bins=100)\n",
        "plt.xlabel('Электорат Великобритании')\n",
        "plt.ylabel('Частота')\n",
        "plt.show()"
      ],
      "id": "Kf6SWdAATjwc"
    },
    {
      "cell_type": "markdown",
      "id": "586fb20d",
      "metadata": {
        "id": "586fb20d"
      },
      "source": [
        "### Равномерное распределение"
      ]
    },
    {
      "cell_type": "code",
      "execution_count": 57,
      "id": "ee57d51e",
      "metadata": {
        "id": "ee57d51e",
        "outputId": "13854569-138a-4c4b-80a4-69450e580e3a",
        "colab": {
          "base_uri": "https://localhost:8080/",
          "height": 449
        }
      },
      "outputs": [
        {
          "output_type": "display_data",
          "data": {
            "text/plain": [
              "<Figure size 640x480 with 1 Axes>"
            ],
            "image/png": "[encoded data removed]"
          },
          "metadata": {}
        }
      ],
      "source": [
        "def ex_1_15():\n",
        "    '''Показать гистограмму равномерного распределения \n",
        "       синтетического набора данных'''\n",
        "    xs = stats.uniform.rvs(0, 1, 10000)\n",
        "    pd.Series(xs).hist(bins=20)\n",
        "    plt.xlabel('Равномерное распределение')\n",
        "    plt.ylabel('Частота')\n",
        "    plt.show()\n",
        "ex_1_15()"
      ]
    },
    {
      "cell_type": "markdown",
      "id": "b60c292d",
      "metadata": {
        "id": "b60c292d"
      },
      "source": [
        "### Нормальное распределение"
      ]
    },
    {
      "cell_type": "code",
      "execution_count": 58,
      "id": "b03a3cb1",
      "metadata": {
        "scrolled": true,
        "id": "b03a3cb1",
        "outputId": "9773ef98-cbf4-4286-d86d-7cce1b240bc8",
        "colab": {
          "base_uri": "https://localhost:8080/",
          "height": 449
        }
      },
      "outputs": [
        {
          "output_type": "display_data",
          "data": {
            "text/plain": [
              "<Figure size 640x480 with 1 Axes>"
            ],
            "image/png": "[encoded data removed]"
          },
          "metadata": {}
        }
      ],
      "source": [
        " '''Показать гистограмму нормального распределения \n",
        "       синтетического набора данных'''\n",
        "xs = stats.norm.rvs(loc=0, scale=3, size=10000)\n",
        "pd.Series(xs).hist(bins=20)\n",
        "plt.xlabel('Нормальное распределение')\n",
        "plt.ylabel('Частота')\n",
        "plt.show()"
      ]
    },
    {
      "cell_type": "markdown",
      "id": "c2e8a313",
      "metadata": {
        "id": "c2e8a313"
      },
      "source": [
        "## Булочник и Пункаре"
      ]
    },
    {
      "cell_type": "code",
      "execution_count": 59,
      "id": "e889ed46",
      "metadata": {
        "id": "e889ed46",
        "outputId": "cfd8070d-8492-47db-ee48-f491a0a382f3",
        "colab": {
          "base_uri": "https://localhost:8080/",
          "height": 449
        }
      },
      "outputs": [
        {
          "output_type": "display_data",
          "data": {
            "text/plain": [
              "<Figure size 640x480 with 1 Axes>"
            ],
            "image/png": "[encoded data removed]"
          },
          "metadata": {}
        }
      ],
      "source": [
        "def honest_baker(mu, sigma):\n",
        "    '''Модель честного булочника'''\n",
        "    return pd.Series( stats.norm.rvs(size=10000) )\n",
        "\n",
        "def ex_1_18():\n",
        "    '''Смоделировать честного булочника на гистограмме'''\n",
        "    honest_baker(1000, 30).hist(bins=25)\n",
        "    plt.xlabel('Честный булочник') \n",
        "    plt.ylabel('Частота')\n",
        "    plt.show()\n",
        "ex_1_18()"
      ]
    },
    {
      "cell_type": "code",
      "execution_count": 60,
      "id": "0587becb",
      "metadata": {
        "id": "0587becb",
        "outputId": "0ec03d77-8d6e-4744-f197-dd2e3d817f7c",
        "colab": {
          "base_uri": "https://localhost:8080/",
          "height": 449
        }
      },
      "outputs": [
        {
          "output_type": "display_data",
          "data": {
            "text/plain": [
              "<Figure size 640x480 with 1 Axes>"
            ],
            "image/png": "[encoded data removed]"
          },
          "metadata": {}
        }
      ],
      "source": [
        "def bootstrap(xs, n, replace=True): \n",
        "    '''Вернуть список массивов меньших размеров \n",
        "       по n элементов каждый'''\n",
        "    return np.random.choice(xs, (len(xs), n), replace=replace) \n",
        "\n",
        "def dishonest_baker(mu, sigma):\n",
        "    '''Модель нечестного булочника'''\n",
        "    xs = stats.norm.rvs(size=10000) \n",
        "    return pd.Series( map(max, bootstrap(xs, 13)) )       \n",
        "\n",
        "def ex_1_19():\n",
        "    '''Смоделировать нечестного булочника на гистограмме'''\n",
        "    dishonest_baker(950, 30).hist(bins=25)\n",
        "    plt.xlabel('Нечестный булочник') \n",
        "    plt.ylabel('Частота')\n",
        "    plt.show()\n",
        "ex_1_19()"
      ]
    },
    {
      "cell_type": "code",
      "execution_count": 61,
      "id": "8594d246",
      "metadata": {
        "id": "8594d246",
        "outputId": "3212f498-48e4-4391-b94b-019e7ad74293",
        "colab": {
          "base_uri": "https://localhost:8080/",
          "height": 449
        }
      },
      "outputs": [
        {
          "output_type": "display_data",
          "data": {
            "text/plain": [
              "<Figure size 640x480 with 1 Axes>"
            ],
            "image/png": "[encoded data removed]"
          },
          "metadata": {}
        }
      ],
      "source": [
        "def empirical_cdf(x):\n",
        "    '''Вернуть эмпирическую ИФР для x'''\n",
        "    sx  = sorted(x)\n",
        "    return pd.DataFrame( {0: sx, 1:np.arange(len(sx))/len(sx)} )\n",
        "\n",
        "def ex_1_23():\n",
        "    '''Показать графики эмпирической ИФР\n",
        "       честного булочника в сопоставлении с нечестным'''\n",
        "    df  = empirical_cdf(honest_baker(1000, 30))\n",
        "    df2 = empirical_cdf(dishonest_baker(950, 30))\n",
        "    ax  = df.plot(0, 1, label='Честный булочник')    \n",
        "    df2.plot(0, 1, label='Нечестный булочник', grid=True, ax=ax)    \n",
        "    plt.xlabel('Вес буханки')\n",
        "    plt.ylabel('Вероятность')\n",
        "    plt.legend(loc='best')\n",
        "    plt.show()\n",
        "ex_1_23()"
      ]
    },
    {
      "cell_type": "code",
      "source": [
        "def ex_1_24():\n",
        "    '''Показать эмпирическую и подогнанную ИФР \n",
        "       электората Великобритании'''\n",
        "    emp      = uk_scrubbed['Electorate']\n",
        "    fitted   = stats.norm.rvs(emp.mean(), emp.std(ddof=0), len(emp))\n",
        "    df  = empirical_cdf(emp)\n",
        "    df2 = empirical_cdf(fitted)\n",
        "    ax  = df.plot(0, 1, label='эмпирическая')    \n",
        "    df2.plot(0, 1, label='подогнанная', grid=True, ax=ax)    \n",
        "    plt.xlabel('Электорат')\n",
        "    plt.ylabel('Вероятность')\n",
        "    plt.legend(loc='best')\n",
        "    plt.show()\n",
        "ex_1_24()"
      ],
      "metadata": {
        "colab": {
          "base_uri": "https://localhost:8080/",
          "height": 449
        },
        "id": "SzEtseaLU_Qi",
        "outputId": "cba42556-b742-497d-9fa1-0db3293a4f6c"
      },
      "id": "SzEtseaLU_Qi",
      "execution_count": 62,
      "outputs": [
        {
          "output_type": "display_data",
          "data": {
            "text/plain": [
              "<Figure size 640x480 with 1 Axes>"
            ],
            "image/png": "[encoded data removed]"
          },
          "metadata": {}
        }
      ]
    },
    {
      "cell_type": "markdown",
      "id": "83399382",
      "metadata": {
        "id": "83399382"
      },
      "source": [
        "# Сравнение данных"
      ]
    },
    {
      "cell_type": "markdown",
      "id": "c1818ba4",
      "metadata": {
        "id": "c1818ba4"
      },
      "source": [
        "## Данные по России"
      ]
    },
    {
      "cell_type": "code",
      "execution_count": 63,
      "id": "b568a107",
      "metadata": {
        "scrolled": true,
        "id": "b568a107",
        "outputId": "dc9b77d8-c249-4085-c441-df8000d0d708",
        "colab": {
          "base_uri": "https://localhost:8080/"
        }
      },
      "outputs": [
        {
          "output_type": "execute_result",
          "data": {
            "text/plain": [
              "Index(['Code for district',\n",
              "       'Number of the polling district (unique to state, not overall)',\n",
              "       'Name of district', 'Number of voters included in voters list',\n",
              "       'The number of ballots received by the precinct election commission',\n",
              "       'The number of ballots issued to voters who voted early',\n",
              "       'The number of ballots issued to voters at the polling',\n",
              "       'The number of ballots issued to voters outside the polling station',\n",
              "       'The number of canceled ballots',\n",
              "       'The number of ballots in mobile ballot boxes',\n",
              "       'The number of ballots in the stationary ballot boxes',\n",
              "       'Number of invalid ballots', 'Number of valid ballots',\n",
              "       'The number of absentee ballots received by the precinct election commission',\n",
              "       'The number of absentee ballots issued to voters at a polling station',\n",
              "       'The number of voters who voted with absentee ballots at a polling station',\n",
              "       'The number of the unused absentee ballots',\n",
              "       'The number of absentee ballots issued to voters of the territorial election commission',\n",
              "       'Number of lost absentee ballots', 'The number of lost ballots',\n",
              "       'The number of ballots not recorded after being obtained',\n",
              "       'A Just Russia', 'Liberal Democratic Party of Russia',\n",
              "       'Patriots of Russia', 'Communist Party',\n",
              "       'Russian United Democratic Party \"Yabloko\"', 'United Russia',\n",
              "       'Right Cause'],\n",
              "      dtype='object')"
            ]
          },
          "metadata": {},
          "execution_count": 63
        }
      ],
      "source": [
        "ru_data = pd.read_excel('data/Russia2011/Russia2011_1of2.xls')\n",
        "ru_data.columns"
      ]
    },
    {
      "cell_type": "code",
      "execution_count": 64,
      "id": "4edeb227",
      "metadata": {
        "scrolled": true,
        "id": "4edeb227",
        "outputId": "e95b966a-4e22-4782-9db6-2d1b6b51379b",
        "colab": {
          "base_uri": "https://localhost:8080/",
          "height": 424
        }
      },
      "outputs": [
        {
          "output_type": "execute_result",
          "data": {
            "text/plain": [
              "       Электорат  Действительные бюллетени  Победитель  Доля победителя  \\\n",
              "0            179                       138          80         0.579710   \n",
              "1            602                       409         235         0.574572   \n",
              "2            700                       422         292         0.691943   \n",
              "3            560                       324         134         0.413580   \n",
              "4            161                       131          93         0.709924   \n",
              "...          ...                       ...         ...              ...   \n",
              "49993       2631                      1399         325         0.232309   \n",
              "49994        702                       286          94         0.328671   \n",
              "49995       2161                      1163         245         0.210662   \n",
              "49996       2732                      1467         255         0.173824   \n",
              "49997        758                       372          88         0.236559   \n",
              "\n",
              "           Явка  \n",
              "0      0.770950  \n",
              "1      0.679402  \n",
              "2      0.602857  \n",
              "3      0.578571  \n",
              "4      0.813665  \n",
              "...         ...  \n",
              "49993  0.531737  \n",
              "49994  0.407407  \n",
              "49995  0.538177  \n",
              "49996  0.536969  \n",
              "49997  0.490765  \n",
              "\n",
              "[49998 rows x 5 columns]"
            ],
            "text/html": [
              "\n",
              "  <div id=\"df-1b3b6e19-2003-4a7a-90d2-f686fb3f6de9\">\n",
              "    <div class=\"colab-df-container\">\n",
              "      <div>\n",
              "<style scoped>\n",
              "    .dataframe tbody tr th:only-of-type {\n",
              "        vertical-align: middle;\n",
              "    }\n",
              "\n",
              "    .dataframe tbody tr th {\n",
              "        vertical-align: top;\n",
              "    }\n",
              "\n",
              "    .dataframe thead th {\n",
              "        text-align: right;\n",
              "    }\n",
              "</style>\n",
              "<table border=\"1\" class=\"dataframe\">\n",
              "  <thead>\n",
              "    <tr style=\"text-align: right;\">\n",
              "      <th></th>\n",
              "      <th>Электорат</th>\n",
              "      <th>Действительные бюллетени</th>\n",
              "      <th>Победитель</th>\n",
              "      <th>Доля победителя</th>\n",
              "      <th>Явка</th>\n",
              "    </tr>\n",
              "  </thead>\n",
              "  <tbody>\n",
              "    <tr>\n",
              "      <th>0</th>\n",
              "      <td>179</td>\n",
              "      <td>138</td>\n",
              "      <td>80</td>\n",
              "      <td>0.579710</td>\n",
              "      <td>0.770950</td>\n",
              "    </tr>\n",
              "    <tr>\n",
              "      <th>1</th>\n",
              "      <td>602</td>\n",
              "      <td>409</td>\n",
              "      <td>235</td>\n",
              "      <td>0.574572</td>\n",
              "      <td>0.679402</td>\n",
              "    </tr>\n",
              "    <tr>\n",
              "      <th>2</th>\n",
              "      <td>700</td>\n",
              "      <td>422</td>\n",
              "      <td>292</td>\n",
              "      <td>0.691943</td>\n",
              "      <td>0.602857</td>\n",
              "    </tr>\n",
              "    <tr>\n",
              "      <th>3</th>\n",
              "      <td>560</td>\n",
              "      <td>324</td>\n",
              "      <td>134</td>\n",
              "      <td>0.413580</td>\n",
              "      <td>0.578571</td>\n",
              "    </tr>\n",
              "    <tr>\n",
              "      <th>4</th>\n",
              "      <td>161</td>\n",
              "      <td>131</td>\n",
              "      <td>93</td>\n",
              "      <td>0.709924</td>\n",
              "      <td>0.813665</td>\n",
              "    </tr>\n",
              "    <tr>\n",
              "      <th>...</th>\n",
              "      <td>...</td>\n",
              "      <td>...</td>\n",
              "      <td>...</td>\n",
              "      <td>...</td>\n",
              "      <td>...</td>\n",
              "    </tr>\n",
              "    <tr>\n",
              "      <th>49993</th>\n",
              "      <td>2631</td>\n",
              "      <td>1399</td>\n",
              "      <td>325</td>\n",
              "      <td>0.232309</td>\n",
              "      <td>0.531737</td>\n",
              "    </tr>\n",
              "    <tr>\n",
              "      <th>49994</th>\n",
              "      <td>702</td>\n",
              "      <td>286</td>\n",
              "      <td>94</td>\n",
              "      <td>0.328671</td>\n",
              "      <td>0.407407</td>\n",
              "    </tr>\n",
              "    <tr>\n",
              "      <th>49995</th>\n",
              "      <td>2161</td>\n",
              "      <td>1163</td>\n",
              "      <td>245</td>\n",
              "      <td>0.210662</td>\n",
              "      <td>0.538177</td>\n",
              "    </tr>\n",
              "    <tr>\n",
              "      <th>49996</th>\n",
              "      <td>2732</td>\n",
              "      <td>1467</td>\n",
              "      <td>255</td>\n",
              "      <td>0.173824</td>\n",
              "      <td>0.536969</td>\n",
              "    </tr>\n",
              "    <tr>\n",
              "      <th>49997</th>\n",
              "      <td>758</td>\n",
              "      <td>372</td>\n",
              "      <td>88</td>\n",
              "      <td>0.236559</td>\n",
              "      <td>0.490765</td>\n",
              "    </tr>\n",
              "  </tbody>\n",
              "</table>\n",
              "<p>49998 rows × 5 columns</p>\n",
              "</div>\n",
              "      <button class=\"colab-df-convert\" onclick=\"convertToInteractive('df-1b3b6e19-2003-4a7a-90d2-f686fb3f6de9')\"\n",
              "              title=\"Convert this dataframe to an interactive table.\"\n",
              "              style=\"display:none;\">\n",
              "        \n",
              "  <svg xmlns=\"http://www.w3.org/2000/svg\" height=\"24px\"viewBox=\"0 0 24 24\"\n",
              "       width=\"24px\">\n",
              "    <path d=\"M0 0h24v24H0V0z\" fill=\"none\"/>\n",
              "    <path d=\"M18.56 5.44l.94 2.06.94-2.06 2.06-.94-2.06-.94-.94-2.06-.94 2.06-2.06.94zm-11 1L8.5 8.5l.94-2.06 2.06-.94-2.06-.94L8.5 2.5l-.94 2.06-2.06.94zm10 10l.94 2.06.94-2.06 2.06-.94-2.06-.94-.94-2.06-.94 2.06-2.06.94z\"/><path d=\"M17.41 7.96l-1.37-1.37c-.4-.4-.92-.59-1.43-.59-.52 0-1.04.2-1.43.59L10.3 9.45l-7.72 7.72c-.78.78-.78 2.05 0 2.83L4 21.41c.39.39.9.59 1.41.59.51 0 1.02-.2 1.41-.59l7.78-7.78 2.81-2.81c.8-.78.8-2.07 0-2.86zM5.41 20L4 18.59l7.72-7.72 1.47 1.35L5.41 20z\"/>\n",
              "  </svg>\n",
              "      </button>\n",
              "      \n",
              "  <style>\n",
              "    .colab-df-container {\n",
              "      display:flex;\n",
              "      flex-wrap:wrap;\n",
              "      gap: 12px;\n",
              "    }\n",
              "\n",
              "    .colab-df-convert {\n",
              "      background-color: #E8F0FE;\n",
              "      border: none;\n",
              "      border-radius: 50%;\n",
              "      cursor: pointer;\n",
              "      display: none;\n",
              "      fill: #1967D2;\n",
              "      height: 32px;\n",
              "      padding: 0 0 0 0;\n",
              "      width: 32px;\n",
              "    }\n",
              "\n",
              "    .colab-df-convert:hover {\n",
              "      background-color: #E2EBFA;\n",
              "      box-shadow: 0px 1px 2px rgba(60, 64, 67, 0.3), 0px 1px 3px 1px rgba(60, 64, 67, 0.15);\n",
              "      fill: #174EA6;\n",
              "    }\n",
              "\n",
              "    [theme=dark] .colab-df-convert {\n",
              "      background-color: #3B4455;\n",
              "      fill: #D2E3FC;\n",
              "    }\n",
              "\n",
              "    [theme=dark] .colab-df-convert:hover {\n",
              "      background-color: #434B5C;\n",
              "      box-shadow: 0px 1px 3px 1px rgba(0, 0, 0, 0.15);\n",
              "      filter: drop-shadow(0px 1px 2px rgba(0, 0, 0, 0.3));\n",
              "      fill: #FFFFFF;\n",
              "    }\n",
              "  </style>\n",
              "\n",
              "      <script>\n",
              "        const buttonEl =\n",
              "          document.querySelector('#df-1b3b6e19-2003-4a7a-90d2-f686fb3f6de9 button.colab-df-convert');\n",
              "        buttonEl.style.display =\n",
              "          google.colab.kernel.accessAllowed ? 'block' : 'none';\n",
              "\n",
              "        async function convertToInteractive(key) {\n",
              "          const element = document.querySelector('#df-1b3b6e19-2003-4a7a-90d2-f686fb3f6de9');\n",
              "          const dataTable =\n",
              "            await google.colab.kernel.invokeFunction('convertToInteractive',\n",
              "                                                     [key], {});\n",
              "          if (!dataTable) return;\n",
              "\n",
              "          const docLinkHtml = 'Like what you see? Visit the ' +\n",
              "            '<a target=\"_blank\" href=https://colab.research.google.com/notebooks/data_table.ipynb>data table notebook</a>'\n",
              "            + ' to learn more about interactive tables.';\n",
              "          element.innerHTML = '';\n",
              "          dataTable['output_type'] = 'display_data';\n",
              "          await google.colab.output.renderOutput(dataTable, element);\n",
              "          const docLink = document.createElement('div');\n",
              "          docLink.innerHTML = docLinkHtml;\n",
              "          element.appendChild(docLink);\n",
              "        }\n",
              "      </script>\n",
              "    </div>\n",
              "  </div>\n",
              "  "
            ]
          },
          "metadata": {},
          "execution_count": 64
        }
      ],
      "source": [
        "def load_ru_victors():\n",
        "    '''Загрузить данные по России, \n",
        "       выбрать, переименовать и вычислить поля'''\n",
        "    new_cols_dict = {\n",
        "        'Number of voters included in voters list':'Электорат',\n",
        "        'Number of valid ballots':'Действительные бюллетени',\n",
        "        'United Russia':'Победитель'      \n",
        "        }\n",
        "    newcols = list(new_cols_dict.values())    \n",
        "    df = ru_data.rename( columns=new_cols_dict )[newcols]  \n",
        "    df['Доля победителя'] = df['Победитель'] / df['Действительные бюллетени']  \n",
        "    df['Явка']            = df['Действительные бюллетени'] / df['Электорат']              \n",
        "    return df \n",
        "load_ru_victors()"
      ]
    },
    {
      "cell_type": "code",
      "execution_count": 65,
      "id": "5ceed437",
      "metadata": {
        "scrolled": true,
        "id": "5ceed437",
        "outputId": "4260e89e-43bc-4b07-c050-8be6ed92a820",
        "colab": {
          "base_uri": "https://localhost:8080/",
          "height": 449
        }
      },
      "outputs": [
        {
          "output_type": "display_data",
          "data": {
            "text/plain": [
              "<Figure size 640x480 with 1 Axes>"
            ],
            "image/png": "[encoded data removed]"
          },
          "metadata": {}
        }
      ],
      "source": [
        "load_ru_victors()['Явка'].hist(bins=20)\n",
        "plt.xlabel('Явка в России') \n",
        "plt.ylabel('Частота')\n",
        "plt.show()"
      ]
    },
    {
      "cell_type": "markdown",
      "id": "784d9cec",
      "metadata": {
        "scrolled": true,
        "id": "784d9cec"
      },
      "source": [
        "## Данные по Британии"
      ]
    },
    {
      "cell_type": "code",
      "execution_count": 66,
      "id": "1f9e6582",
      "metadata": {
        "scrolled": true,
        "id": "1f9e6582",
        "outputId": "85b6f060-7335-4697-ec92-1077f7110c50",
        "colab": {
          "base_uri": "https://localhost:8080/"
        }
      },
      "outputs": [
        {
          "output_type": "execute_result",
          "data": {
            "text/plain": [
              "Index(['Press Association Reference', 'Constituency Name', 'Region',\n",
              "       'Election Year', 'Electorate', 'Votes', 'AC', 'AD', 'AGS', 'APNI',\n",
              "       ...\n",
              "       'UKIP', 'UPS', 'UV', 'VCCA', 'Vote', 'Wessex Reg', 'WRP', 'You',\n",
              "       'Youth', 'YRDPL'],\n",
              "      dtype='object', length=144)"
            ]
          },
          "metadata": {},
          "execution_count": 66
        }
      ],
      "source": [
        "load_uk().columns"
      ]
    },
    {
      "cell_type": "code",
      "execution_count": 67,
      "id": "63124cca",
      "metadata": {
        "scrolled": false,
        "id": "63124cca",
        "outputId": "68972c27-1f1d-48aa-cf7e-99ae43785dda",
        "colab": {
          "base_uri": "https://localhost:8080/",
          "height": 424
        }
      },
      "outputs": [
        {
          "output_type": "execute_result",
          "data": {
            "text/plain": [
              "     Электорат  Действительные бюллетени  Победитель  Доля победителя  \\\n",
              "0      50838.0                     30958      4411.0         0.142483   \n",
              "1      44593.0                     29966     10734.0         0.358206   \n",
              "2      64808.0                     37701      4666.0         0.123763   \n",
              "3      64031.0                     43034      8914.0         0.207139   \n",
              "4      66110.0                     45195     13678.0         0.302644   \n",
              "..         ...                       ...         ...              ...   \n",
              "646    50075.0                     34444      7744.0         0.224829   \n",
              "647    76439.0                     46483     12122.0         0.260784   \n",
              "648    75939.0                     53300     22912.0         0.429869   \n",
              "649    80105.0                     51254     24328.0         0.474656   \n",
              "650        NaN                  29687604         NaN              NaN   \n",
              "\n",
              "         Явка  \n",
              "0    0.608954  \n",
              "1    0.671989  \n",
              "2    0.581734  \n",
              "3    0.672081  \n",
              "4    0.683633  \n",
              "..        ...  \n",
              "646  0.687848  \n",
              "647  0.608106  \n",
              "648  0.701879  \n",
              "649  0.639835  \n",
              "650       NaN  \n",
              "\n",
              "[651 rows x 5 columns]"
            ],
            "text/html": [
              "\n",
              "  <div id=\"df-b0ad4eaa-9089-4864-9bc6-dbcd0ed64458\">\n",
              "    <div class=\"colab-df-container\">\n",
              "      <div>\n",
              "<style scoped>\n",
              "    .dataframe tbody tr th:only-of-type {\n",
              "        vertical-align: middle;\n",
              "    }\n",
              "\n",
              "    .dataframe tbody tr th {\n",
              "        vertical-align: top;\n",
              "    }\n",
              "\n",
              "    .dataframe thead th {\n",
              "        text-align: right;\n",
              "    }\n",
              "</style>\n",
              "<table border=\"1\" class=\"dataframe\">\n",
              "  <thead>\n",
              "    <tr style=\"text-align: right;\">\n",
              "      <th></th>\n",
              "      <th>Электорат</th>\n",
              "      <th>Действительные бюллетени</th>\n",
              "      <th>Победитель</th>\n",
              "      <th>Доля победителя</th>\n",
              "      <th>Явка</th>\n",
              "    </tr>\n",
              "  </thead>\n",
              "  <tbody>\n",
              "    <tr>\n",
              "      <th>0</th>\n",
              "      <td>50838.0</td>\n",
              "      <td>30958</td>\n",
              "      <td>4411.0</td>\n",
              "      <td>0.142483</td>\n",
              "      <td>0.608954</td>\n",
              "    </tr>\n",
              "    <tr>\n",
              "      <th>1</th>\n",
              "      <td>44593.0</td>\n",
              "      <td>29966</td>\n",
              "      <td>10734.0</td>\n",
              "      <td>0.358206</td>\n",
              "      <td>0.671989</td>\n",
              "    </tr>\n",
              "    <tr>\n",
              "      <th>2</th>\n",
              "      <td>64808.0</td>\n",
              "      <td>37701</td>\n",
              "      <td>4666.0</td>\n",
              "      <td>0.123763</td>\n",
              "      <td>0.581734</td>\n",
              "    </tr>\n",
              "    <tr>\n",
              "      <th>3</th>\n",
              "      <td>64031.0</td>\n",
              "      <td>43034</td>\n",
              "      <td>8914.0</td>\n",
              "      <td>0.207139</td>\n",
              "      <td>0.672081</td>\n",
              "    </tr>\n",
              "    <tr>\n",
              "      <th>4</th>\n",
              "      <td>66110.0</td>\n",
              "      <td>45195</td>\n",
              "      <td>13678.0</td>\n",
              "      <td>0.302644</td>\n",
              "      <td>0.683633</td>\n",
              "    </tr>\n",
              "    <tr>\n",
              "      <th>...</th>\n",
              "      <td>...</td>\n",
              "      <td>...</td>\n",
              "      <td>...</td>\n",
              "      <td>...</td>\n",
              "      <td>...</td>\n",
              "    </tr>\n",
              "    <tr>\n",
              "      <th>646</th>\n",
              "      <td>50075.0</td>\n",
              "      <td>34444</td>\n",
              "      <td>7744.0</td>\n",
              "      <td>0.224829</td>\n",
              "      <td>0.687848</td>\n",
              "    </tr>\n",
              "    <tr>\n",
              "      <th>647</th>\n",
              "      <td>76439.0</td>\n",
              "      <td>46483</td>\n",
              "      <td>12122.0</td>\n",
              "      <td>0.260784</td>\n",
              "      <td>0.608106</td>\n",
              "    </tr>\n",
              "    <tr>\n",
              "      <th>648</th>\n",
              "      <td>75939.0</td>\n",
              "      <td>53300</td>\n",
              "      <td>22912.0</td>\n",
              "      <td>0.429869</td>\n",
              "      <td>0.701879</td>\n",
              "    </tr>\n",
              "    <tr>\n",
              "      <th>649</th>\n",
              "      <td>80105.0</td>\n",
              "      <td>51254</td>\n",
              "      <td>24328.0</td>\n",
              "      <td>0.474656</td>\n",
              "      <td>0.639835</td>\n",
              "    </tr>\n",
              "    <tr>\n",
              "      <th>650</th>\n",
              "      <td>NaN</td>\n",
              "      <td>29687604</td>\n",
              "      <td>NaN</td>\n",
              "      <td>NaN</td>\n",
              "      <td>NaN</td>\n",
              "    </tr>\n",
              "  </tbody>\n",
              "</table>\n",
              "<p>651 rows × 5 columns</p>\n",
              "</div>\n",
              "      <button class=\"colab-df-convert\" onclick=\"convertToInteractive('df-b0ad4eaa-9089-4864-9bc6-dbcd0ed64458')\"\n",
              "              title=\"Convert this dataframe to an interactive table.\"\n",
              "              style=\"display:none;\">\n",
              "        \n",
              "  <svg xmlns=\"http://www.w3.org/2000/svg\" height=\"24px\"viewBox=\"0 0 24 24\"\n",
              "       width=\"24px\">\n",
              "    <path d=\"M0 0h24v24H0V0z\" fill=\"none\"/>\n",
              "    <path d=\"M18.56 5.44l.94 2.06.94-2.06 2.06-.94-2.06-.94-.94-2.06-.94 2.06-2.06.94zm-11 1L8.5 8.5l.94-2.06 2.06-.94-2.06-.94L8.5 2.5l-.94 2.06-2.06.94zm10 10l.94 2.06.94-2.06 2.06-.94-2.06-.94-.94-2.06-.94 2.06-2.06.94z\"/><path d=\"M17.41 7.96l-1.37-1.37c-.4-.4-.92-.59-1.43-.59-.52 0-1.04.2-1.43.59L10.3 9.45l-7.72 7.72c-.78.78-.78 2.05 0 2.83L4 21.41c.39.39.9.59 1.41.59.51 0 1.02-.2 1.41-.59l7.78-7.78 2.81-2.81c.8-.78.8-2.07 0-2.86zM5.41 20L4 18.59l7.72-7.72 1.47 1.35L5.41 20z\"/>\n",
              "  </svg>\n",
              "      </button>\n",
              "      \n",
              "  <style>\n",
              "    .colab-df-container {\n",
              "      display:flex;\n",
              "      flex-wrap:wrap;\n",
              "      gap: 12px;\n",
              "    }\n",
              "\n",
              "    .colab-df-convert {\n",
              "      background-color: #E8F0FE;\n",
              "      border: none;\n",
              "      border-radius: 50%;\n",
              "      cursor: pointer;\n",
              "      display: none;\n",
              "      fill: #1967D2;\n",
              "      height: 32px;\n",
              "      padding: 0 0 0 0;\n",
              "      width: 32px;\n",
              "    }\n",
              "\n",
              "    .colab-df-convert:hover {\n",
              "      background-color: #E2EBFA;\n",
              "      box-shadow: 0px 1px 2px rgba(60, 64, 67, 0.3), 0px 1px 3px 1px rgba(60, 64, 67, 0.15);\n",
              "      fill: #174EA6;\n",
              "    }\n",
              "\n",
              "    [theme=dark] .colab-df-convert {\n",
              "      background-color: #3B4455;\n",
              "      fill: #D2E3FC;\n",
              "    }\n",
              "\n",
              "    [theme=dark] .colab-df-convert:hover {\n",
              "      background-color: #434B5C;\n",
              "      box-shadow: 0px 1px 3px 1px rgba(0, 0, 0, 0.15);\n",
              "      filter: drop-shadow(0px 1px 2px rgba(0, 0, 0, 0.3));\n",
              "      fill: #FFFFFF;\n",
              "    }\n",
              "  </style>\n",
              "\n",
              "      <script>\n",
              "        const buttonEl =\n",
              "          document.querySelector('#df-b0ad4eaa-9089-4864-9bc6-dbcd0ed64458 button.colab-df-convert');\n",
              "        buttonEl.style.display =\n",
              "          google.colab.kernel.accessAllowed ? 'block' : 'none';\n",
              "\n",
              "        async function convertToInteractive(key) {\n",
              "          const element = document.querySelector('#df-b0ad4eaa-9089-4864-9bc6-dbcd0ed64458');\n",
              "          const dataTable =\n",
              "            await google.colab.kernel.invokeFunction('convertToInteractive',\n",
              "                                                     [key], {});\n",
              "          if (!dataTable) return;\n",
              "\n",
              "          const docLinkHtml = 'Like what you see? Visit the ' +\n",
              "            '<a target=\"_blank\" href=https://colab.research.google.com/notebooks/data_table.ipynb>data table notebook</a>'\n",
              "            + ' to learn more about interactive tables.';\n",
              "          element.innerHTML = '';\n",
              "          dataTable['output_type'] = 'display_data';\n",
              "          await google.colab.output.renderOutput(dataTable, element);\n",
              "          const docLink = document.createElement('div');\n",
              "          docLink.innerHTML = docLinkHtml;\n",
              "          element.appendChild(docLink);\n",
              "        }\n",
              "      </script>\n",
              "    </div>\n",
              "  </div>\n",
              "  "
            ]
          },
          "metadata": {},
          "execution_count": 67
        }
      ],
      "source": [
        "def load_uk_victors():\n",
        "    '''Загрузить данные по Британии, \n",
        "       выбрать, переименовать и вычислить поля'''\n",
        "    new_cols_dict = {\n",
        "        'Electorate':'Электорат',\n",
        "        'Votes':'Действительные бюллетени',\n",
        "        'Con':'Победитель'      \n",
        "        }\n",
        "    newcols = list(new_cols_dict.values())    \n",
        "    df = load_uk().rename( columns=new_cols_dict )[newcols]  \n",
        "    df['Доля победителя'] = df['Победитель'] / df['Действительные бюллетени']  \n",
        "    df['Явка']            = df['Действительные бюллетени'] / df['Электорат']              \n",
        "    return df\n",
        "load_uk_victors()"
      ]
    },
    {
      "cell_type": "code",
      "execution_count": 68,
      "id": "bd70cba3",
      "metadata": {
        "scrolled": false,
        "id": "bd70cba3",
        "outputId": "4abfcd5d-d3e5-48bb-e5a7-2e6058a5e167",
        "colab": {
          "base_uri": "https://localhost:8080/",
          "height": 449
        }
      },
      "outputs": [
        {
          "output_type": "display_data",
          "data": {
            "text/plain": [
              "<Figure size 640x480 with 1 Axes>"
            ],
            "image/png": "[encoded data removed]"
          },
          "metadata": {}
        }
      ],
      "source": [
        "load_uk_victors()['Явка'].hist(bins=20)\n",
        "plt.xlabel('Явка в Британии') \n",
        "plt.ylabel('Частота')\n",
        "plt.show()"
      ]
    },
    {
      "cell_type": "markdown",
      "id": "8ab703f8",
      "metadata": {
        "scrolled": true,
        "id": "8ab703f8"
      },
      "source": [
        "## Функция массы вероятности"
      ]
    },
    {
      "cell_type": "code",
      "execution_count": 69,
      "id": "155e8c08",
      "metadata": {
        "scrolled": true,
        "id": "155e8c08",
        "outputId": "8da8a163-0ef0-4052-bc9c-c973ced4fe7d",
        "colab": {
          "base_uri": "https://localhost:8080/",
          "height": 449
        }
      },
      "outputs": [
        {
          "output_type": "display_data",
          "data": {
            "text/plain": [
              "<Figure size 640x480 with 1 Axes>"
            ],
            "image/png": "[encoded data removed]"
          },
          "metadata": {}
        }
      ],
      "source": [
        "def plot_as_pmf(dt, label, ax):\n",
        "    '''График функции вероятности дискретной случайной величины\n",
        "       (или функции массы вероятности)'''\n",
        "    s   = pd.cut(dt, bins=40, labels=False)      # разбить на 40 корзин\n",
        "    pmf = s.value_counts().sort_index() / len(s) # подсчитать кво в корзинах\n",
        "    newax = pmf.plot(label=label, grid=True, ax=ax)   \n",
        "    return newax\n",
        "\n",
        "def ex_1_32():\n",
        "    '''Сопоставление данных явки по Великобритании и РФ,\n",
        "       данные нормализованы на основе функции массы вероятностей'''\n",
        "    ax = plot_as_pmf(load_uk_victors()['Явка'], 'Великобритания', None)\n",
        "    plot_as_pmf(load_ru_victors()['Явка'], 'Россия', ax)\n",
        "    plt.xlabel('Интервальные группы явки')   # Частотные корзины\n",
        "    plt.ylabel('Вероятность')\n",
        "    plt.legend(loc='best')\n",
        "    plt.show()\n",
        "ex_1_32()"
      ]
    },
    {
      "cell_type": "code",
      "execution_count": 70,
      "id": "e85e4a64",
      "metadata": {
        "scrolled": true,
        "id": "e85e4a64",
        "outputId": "7449f134-5df3-4658-ddcb-728775db8668",
        "colab": {
          "base_uri": "https://localhost:8080/",
          "height": 449
        }
      },
      "outputs": [
        {
          "output_type": "display_data",
          "data": {
            "text/plain": [
              "<Figure size 640x480 with 1 Axes>"
            ],
            "image/png": "[encoded data removed]"
          },
          "metadata": {}
        }
      ],
      "source": [
        "def ex_1_33():\n",
        "    '''Показать диаграмму рассеяния \n",
        "       выборов в Великобритании'''\n",
        "    df = load_uk_victors()[['Явка','Доля победителя']]\n",
        "    df.plot.scatter(0, 1, s=3)\n",
        "    plt.xlabel('Явка')\n",
        "    plt.ylabel('Доля победителя')\n",
        "    plt.show()\n",
        "ex_1_33()"
      ]
    },
    {
      "cell_type": "code",
      "execution_count": 71,
      "id": "4b8cf241",
      "metadata": {
        "scrolled": true,
        "id": "4b8cf241",
        "outputId": "3ecd2dea-5ac0-4e59-b0e2-a7645b10435c",
        "colab": {
          "base_uri": "https://localhost:8080/",
          "height": 449
        }
      },
      "outputs": [
        {
          "output_type": "display_data",
          "data": {
            "text/plain": [
              "<Figure size 640x480 with 1 Axes>"
            ],
            "image/png": "[encoded data removed]"
          },
          "metadata": {}
        }
      ],
      "source": [
        "def ex_1_34():\n",
        "    '''Показать диаграмму рассеяния выборов в РФ'''\n",
        "    df = load_ru_victors()[ ['Явка', 'Доля победителя'] ]\n",
        "    df.plot.scatter(0, 1, s=3)\n",
        "    plt.xlabel('Явка')\n",
        "    plt.ylabel('Доля победителя')\n",
        "    plt.show()\n",
        "ex_1_34()"
      ]
    }
  ],
  "metadata": {
    "kernelspec": {
      "display_name": "Python 3 (ipykernel)",
      "language": "python",
      "name": "python3"
    },
    "language_info": {
      "codemirror_mode": {
        "name": "ipython",
        "version": 3
      },
      "file_extension": ".py",
      "mimetype": "text/x-python",
      "name": "python",
      "nbconvert_exporter": "python",
      "pygments_lexer": "ipython3",
      "version": "3.9.12"
    },
    "toc": {
      "base_numbering": 1,
      "nav_menu": {},
      "number_sections": true,
      "sideBar": true,
      "skip_h1_title": false,
      "title_cell": "Table of Contents",
      "title_sidebar": "Contents",
      "toc_cell": true,
      "toc_position": {},
      "toc_section_display": true,
      "toc_window_display": false
    },
    "colab": {
      "provenance": []
    }
  },
  "nbformat": 4,
  "nbformat_minor": 5
}